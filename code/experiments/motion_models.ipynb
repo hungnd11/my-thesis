{
 "cells": [
  {
   "cell_type": "markdown",
   "metadata": {},
   "source": [
    "# Experiment with Motion Models\n",
    "\n",
    "- This notebook contains code for experiment with motion models. The purpose of the notebook is to study the error of motion models, which are commonly used in research.\n",
    "- In this study, we assume that the heading of the user is identical to the heading of the mobile phone and the heading values are computed from quaternions.\n",
    "- In this study, we explore three step models and three stride-length models, which are commonly used in passive crowd-sourcing methods for WiFi radio map construction.\n",
    "  - Step Models: local acceleration variance based, angular rate based, auto-correlation based.\n",
    "  - Stride-Length Models: random, Weinberg, ZUPT"
   ]
  },
  {
   "cell_type": "markdown",
   "metadata": {},
   "source": [
    "## Import"
   ]
  },
  {
   "cell_type": "code",
   "execution_count": 1,
   "metadata": {},
   "outputs": [],
   "source": [
    "import sys\n",
    "import os\n",
    "\n",
    "# Add paths for resolve \n",
    "INDOOR_COMPETITION_20_DIR = os.path.join(\"..\", \"indoor-location-competition-20\")\n",
    "sys.path.append(INDOOR_COMPETITION_20_DIR)\n",
    "CODE_DIR = \"..\"\n",
    "sys.path.append(CODE_DIR)"
   ]
  },
  {
   "cell_type": "code",
   "execution_count": 2,
   "metadata": {},
   "outputs": [],
   "source": [
    "import pandas as pd\n",
    "import numpy as np\n",
    "import matplotlib.pyplot as plt\n",
    "\n",
    "from glob import glob\n",
    "from tqdm import tqdm\n",
    "\n",
    "from py_indoor_loc.model import read_data_file\n",
    "from py_indoor_loc.floor_map import read_floor_data, extract_floor_map_geometries, scale\n",
    "from py_indoor_loc.plot import plot_floor_map\n",
    "from py_indoor_loc.sensors import compute_earth_acce_heading, compute_earth_acce_heading_ahrs\n",
    "from py_indoor_loc.pdr.common import compute_step_heading, compute_rel_positions\n",
    "from py_indoor_loc.pdr.common import RelPositionPredictor, compute_cumulative_step_positions\n",
    "from py_indoor_loc.pdr.step_detection import AcfSDModel, LocalAcceVarianceSDModel, AngularRateSDModel\n",
    "from py_indoor_loc.pdr.stride_length import WeinbergSLModel, ZUPTSLModel, RandomSLModel"
   ]
  },
  {
   "cell_type": "code",
   "execution_count": 16,
   "metadata": {},
   "outputs": [],
   "source": [
    "from py_indoor_loc.pdr.stride_length import AbcSLModel"
   ]
  },
  {
   "cell_type": "code",
   "execution_count": 3,
   "metadata": {},
   "outputs": [],
   "source": [
    "from compute_f import compute_step_positions"
   ]
  },
  {
   "cell_type": "code",
   "execution_count": 4,
   "metadata": {},
   "outputs": [],
   "source": [
    "np.random.seed(19)"
   ]
  },
  {
   "cell_type": "code",
   "execution_count": 5,
   "metadata": {},
   "outputs": [],
   "source": [
    "def compute_path_length(waypoint):\n",
    "  return np.linalg.norm(waypoint[1:, 1:] - waypoint[:-1, 1:], axis=1).sum()\n",
    "\n",
    "\n",
    "def compute_path_duration_secs(waypoint):\n",
    "  return (waypoint[-1, 0] - waypoint[0, 0]) / 1000"
   ]
  },
  {
   "cell_type": "code",
   "execution_count": 6,
   "metadata": {},
   "outputs": [],
   "source": [
    "def compute_error_metrics(actual_step_positions: np.ndarray, \n",
    "                          pred_step_positions: np.ndarray,\n",
    "                          duration_step_size: int = 10) -> dict:\n",
    "                          \n",
    "  actual_path_length = compute_path_length(actual_step_positions[:, 1:])\n",
    "  predicted_path_length = compute_path_length(pred_step_positions[:, 1:])\n",
    "\n",
    "  actual_path_rel_timestamps = actual_step_positions[:, 0] - actual_step_positions[0, 0]\n",
    "  pred_path_rel_timestamps = pred_step_positions[:, 0] - pred_step_positions[0, 0]\n",
    "\n",
    "  n_segments = np.ceil(actual_path_rel_timestamps[-1] / duration_step_size / 1000).astype(np.int64)\n",
    "\n",
    "  segments = []\n",
    "  segment_ae = []\n",
    "  segment_ape = []\n",
    "  for k in range(n_segments):\n",
    "    segments.append((k + 1) * duration_step_size)\n",
    "    pl_true = compute_path_length(actual_step_positions[actual_path_rel_timestamps < (k + 1) * duration_step_size * 1000, 1:])\n",
    "    pl_pred = compute_path_length(pred_step_positions[pred_path_rel_timestamps < (k + 1) * duration_step_size * 1000, 1:])\n",
    "    segment_ae.append(abs(pl_pred - pl_true))\n",
    "    segment_ape.append(abs(pl_pred - pl_true) / (pl_true + 1e-6))\n",
    "\n",
    "  return {\n",
    "    \"actual_distance\": actual_path_length,\n",
    "    \"predicted_distance\": predicted_path_length,\n",
    "    \"distance_error\": abs(predicted_path_length - actual_path_length),\n",
    "    \"distance_error_pct\": abs((predicted_path_length - actual_path_length) / (actual_path_length + 1e-6)),\n",
    "    \"segments\": segments,\n",
    "    \"segment_distance_error\": segment_ae,\n",
    "    \"segment_distance_error_pct\": segment_ape,\n",
    "  }"
   ]
  },
  {
   "cell_type": "markdown",
   "metadata": {},
   "source": [
    "## Experiment Setup"
   ]
  },
  {
   "cell_type": "markdown",
   "metadata": {},
   "source": [
    "### Track Selection"
   ]
  },
  {
   "cell_type": "markdown",
   "metadata": {},
   "source": [
    "* In this experiment, we only consider"
   ]
  },
  {
   "cell_type": "code",
   "execution_count": 7,
   "metadata": {},
   "outputs": [],
   "source": [
    "TRAIN_DATA_DIR = \"../../data/train/\""
   ]
  },
  {
   "cell_type": "code",
   "execution_count": 8,
   "metadata": {},
   "outputs": [],
   "source": [
    "def list_tracks(site_id: str, floor_id: str, data_dir: str) -> list[str]:\n",
    "  track_floor_path = os.path.join(data_dir, site_id, floor_id)\n",
    "  return list(glob(track_floor_path + \"/*.txt\"))"
   ]
  },
  {
   "cell_type": "markdown",
   "metadata": {},
   "source": [
    "* Compute length and duration of tracks"
   ]
  },
  {
   "cell_type": "code",
   "execution_count": 9,
   "metadata": {},
   "outputs": [],
   "source": [
    "track_list = []\n",
    "\n",
    "for site_path in glob(TRAIN_DATA_DIR + \"/*\"):\n",
    "  site_id = os.path.basename(site_path)\n",
    "\n",
    "  for floor_path in glob(site_path + \"/*\"):\n",
    "    floor_id = os.path.basename(floor_path)\n",
    "    \n",
    "    for track_path in glob(floor_path + \"/*.txt\"):\n",
    "      track_id = os.path.basename(track_path)[:-len(\".txt\")]\n",
    "      \n",
    "      track_list.append((site_id, floor_id, track_id))"
   ]
  },
  {
   "cell_type": "code",
   "execution_count": 10,
   "metadata": {},
   "outputs": [
    {
     "data": {
      "text/plain": [
       "26925"
      ]
     },
     "execution_count": 10,
     "metadata": {},
     "output_type": "execute_result"
    }
   ],
   "source": [
    "len(track_list)"
   ]
  },
  {
   "cell_type": "code",
   "execution_count": 9,
   "metadata": {},
   "outputs": [
    {
     "name": "stderr",
     "output_type": "stream",
     "text": [
      " 19%|█▉        | 5133/26925 [06:02<28:22, 12.80it/s]  "
     ]
    },
    {
     "name": "stdout",
     "output_type": "stream",
     "text": [
      "Failed to processing line: ['1559699299331', 'TYPE_ROTATION_VECTOR', '0.17401376', '-0.0031055238']. Caused by list index out of range\n"
     ]
    },
    {
     "name": "stderr",
     "output_type": "stream",
     "text": [
      "100%|██████████| 26925/26925 [42:10<00:00, 10.64it/s]  \n"
     ]
    }
   ],
   "source": [
    "count = 0\n",
    "\n",
    "track_stats = []\n",
    "\n",
    "for (site_id, floor_id, track_id) in tqdm(track_list):\n",
    "  track_path = os.path.join(TRAIN_DATA_DIR, site_id, floor_id, track_id + \".txt\")\n",
    "  try:\n",
    "    path_data_collection = read_data_file(track_path)\n",
    "    duration = compute_path_duration_secs(path_data_collection.waypoint)\n",
    "    track_stats.append({\n",
    "      \"site_id\": site_id,\n",
    "      \"floor_id\": floor_id,\n",
    "      \"track_id\": track_id,\n",
    "      \"duration\": compute_path_duration_secs(path_data_collection.waypoint),\n",
    "      \"length\": compute_path_length(path_data_collection.waypoint),\n",
    "    })\n",
    "\n",
    "    if duration > 60:\n",
    "      count += 1\n",
    "\n",
    "    if count >= 30000:\n",
    "      break\n",
    "  \n",
    "  except Exception as ignored:\n",
    "    pass"
   ]
  },
  {
   "cell_type": "code",
   "execution_count": 11,
   "metadata": {},
   "outputs": [
    {
     "ename": "NameError",
     "evalue": "name 'track_stats' is not defined",
     "output_type": "error",
     "traceback": [
      "\u001b[0;31m---------------------------------------------------------------------------\u001b[0m",
      "\u001b[0;31mNameError\u001b[0m                                 Traceback (most recent call last)",
      "Cell \u001b[0;32mIn[11], line 1\u001b[0m\n\u001b[0;32m----> 1\u001b[0m track_stats_df \u001b[39m=\u001b[39m pd\u001b[39m.\u001b[39mDataFrame(track_stats)\n\u001b[1;32m      2\u001b[0m track_stats_df\u001b[39m.\u001b[39mto_csv(\u001b[39m\"\u001b[39m\u001b[39m../../data/track_stats.csv\u001b[39m\u001b[39m\"\u001b[39m, index\u001b[39m=\u001b[39m\u001b[39mFalse\u001b[39;00m)\n",
      "\u001b[0;31mNameError\u001b[0m: name 'track_stats' is not defined"
     ]
    }
   ],
   "source": [
    "track_stats_df = pd.DataFrame(track_stats)\n",
    "track_stats_df.to_csv(\"../../data/track_stats.csv\", index=False)"
   ]
  },
  {
   "cell_type": "code",
   "execution_count": 12,
   "metadata": {},
   "outputs": [],
   "source": [
    "track_stats_df = pd.read_csv(\"../../data/track_stats.csv\")"
   ]
  },
  {
   "cell_type": "code",
   "execution_count": 13,
   "metadata": {},
   "outputs": [],
   "source": [
    "track_stats_df = track_stats_df[track_stats_df[\"length\"] >= 50].reset_index(drop=True)"
   ]
  },
  {
   "cell_type": "markdown",
   "metadata": {},
   "source": [
    "### Model Setup"
   ]
  },
  {
   "cell_type": "markdown",
   "metadata": {},
   "source": [
    "* **Hyper-parameter tuning**"
   ]
  },
  {
   "cell_type": "code",
   "execution_count": 14,
   "metadata": {},
   "outputs": [],
   "source": [
    "def run_experiment(site_floor_tracks, model):\n",
    "\n",
    "  experiment_results = []\n",
    "\n",
    "  for site_id, floor_id, track_id in site_floor_tracks:\n",
    "    track_path = os.path.join(TRAIN_DATA_DIR, site_id, floor_id, track_id + \".txt\")\n",
    "\n",
    "    try:\n",
    "      path_data_collection = read_data_file(track_path)\n",
    "      actual_step_positions = compute_step_positions(path_data_collection.acce, path_data_collection.ahrs, path_data_collection.waypoint)\n",
    "\n",
    "      pred_rel_positions = model.predict(path_data_collection)\n",
    "      pred_step_positions = compute_cumulative_step_positions(pred_rel_positions)\n",
    "      result = compute_error_metrics(actual_step_positions, pred_step_positions)\n",
    "      result.update({\n",
    "        \"site_id\": site_id,\n",
    "        \"floor_id\": floor_id,\n",
    "        \"track_id\": track_id,\n",
    "        \"model_name\": model.name,\n",
    "      })\n",
    "      experiment_results.append(result)\n",
    "\n",
    "    except Exception as e:\n",
    "      print(f\"Error: {type(e)}: {str(e)}\")\n",
    "  \n",
    "  return experiment_results"
   ]
  },
  {
   "cell_type": "code",
   "execution_count": 15,
   "metadata": {},
   "outputs": [],
   "source": [
    "def model_selection(params, models, site_floor_tracks):\n",
    "\n",
    "  min_mape = float(\"inf\")\n",
    "  best_param = None\n",
    "  best_model = None\n",
    "\n",
    "  for param, model in tqdm(list(zip(params, models))):\n",
    "    try:\n",
    "      experiment_results = run_experiment(site_floor_tracks, model)\n",
    "      experiment_results = pd.DataFrame(experiment_results)\n",
    "\n",
    "      mape = experiment_results[\"distance_error_pct\"].mean()\n",
    "\n",
    "      if mape < min_mape:\n",
    "        best_param = param\n",
    "        best_model = model\n",
    "        min_mape = mape\n",
    "    except Exception as ignored:\n",
    "      pass\n",
    "    \n",
    "  return best_param, best_model"
   ]
  },
  {
   "cell_type": "code",
   "execution_count": 37,
   "metadata": {},
   "outputs": [],
   "source": [
    "def create_zupt_sl_model(step_detector, **kwargs):\n",
    "  return ZUPTSLModel(step_detector, **kwargs)"
   ]
  },
  {
   "cell_type": "code",
   "execution_count": 17,
   "metadata": {},
   "outputs": [],
   "source": [
    "from py_indoor_loc.model import PathDataCollection\n",
    "\n",
    "class FixedSLModel(AbcSLModel):\n",
    "\n",
    "  def __init__(self, stride_length) -> None:\n",
    "    super().__init__()\n",
    "    self._stride_length = stride_length\n",
    "\n",
    "  @property\n",
    "  def stride_length(self):\n",
    "    return self._stride_length\n",
    "\n",
    "  def predict(self, path_data_collection: PathDataCollection) -> np.ndarray:\n",
    "    n = len(path_data_collection.acce)\n",
    "    return np.ones(n, dtype=np.float32) * self._stride_length\n",
    "    \n",
    "  def returns_at_step(self) -> bool:\n",
    "    return False"
   ]
  },
  {
   "cell_type": "code",
   "execution_count": 18,
   "metadata": {},
   "outputs": [],
   "source": [
    "fixed_sl_model = FixedSLModel(0.8)"
   ]
  },
  {
   "cell_type": "markdown",
   "metadata": {},
   "source": [
    "* Finding the optimal hyper-parameters for angular rate sd model"
   ]
  },
  {
   "cell_type": "code",
   "execution_count": 22,
   "metadata": {},
   "outputs": [],
   "source": [
    "site_floor_track_model_selection = track_stats_df.sample(frac=0.05)[[\"site_id\", \"floor_id\", \"track_id\"]].values"
   ]
  },
  {
   "cell_type": "code",
   "execution_count": 24,
   "metadata": {},
   "outputs": [
    {
     "data": {
      "text/plain": [
       "340"
      ]
     },
     "execution_count": 24,
     "metadata": {},
     "output_type": "execute_result"
    }
   ],
   "source": [
    "len(site_floor_track_model_selection)"
   ]
  },
  {
   "cell_type": "code",
   "execution_count": 19,
   "metadata": {},
   "outputs": [],
   "source": [
    "params = []\n",
    "test_models = []\n",
    "\n",
    "for median_filter_window_size in [4, 8, 16]:\n",
    "  for stance_threshold in [0.1, 0.2, 0.4, 0.6, 0.8, 1.0]:\n",
    "    sd_model = AngularRateSDModel(median_filter_window_size=median_filter_window_size, stance_threshold=stance_threshold)\n",
    "    params.append((median_filter_window_size, stance_threshold))\n",
    "    test_models.append(\n",
    "      RelPositionPredictor(\n",
    "        sd_model=sd_model,\n",
    "        sl_model=fixed_sl_model,\n",
    "        name=\"angular_rate + fixed_sl\")\n",
    "    )"
   ]
  },
  {
   "cell_type": "code",
   "execution_count": 25,
   "metadata": {},
   "outputs": [
    {
     "name": "stderr",
     "output_type": "stream",
     "text": [
      "  0%|          | 0/18 [00:00<?, ?it/s]"
     ]
    },
    {
     "name": "stdout",
     "output_type": "stream",
     "text": [
      "Error: <class 'AssertionError'>: \n"
     ]
    },
    {
     "name": "stderr",
     "output_type": "stream",
     "text": [
      "  6%|▌         | 1/18 [00:05<01:25,  5.01s/it]"
     ]
    },
    {
     "name": "stdout",
     "output_type": "stream",
     "text": [
      "Error: <class 'AssertionError'>: \n"
     ]
    },
    {
     "name": "stderr",
     "output_type": "stream",
     "text": [
      " 33%|███▎      | 6/18 [00:29<00:58,  4.88s/it]"
     ]
    },
    {
     "name": "stdout",
     "output_type": "stream",
     "text": [
      "Error: <class 'AssertionError'>: \n",
      "Error: <class 'AssertionError'>: \n",
      "Error: <class 'AssertionError'>: \n"
     ]
    },
    {
     "name": "stderr",
     "output_type": "stream",
     "text": [
      " 39%|███▉      | 7/18 [00:34<00:53,  4.87s/it]"
     ]
    },
    {
     "name": "stdout",
     "output_type": "stream",
     "text": [
      "Error: <class 'AssertionError'>: \n"
     ]
    },
    {
     "name": "stderr",
     "output_type": "stream",
     "text": [
      " 67%|██████▋   | 12/18 [00:58<00:29,  4.86s/it]"
     ]
    },
    {
     "name": "stdout",
     "output_type": "stream",
     "text": [
      "Error: <class 'AssertionError'>: \n",
      "Error: <class 'AssertionError'>: \n",
      "Error: <class 'AssertionError'>: \n",
      "Error: <class 'AssertionError'>: \n"
     ]
    },
    {
     "name": "stderr",
     "output_type": "stream",
     "text": [
      " 72%|███████▏  | 13/18 [01:03<00:24,  4.82s/it]"
     ]
    },
    {
     "name": "stdout",
     "output_type": "stream",
     "text": [
      "Error: <class 'AssertionError'>: \n",
      "Error: <class 'AssertionError'>: \n"
     ]
    },
    {
     "name": "stderr",
     "output_type": "stream",
     "text": [
      "100%|██████████| 18/18 [01:27<00:00,  4.86s/it]\n"
     ]
    }
   ],
   "source": [
    "best_param, best_model = model_selection(params, test_models, site_floor_track_model_selection[:10])"
   ]
  },
  {
   "cell_type": "code",
   "execution_count": 26,
   "metadata": {},
   "outputs": [
    {
     "data": {
      "text/plain": [
       "(8, 0.4)"
      ]
     },
     "execution_count": 26,
     "metadata": {},
     "output_type": "execute_result"
    }
   ],
   "source": [
    "best_param"
   ]
  },
  {
   "cell_type": "code",
   "execution_count": 27,
   "metadata": {},
   "outputs": [],
   "source": [
    "best_result = run_experiment(site_floor_track_model_selection, best_model)"
   ]
  },
  {
   "cell_type": "code",
   "execution_count": 28,
   "metadata": {},
   "outputs": [],
   "source": [
    "best_result = pd.DataFrame(best_result)"
   ]
  },
  {
   "cell_type": "code",
   "execution_count": 31,
   "metadata": {},
   "outputs": [
    {
     "data": {
      "text/plain": [
       "(0.32321050284769853, 0.24300587479262326)"
      ]
     },
     "execution_count": 31,
     "metadata": {},
     "output_type": "execute_result"
    }
   ],
   "source": [
    "best_result[\"distance_error_pct\"].mean(), best_result[\"distance_error_pct\"].std()"
   ]
  },
  {
   "cell_type": "markdown",
   "metadata": {},
   "source": [
    "* Finding the optimal hyper-parameters for local acceleration variance model"
   ]
  },
  {
   "cell_type": "code",
   "execution_count": 32,
   "metadata": {},
   "outputs": [],
   "source": [
    "params = []\n",
    "test_models = []\n",
    "\n",
    "for window_size in [4, 8, 16]:\n",
    "  for swing_threshold in [1, 2, 3, 4]:\n",
    "    for stance_threshold in np.arange(0.5, swing_threshold / 2 + 1e-6, 0.5):\n",
    "      sd_model = LocalAcceVarianceSDModel(window_size=window_size, swing_threshold=swing_threshold, stance_threshold=stance_threshold, use_ahrs=True)\n",
    "      params.append((window_size, swing_threshold, stance_threshold))\n",
    "      test_models.append(\n",
    "        RelPositionPredictor(\n",
    "          sd_model=sd_model,\n",
    "          sl_model=fixed_sl_model,\n",
    "          name=\"local_acc_variance + fixed_sl\")\n",
    "      )"
   ]
  },
  {
   "cell_type": "code",
   "execution_count": 33,
   "metadata": {},
   "outputs": [
    {
     "name": "stderr",
     "output_type": "stream",
     "text": [
      " 10%|█         | 3/30 [00:18<02:42,  6.02s/it]"
     ]
    },
    {
     "name": "stdout",
     "output_type": "stream",
     "text": [
      "Error: <class 'AssertionError'>: \n",
      "Error: <class 'AssertionError'>: \n",
      "Error: <class 'AssertionError'>: \n",
      "Error: <class 'AssertionError'>: \n"
     ]
    },
    {
     "name": "stderr",
     "output_type": "stream",
     "text": [
      " 13%|█▎        | 4/30 [00:24<02:34,  5.96s/it]"
     ]
    },
    {
     "name": "stdout",
     "output_type": "stream",
     "text": [
      "Error: <class 'AssertionError'>: \n"
     ]
    },
    {
     "name": "stderr",
     "output_type": "stream",
     "text": [
      " 20%|██        | 6/30 [00:36<02:24,  6.00s/it]"
     ]
    },
    {
     "name": "stdout",
     "output_type": "stream",
     "text": [
      "Error: <class 'AssertionError'>: \n",
      "Error: <class 'AssertionError'>: \n",
      "Error: <class 'AssertionError'>: \n",
      "Error: <class 'AssertionError'>: \n",
      "Error: <class 'AssertionError'>: \n",
      "Error: <class 'AssertionError'>: \n",
      "Error: <class 'AssertionError'>: \n"
     ]
    },
    {
     "name": "stderr",
     "output_type": "stream",
     "text": [
      " 23%|██▎       | 7/30 [00:42<02:17,  5.99s/it]"
     ]
    },
    {
     "name": "stdout",
     "output_type": "stream",
     "text": [
      "Error: <class 'AssertionError'>: \n",
      "Error: <class 'AssertionError'>: \n",
      "Error: <class 'AssertionError'>: \n",
      "Error: <class 'AssertionError'>: \n",
      "Error: <class 'AssertionError'>: \n"
     ]
    },
    {
     "name": "stderr",
     "output_type": "stream",
     "text": [
      " 27%|██▋       | 8/30 [00:48<02:12,  6.00s/it]"
     ]
    },
    {
     "name": "stdout",
     "output_type": "stream",
     "text": [
      "Error: <class 'AssertionError'>: \n"
     ]
    },
    {
     "name": "stderr",
     "output_type": "stream",
     "text": [
      " 30%|███       | 9/30 [00:54<02:06,  6.01s/it]"
     ]
    },
    {
     "name": "stdout",
     "output_type": "stream",
     "text": [
      "Error: <class 'AssertionError'>: \n"
     ]
    },
    {
     "name": "stderr",
     "output_type": "stream",
     "text": [
      " 37%|███▋      | 11/30 [01:06<01:54,  6.02s/it]"
     ]
    },
    {
     "name": "stdout",
     "output_type": "stream",
     "text": [
      "Error: <class 'AssertionError'>: \n",
      "Error: <class 'AssertionError'>: \n",
      "Error: <class 'AssertionError'>: \n",
      "Error: <class 'AssertionError'>: \n",
      "Error: <class 'AssertionError'>: \n",
      "Error: <class 'AssertionError'>: \n"
     ]
    },
    {
     "name": "stderr",
     "output_type": "stream",
     "text": [
      " 40%|████      | 12/30 [01:12<01:49,  6.06s/it]"
     ]
    },
    {
     "name": "stdout",
     "output_type": "stream",
     "text": [
      "Error: <class 'AssertionError'>: \n"
     ]
    },
    {
     "name": "stderr",
     "output_type": "stream",
     "text": [
      " 43%|████▎     | 13/30 [01:18<01:42,  6.04s/it]"
     ]
    },
    {
     "name": "stdout",
     "output_type": "stream",
     "text": [
      "Error: <class 'AssertionError'>: \n",
      "Error: <class 'AssertionError'>: \n",
      "Error: <class 'AssertionError'>: \n",
      "Error: <class 'AssertionError'>: \n",
      "Error: <class 'AssertionError'>: \n",
      "Error: <class 'AssertionError'>: \n",
      "Error: <class 'AssertionError'>: \n",
      "Error: <class 'AssertionError'>: \n",
      "Error: <class 'AssertionError'>: \n"
     ]
    },
    {
     "name": "stderr",
     "output_type": "stream",
     "text": [
      " 47%|████▋     | 14/30 [01:24<01:35,  5.99s/it]"
     ]
    },
    {
     "name": "stdout",
     "output_type": "stream",
     "text": [
      "Error: <class 'AssertionError'>: \n",
      "Error: <class 'AssertionError'>: \n",
      "Error: <class 'AssertionError'>: \n",
      "Error: <class 'AssertionError'>: \n",
      "Error: <class 'AssertionError'>: \n"
     ]
    },
    {
     "name": "stderr",
     "output_type": "stream",
     "text": [
      " 50%|█████     | 15/30 [01:30<01:29,  5.98s/it]"
     ]
    },
    {
     "name": "stdout",
     "output_type": "stream",
     "text": [
      "Error: <class 'AssertionError'>: \n",
      "Error: <class 'AssertionError'>: \n"
     ]
    },
    {
     "name": "stderr",
     "output_type": "stream",
     "text": [
      " 53%|█████▎    | 16/30 [01:36<01:23,  5.96s/it]"
     ]
    },
    {
     "name": "stdout",
     "output_type": "stream",
     "text": [
      "Error: <class 'AssertionError'>: \n",
      "Error: <class 'AssertionError'>: \n",
      "Error: <class 'AssertionError'>: \n",
      "Error: <class 'AssertionError'>: \n",
      "Error: <class 'AssertionError'>: \n",
      "Error: <class 'AssertionError'>: \n",
      "Error: <class 'AssertionError'>: \n",
      "Error: <class 'AssertionError'>: \n",
      "Error: <class 'AssertionError'>: \n"
     ]
    },
    {
     "name": "stderr",
     "output_type": "stream",
     "text": [
      " 57%|█████▋    | 17/30 [01:42<01:17,  5.96s/it]"
     ]
    },
    {
     "name": "stdout",
     "output_type": "stream",
     "text": [
      "Error: <class 'AssertionError'>: \n",
      "Error: <class 'AssertionError'>: \n",
      "Error: <class 'AssertionError'>: \n",
      "Error: <class 'AssertionError'>: \n",
      "Error: <class 'AssertionError'>: \n",
      "Error: <class 'AssertionError'>: \n",
      "Error: <class 'AssertionError'>: \n",
      "Error: <class 'AssertionError'>: \n"
     ]
    },
    {
     "name": "stderr",
     "output_type": "stream",
     "text": [
      " 60%|██████    | 18/30 [01:48<01:12,  6.03s/it]"
     ]
    },
    {
     "name": "stdout",
     "output_type": "stream",
     "text": [
      "Error: <class 'AssertionError'>: \n",
      "Error: <class 'AssertionError'>: \n",
      "Error: <class 'AssertionError'>: \n",
      "Error: <class 'AssertionError'>: \n",
      "Error: <class 'AssertionError'>: \n",
      "Error: <class 'AssertionError'>: \n"
     ]
    },
    {
     "name": "stderr",
     "output_type": "stream",
     "text": [
      " 63%|██████▎   | 19/30 [01:54<01:07,  6.09s/it]"
     ]
    },
    {
     "name": "stdout",
     "output_type": "stream",
     "text": [
      "Error: <class 'AssertionError'>: \n",
      "Error: <class 'AssertionError'>: \n"
     ]
    },
    {
     "name": "stderr",
     "output_type": "stream",
     "text": [
      " 67%|██████▋   | 20/30 [02:00<01:00,  6.09s/it]"
     ]
    },
    {
     "name": "stdout",
     "output_type": "stream",
     "text": [
      "Error: <class 'AssertionError'>: \n",
      "Error: <class 'AssertionError'>: \n",
      "Error: <class 'AssertionError'>: \n",
      "Error: <class 'AssertionError'>: \n"
     ]
    },
    {
     "name": "stderr",
     "output_type": "stream",
     "text": [
      " 70%|███████   | 21/30 [02:06<00:54,  6.05s/it]"
     ]
    },
    {
     "name": "stdout",
     "output_type": "stream",
     "text": [
      "Error: <class 'AssertionError'>: \n",
      "Error: <class 'AssertionError'>: \n",
      "Error: <class 'AssertionError'>: \n",
      "Error: <class 'AssertionError'>: \n",
      "Error: <class 'AssertionError'>: \n",
      "Error: <class 'AssertionError'>: \n",
      "Error: <class 'AssertionError'>: \n",
      "Error: <class 'AssertionError'>: \n",
      "Error: <class 'AssertionError'>: \n",
      "Error: <class 'AssertionError'>: \n"
     ]
    },
    {
     "name": "stderr",
     "output_type": "stream",
     "text": [
      " 73%|███████▎  | 22/30 [02:12<00:48,  6.05s/it]"
     ]
    },
    {
     "name": "stdout",
     "output_type": "stream",
     "text": [
      "Error: <class 'AssertionError'>: \n",
      "Error: <class 'AssertionError'>: \n",
      "Error: <class 'AssertionError'>: \n",
      "Error: <class 'AssertionError'>: \n",
      "Error: <class 'AssertionError'>: \n",
      "Error: <class 'AssertionError'>: \n",
      "Error: <class 'AssertionError'>: \n",
      "Error: <class 'AssertionError'>: \n",
      "Error: <class 'AssertionError'>: \n"
     ]
    },
    {
     "name": "stderr",
     "output_type": "stream",
     "text": [
      " 77%|███████▋  | 23/30 [02:18<00:42,  6.06s/it]"
     ]
    },
    {
     "name": "stdout",
     "output_type": "stream",
     "text": [
      "Error: <class 'AssertionError'>: \n",
      "Error: <class 'AssertionError'>: \n",
      "Error: <class 'AssertionError'>: \n",
      "Error: <class 'AssertionError'>: \n",
      "Error: <class 'AssertionError'>: \n",
      "Error: <class 'AssertionError'>: \n",
      "Error: <class 'AssertionError'>: \n",
      "Error: <class 'AssertionError'>: \n",
      "Error: <class 'AssertionError'>: \n"
     ]
    },
    {
     "name": "stderr",
     "output_type": "stream",
     "text": [
      " 80%|████████  | 24/30 [02:24<00:36,  6.07s/it]"
     ]
    },
    {
     "name": "stdout",
     "output_type": "stream",
     "text": [
      "Error: <class 'AssertionError'>: \n",
      "Error: <class 'AssertionError'>: \n",
      "Error: <class 'AssertionError'>: \n",
      "Error: <class 'AssertionError'>: \n",
      "Error: <class 'AssertionError'>: \n",
      "Error: <class 'AssertionError'>: \n",
      "Error: <class 'AssertionError'>: \n",
      "Error: <class 'AssertionError'>: \n",
      "Error: <class 'AssertionError'>: \n"
     ]
    },
    {
     "name": "stderr",
     "output_type": "stream",
     "text": [
      " 83%|████████▎ | 25/30 [02:30<00:30,  6.01s/it]"
     ]
    },
    {
     "name": "stdout",
     "output_type": "stream",
     "text": [
      "Error: <class 'AssertionError'>: \n",
      "Error: <class 'AssertionError'>: \n",
      "Error: <class 'AssertionError'>: \n",
      "Error: <class 'AssertionError'>: \n",
      "Error: <class 'AssertionError'>: \n",
      "Error: <class 'AssertionError'>: \n"
     ]
    },
    {
     "name": "stderr",
     "output_type": "stream",
     "text": [
      " 87%|████████▋ | 26/30 [02:36<00:24,  6.05s/it]"
     ]
    },
    {
     "name": "stdout",
     "output_type": "stream",
     "text": [
      "Error: <class 'AssertionError'>: \n",
      "Error: <class 'AssertionError'>: \n",
      "Error: <class 'AssertionError'>: \n",
      "Error: <class 'AssertionError'>: \n",
      "Error: <class 'AssertionError'>: \n",
      "Error: <class 'AssertionError'>: \n",
      "Error: <class 'AssertionError'>: \n",
      "Error: <class 'AssertionError'>: \n",
      "Error: <class 'AssertionError'>: \n"
     ]
    },
    {
     "name": "stderr",
     "output_type": "stream",
     "text": [
      " 90%|█████████ | 27/30 [02:42<00:18,  6.08s/it]"
     ]
    },
    {
     "name": "stdout",
     "output_type": "stream",
     "text": [
      "Error: <class 'AssertionError'>: \n",
      "Error: <class 'AssertionError'>: \n",
      "Error: <class 'AssertionError'>: \n",
      "Error: <class 'AssertionError'>: \n",
      "Error: <class 'AssertionError'>: \n",
      "Error: <class 'AssertionError'>: \n",
      "Error: <class 'AssertionError'>: \n",
      "Error: <class 'AssertionError'>: \n",
      "Error: <class 'AssertionError'>: \n",
      "Error: <class 'AssertionError'>: \n"
     ]
    },
    {
     "name": "stderr",
     "output_type": "stream",
     "text": [
      " 93%|█████████▎| 28/30 [02:49<00:12,  6.11s/it]"
     ]
    },
    {
     "name": "stdout",
     "output_type": "stream",
     "text": [
      "Error: <class 'AssertionError'>: \n",
      "Error: <class 'AssertionError'>: \n",
      "Error: <class 'AssertionError'>: \n",
      "Error: <class 'AssertionError'>: \n",
      "Error: <class 'AssertionError'>: \n",
      "Error: <class 'AssertionError'>: \n",
      "Error: <class 'AssertionError'>: \n",
      "Error: <class 'AssertionError'>: \n",
      "Error: <class 'AssertionError'>: \n"
     ]
    },
    {
     "name": "stderr",
     "output_type": "stream",
     "text": [
      " 97%|█████████▋| 29/30 [02:55<00:06,  6.08s/it]"
     ]
    },
    {
     "name": "stdout",
     "output_type": "stream",
     "text": [
      "Error: <class 'AssertionError'>: \n",
      "Error: <class 'AssertionError'>: \n",
      "Error: <class 'AssertionError'>: \n",
      "Error: <class 'AssertionError'>: \n",
      "Error: <class 'AssertionError'>: \n",
      "Error: <class 'AssertionError'>: \n",
      "Error: <class 'AssertionError'>: \n",
      "Error: <class 'AssertionError'>: \n"
     ]
    },
    {
     "name": "stderr",
     "output_type": "stream",
     "text": [
      "100%|██████████| 30/30 [03:01<00:00,  6.04s/it]\n"
     ]
    }
   ],
   "source": [
    "best_param, best_model = model_selection(params, test_models, site_floor_track_model_selection[:10])"
   ]
  },
  {
   "cell_type": "code",
   "execution_count": 34,
   "metadata": {},
   "outputs": [
    {
     "data": {
      "text/plain": [
       "(4, 2, 1.0)"
      ]
     },
     "execution_count": 34,
     "metadata": {},
     "output_type": "execute_result"
    }
   ],
   "source": [
    "best_param"
   ]
  },
  {
   "cell_type": "code",
   "execution_count": 75,
   "metadata": {},
   "outputs": [
    {
     "name": "stdout",
     "output_type": "stream",
     "text": [
      "Error: <class 'AssertionError'>: \n",
      "Error: <class 'AssertionError'>: \n",
      "Error: <class 'AssertionError'>: \n",
      "Error: <class 'AssertionError'>: \n",
      "Error: <class 'AssertionError'>: \n",
      "Error: <class 'AssertionError'>: \n",
      "Error: <class 'AssertionError'>: \n",
      "Error: <class 'AssertionError'>: \n",
      "Error: <class 'AssertionError'>: \n",
      "Error: <class 'AssertionError'>: \n",
      "Error: <class 'AssertionError'>: \n",
      "Error: <class 'AssertionError'>: \n"
     ]
    }
   ],
   "source": [
    "df = pd.DataFrame(run_experiment(site_floor_track_model_selection[:20], best_model))"
   ]
  },
  {
   "cell_type": "code",
   "execution_count": null,
   "metadata": {},
   "outputs": [],
   "source": []
  },
  {
   "cell_type": "code",
   "execution_count": null,
   "metadata": {},
   "outputs": [],
   "source": []
  },
  {
   "cell_type": "code",
   "execution_count": 38,
   "metadata": {},
   "outputs": [],
   "source": [
    "local_acce_var_step_detector = LocalAcceVarianceSDModel(window_size=4, swing_threshold=2, stance_threshold=1, use_ahrs=True)\n",
    "acf_step_detector = AcfSDModel(t_min=40, t_max=100, use_ahrs=True)\n",
    "angular_rate_step_detector = AngularRateSDModel(median_filter_window_size=8, stance_threshold=0.4)\n",
    "\n",
    "weinberg_sl_model = WeinbergSLModel(window_size=16, use_ahrs=True)\n",
    "random_sl_model = RandomSLModel(base_sl=1.0, noise_pct=0.15)\n",
    "\n",
    "zupt_local_acce_var_sl_model = create_zupt_sl_model(local_acce_var_step_detector, window_size=4, fs=50, use_ahrs=True)\n",
    "zupt_acf_sl_model = create_zupt_sl_model(acf_step_detector, window_size=4, fs=50, use_ahrs=True)\n",
    "zupt_angular_rate_sl_model = create_zupt_sl_model(angular_rate_step_detector, window_size=4, fs=50, use_ahrs=True)"
   ]
  },
  {
   "cell_type": "code",
   "execution_count": 39,
   "metadata": {},
   "outputs": [],
   "source": [
    "acf_weinberg = RelPositionPredictor(sd_model=acf_step_detector,\n",
    "                                    sl_model=weinberg_sl_model,\n",
    "                                    name=\"acf + weinberg\")\n",
    "\n",
    "local_acce_var_weinberg = RelPositionPredictor(\n",
    "    sd_model=local_acce_var_step_detector,\n",
    "    sl_model=weinberg_sl_model,\n",
    "    name=\"local_acce_var + weinberg\")\n",
    "\n",
    "angular_rate_weinberg = RelPositionPredictor(\n",
    "    sd_model=angular_rate_step_detector,\n",
    "    sl_model=weinberg_sl_model,\n",
    "    name=\"angular_rate + weinberg\")\n",
    "\n",
    "acf_random = RelPositionPredictor(sd_model=acf_step_detector,\n",
    "                                  sl_model=random_sl_model,\n",
    "                                  name=\"acf + random\")\n",
    "\n",
    "local_acce_var_random = RelPositionPredictor(\n",
    "    sd_model=local_acce_var_step_detector,\n",
    "    sl_model=random_sl_model,\n",
    "    name=\"local_acce_var + random\")\n",
    "\n",
    "angular_rate_random = RelPositionPredictor(sd_model=angular_rate_step_detector,\n",
    "                                           sl_model=random_sl_model,\n",
    "                                           name=\"angular_rate + random\")\n",
    "\n",
    "acf_zupt = RelPositionPredictor(sd_model=zupt_acf_sl_model.step_detection_model,\n",
    "                                sl_model=zupt_acf_sl_model,\n",
    "                                name=\"acf + zupt\")\n",
    "\n",
    "local_acce_var_zupt = RelPositionPredictor(\n",
    "    sd_model=zupt_local_acce_var_sl_model.step_detection_model,\n",
    "    sl_model=zupt_local_acce_var_sl_model,\n",
    "    name=\"local_acce_var + zupt\")\n",
    "\n",
    "angular_rate_zupt = RelPositionPredictor(\n",
    "    sd_model=zupt_angular_rate_sl_model.step_detection_model,\n",
    "    sl_model=zupt_angular_rate_sl_model,\n",
    "    name=\"angular_rate + zupt\")\n",
    "\n",
    "models = [\n",
    "  acf_weinberg,\n",
    "  local_acce_var_weinberg,\n",
    "  angular_rate_weinberg,\n",
    "  acf_random,\n",
    "  local_acce_var_random,\n",
    "  angular_rate_random,\n",
    "  acf_zupt,\n",
    "  local_acce_var_zupt,\n",
    "  angular_rate_zupt\n",
    "]"
   ]
  },
  {
   "cell_type": "markdown",
   "metadata": {},
   "source": [
    "## Running Experiment"
   ]
  },
  {
   "cell_type": "code",
   "execution_count": 40,
   "metadata": {},
   "outputs": [],
   "source": [
    "from compute_f import compute_step_positions"
   ]
  },
  {
   "cell_type": "code",
   "execution_count": 43,
   "metadata": {},
   "outputs": [],
   "source": [
    "site_floor_tracks = track_stats_df[[\"site_id\", \"floor_id\", \"track_id\"]].values.tolist()"
   ]
  },
  {
   "cell_type": "code",
   "execution_count": 45,
   "metadata": {},
   "outputs": [
    {
     "name": "stderr",
     "output_type": "stream",
     "text": [
      "100%|██████████| 1/1 [00:03<00:00,  3.23s/it]\n"
     ]
    }
   ],
   "source": [
    "experiment_results = []\n",
    "\n",
    "for site_id, floor_id, track_id in tqdm(site_floor_tracks[:1]):\n",
    "  track_path = os.path.join(TRAIN_DATA_DIR, site_id, floor_id, track_id + \".txt\")\n",
    "\n",
    "  try:\n",
    "    path_data_collection = read_data_file(track_path)\n",
    "    actual_step_positions = compute_step_positions(path_data_collection.acce, path_data_collection.ahrs, path_data_collection.waypoint)\n",
    "\n",
    "    for model in models:\n",
    "      pred_rel_positions = model.predict(path_data_collection)\n",
    "      pred_step_positions = compute_cumulative_step_positions(pred_rel_positions)\n",
    "      result = compute_error_metrics(actual_step_positions, pred_step_positions)\n",
    "      result.update({\n",
    "        \"site_id\": site_id,\n",
    "        \"floor_id\": floor_id,\n",
    "        \"track_id\": track_id,\n",
    "        \"model_name\": model.name,\n",
    "      })\n",
    "      experiment_results.append(result)\n",
    "\n",
    "  except Exception as e:\n",
    "    print(f\"Error: {type(e)}: {str(e)}\")"
   ]
  },
  {
   "cell_type": "code",
   "execution_count": 46,
   "metadata": {},
   "outputs": [],
   "source": [
    "pd.DataFrame(experiment_results).to_csv(\"../../data/Results_PDR_20231010.csv\", sep=\";\")"
   ]
  },
  {
   "cell_type": "code",
   "execution_count": 47,
   "metadata": {},
   "outputs": [],
   "source": [
    "df = pd.read_csv(\"../../data/Results_PDR_20231010.csv\", sep=\";\", index_col=0)"
   ]
  },
  {
   "cell_type": "code",
   "execution_count": 48,
   "metadata": {},
   "outputs": [
    {
     "data": {
      "text/html": [
       "<div>\n",
       "<style scoped>\n",
       "    .dataframe tbody tr th:only-of-type {\n",
       "        vertical-align: middle;\n",
       "    }\n",
       "\n",
       "    .dataframe tbody tr th {\n",
       "        vertical-align: top;\n",
       "    }\n",
       "\n",
       "    .dataframe thead th {\n",
       "        text-align: right;\n",
       "    }\n",
       "</style>\n",
       "<table border=\"1\" class=\"dataframe\">\n",
       "  <thead>\n",
       "    <tr style=\"text-align: right;\">\n",
       "      <th></th>\n",
       "      <th>distance_error_pct</th>\n",
       "    </tr>\n",
       "    <tr>\n",
       "      <th>model_name</th>\n",
       "      <th></th>\n",
       "    </tr>\n",
       "  </thead>\n",
       "  <tbody>\n",
       "    <tr>\n",
       "      <th>acf + random</th>\n",
       "      <td>1.186621</td>\n",
       "    </tr>\n",
       "    <tr>\n",
       "      <th>acf + weinberg</th>\n",
       "      <td>0.035446</td>\n",
       "    </tr>\n",
       "    <tr>\n",
       "      <th>acf + zupt</th>\n",
       "      <td>0.230943</td>\n",
       "    </tr>\n",
       "    <tr>\n",
       "      <th>angular_rate + random</th>\n",
       "      <td>0.903521</td>\n",
       "    </tr>\n",
       "    <tr>\n",
       "      <th>angular_rate + weinberg</th>\n",
       "      <td>0.025556</td>\n",
       "    </tr>\n",
       "    <tr>\n",
       "      <th>angular_rate + zupt</th>\n",
       "      <td>3.658154</td>\n",
       "    </tr>\n",
       "    <tr>\n",
       "      <th>local_acce_var + random</th>\n",
       "      <td>0.532653</td>\n",
       "    </tr>\n",
       "    <tr>\n",
       "      <th>local_acce_var + weinberg</th>\n",
       "      <td>0.742868</td>\n",
       "    </tr>\n",
       "    <tr>\n",
       "      <th>local_acce_var + zupt</th>\n",
       "      <td>39.264539</td>\n",
       "    </tr>\n",
       "  </tbody>\n",
       "</table>\n",
       "</div>"
      ],
      "text/plain": [
       "                           distance_error_pct\n",
       "model_name                                   \n",
       "acf + random                         1.186621\n",
       "acf + weinberg                       0.035446\n",
       "acf + zupt                           0.230943\n",
       "angular_rate + random                0.903521\n",
       "angular_rate + weinberg              0.025556\n",
       "angular_rate + zupt                  3.658154\n",
       "local_acce_var + random              0.532653\n",
       "local_acce_var + weinberg            0.742868\n",
       "local_acce_var + zupt               39.264539"
      ]
     },
     "execution_count": 48,
     "metadata": {},
     "output_type": "execute_result"
    }
   ],
   "source": [
    "df[(df[\"actual_distance\"] >= 10) & (df[\"actual_distance\"] <= 100)].groupby(\"model_name\").agg({\"distance_error_pct\": \"median\"})"
   ]
  },
  {
   "cell_type": "code",
   "execution_count": null,
   "metadata": {},
   "outputs": [],
   "source": []
  }
 ],
 "metadata": {
  "kernelspec": {
   "display_name": "venv",
   "language": "python",
   "name": "python3"
  },
  "language_info": {
   "codemirror_mode": {
    "name": "ipython",
    "version": 3
   },
   "file_extension": ".py",
   "mimetype": "text/x-python",
   "name": "python",
   "nbconvert_exporter": "python",
   "pygments_lexer": "ipython3",
   "version": "3.11.5"
  },
  "orig_nbformat": 4
 },
 "nbformat": 4,
 "nbformat_minor": 2
}
