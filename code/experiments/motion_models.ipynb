{
 "cells": [
  {
   "cell_type": "markdown",
   "metadata": {},
   "source": [
    "# Experiment with Motion Models\n",
    "\n",
    "- This notebook contains code for experiment with motion models. The purpose of the notebook is to study the error of motion models, which are commonly used in research.\n",
    "- In this study, we assume that the heading of the user is identical to the heading of the mobile phone and the heading values are computed from quaternions.\n",
    "- In this study, we explore three step models and three stride-length models, which are commonly used in passive crowd-sourcing methods for WiFi radio map construction.\n",
    "  - Step Models: local acceleration variance based, angular rate based, auto-correlation based.\n",
    "  - Stride-Length Models: random, Weinberg, ZUPT"
   ]
  },
  {
   "cell_type": "markdown",
   "metadata": {},
   "source": [
    "## Import"
   ]
  },
  {
   "cell_type": "code",
   "execution_count": 1,
   "metadata": {},
   "outputs": [],
   "source": [
    "import sys\n",
    "import os\n",
    "\n",
    "# Add paths for resolve \n",
    "INDOOR_COMPETITION_20_DIR = os.path.join(\"..\", \"indoor-location-competition-20\")\n",
    "sys.path.append(INDOOR_COMPETITION_20_DIR)\n",
    "CODE_DIR = \"..\"\n",
    "sys.path.append(CODE_DIR)"
   ]
  },
  {
   "cell_type": "code",
   "execution_count": 2,
   "metadata": {},
   "outputs": [],
   "source": [
    "import pandas as pd\n",
    "import numpy as np\n",
    "import matplotlib.pyplot as plt\n",
    "\n",
    "from glob import glob\n",
    "from tqdm import tqdm\n",
    "\n",
    "from py_indoor_loc.model import read_data_file\n",
    "from py_indoor_loc.floor_map import read_floor_data, extract_floor_map_geometries, scale\n",
    "from py_indoor_loc.plot import plot_floor_map\n",
    "from py_indoor_loc.sensors import compute_earth_acce_heading, compute_earth_acce_heading_ahrs\n",
    "from py_indoor_loc.pdr.common import compute_step_heading, compute_rel_positions\n",
    "from py_indoor_loc.pdr.common import RelPositionPredictor, compute_cumulative_step_positions\n",
    "from py_indoor_loc.pdr.step_detection import AcfSDModel, LocalAcceVarianceSDModel, AngularRateSDModel\n",
    "from py_indoor_loc.pdr.stride_length import WeinbergSLModel, ZUPTSLModel, RandomSLModel"
   ]
  },
  {
   "cell_type": "code",
   "execution_count": 3,
   "metadata": {},
   "outputs": [],
   "source": [
    "np.random.seed(19)"
   ]
  },
  {
   "cell_type": "code",
   "execution_count": 99,
   "metadata": {},
   "outputs": [],
   "source": [
    "def compute_path_length(waypoint):\n",
    "  return np.linalg.norm(waypoint[1:, 1:] - waypoint[:-1, 1:], axis=1).sum()\n",
    "\n",
    "\n",
    "def compute_path_duration_secs(waypoint):\n",
    "  return (waypoint[-1, 0] - waypoint[0, 0]) / 1000"
   ]
  },
  {
   "cell_type": "markdown",
   "metadata": {},
   "source": [
    "## Experiment Setup"
   ]
  },
  {
   "cell_type": "markdown",
   "metadata": {},
   "source": [
    "### Track Selection"
   ]
  },
  {
   "cell_type": "markdown",
   "metadata": {},
   "source": [
    "* In this experiment, we only consider"
   ]
  },
  {
   "cell_type": "code",
   "execution_count": 16,
   "metadata": {},
   "outputs": [],
   "source": [
    "TRAIN_DATA_DIR = \"../../data/train/\""
   ]
  },
  {
   "cell_type": "code",
   "execution_count": 28,
   "metadata": {},
   "outputs": [],
   "source": [
    "def list_tracks(site_id: str, floor_id: str, data_dir: str) -> list[str]:\n",
    "  track_floor_path = os.path.join(data_dir, site_id, floor_id)\n",
    "  return list(glob(track_floor_path + \"/*.txt\"))"
   ]
  },
  {
   "cell_type": "markdown",
   "metadata": {},
   "source": [
    "* Compute length and duration of tracks"
   ]
  },
  {
   "cell_type": "code",
   "execution_count": 68,
   "metadata": {},
   "outputs": [],
   "source": [
    "track_list = []\n",
    "\n",
    "for site_path in glob(TRAIN_DATA_DIR + \"/*\"):\n",
    "  site_id = os.path.basename(site_path)\n",
    "\n",
    "  for floor_path in glob(site_path + \"/*\"):\n",
    "    floor_id = os.path.basename(floor_path)\n",
    "    \n",
    "    for track_path in glob(floor_path + \"/*.txt\"):\n",
    "      track_id = os.path.basename(track_path)[:-len(\".txt\")]\n",
    "      \n",
    "      track_list.append((site_id, floor_id, track_id))"
   ]
  },
  {
   "cell_type": "code",
   "execution_count": 69,
   "metadata": {},
   "outputs": [
    {
     "data": {
      "text/plain": [
       "26925"
      ]
     },
     "execution_count": 69,
     "metadata": {},
     "output_type": "execute_result"
    }
   ],
   "source": [
    "len(track_list)"
   ]
  },
  {
   "cell_type": "code",
   "execution_count": 100,
   "metadata": {},
   "outputs": [
    {
     "name": "stderr",
     "output_type": "stream",
     "text": [
      "  1%|          | 222/26925 [00:08<16:53, 26.36it/s]\n"
     ]
    },
    {
     "ename": "KeyboardInterrupt",
     "evalue": "",
     "output_type": "error",
     "traceback": [
      "\u001b[0;31m---------------------------------------------------------------------------\u001b[0m",
      "\u001b[0;31mKeyboardInterrupt\u001b[0m                         Traceback (most recent call last)",
      "Cell \u001b[0;32mIn[100], line 6\u001b[0m\n\u001b[1;32m      4\u001b[0m track_path \u001b[39m=\u001b[39m os\u001b[39m.\u001b[39mpath\u001b[39m.\u001b[39mjoin(TRAIN_DATA_DIR, site_id, floor_id, track_id \u001b[39m+\u001b[39m \u001b[39m\"\u001b[39m\u001b[39m.txt\u001b[39m\u001b[39m\"\u001b[39m)\n\u001b[1;32m      5\u001b[0m \u001b[39mtry\u001b[39;00m:\n\u001b[0;32m----> 6\u001b[0m   path_data_collection \u001b[39m=\u001b[39m read_data_file(track_path)\n\u001b[1;32m      7\u001b[0m   track_stats\u001b[39m.\u001b[39mappend({\n\u001b[1;32m      8\u001b[0m     \u001b[39m\"\u001b[39m\u001b[39msite_id\u001b[39m\u001b[39m\"\u001b[39m: site_id,\n\u001b[1;32m      9\u001b[0m     \u001b[39m\"\u001b[39m\u001b[39mfloor_id\u001b[39m\u001b[39m\"\u001b[39m: floor_id,\n\u001b[0;32m   (...)\u001b[0m\n\u001b[1;32m     12\u001b[0m     \u001b[39m\"\u001b[39m\u001b[39mlength\u001b[39m\u001b[39m\"\u001b[39m: compute_path_length(path_data_collection\u001b[39m.\u001b[39mwaypoint),\n\u001b[1;32m     13\u001b[0m   })\n\u001b[1;32m     15\u001b[0m \u001b[39mexcept\u001b[39;00m \u001b[39mException\u001b[39;00m \u001b[39mas\u001b[39;00m ignored:\n",
      "File \u001b[0;32m~/Studyspace/my-thesis/code/experiments/../py_indoor_loc/model.py:168\u001b[0m, in \u001b[0;36mread_data_file\u001b[0;34m(data_file_path)\u001b[0m\n\u001b[1;32m    165\u001b[0m \u001b[39mdef\u001b[39;00m \u001b[39mread_data_file\u001b[39m(data_file_path: \u001b[39mstr\u001b[39m) \u001b[39m-\u001b[39m\u001b[39m>\u001b[39m PathDataCollection:\n\u001b[1;32m    167\u001b[0m   \u001b[39mwith\u001b[39;00m \u001b[39mopen\u001b[39m(data_file_path, \u001b[39m'\u001b[39m\u001b[39mr\u001b[39m\u001b[39m'\u001b[39m, encoding\u001b[39m=\u001b[39m\u001b[39m'\u001b[39m\u001b[39mutf-8\u001b[39m\u001b[39m'\u001b[39m) \u001b[39mas\u001b[39;00m file:\n\u001b[0;32m--> 168\u001b[0m     \u001b[39mreturn\u001b[39;00m parse_data_text(file\u001b[39m.\u001b[39;49mreadlines())\n",
      "File \u001b[0;32m~/Studyspace/my-thesis/code/experiments/../py_indoor_loc/model.py:48\u001b[0m, in \u001b[0;36mparse_data_text\u001b[0;34m(data_lines)\u001b[0m\n\u001b[1;32m     41\u001b[0m \u001b[39mif\u001b[39;00m line_data[\u001b[39m1\u001b[39m] \u001b[39m==\u001b[39m \u001b[39m'\u001b[39m\u001b[39mTYPE_ACCELEROMETER\u001b[39m\u001b[39m'\u001b[39m:\n\u001b[1;32m     42\u001b[0m   acce\u001b[39m.\u001b[39mappend([\n\u001b[1;32m     43\u001b[0m       \u001b[39mint\u001b[39m(line_data[\u001b[39m0\u001b[39m]),\n\u001b[1;32m     44\u001b[0m       \u001b[39mfloat\u001b[39m(line_data[\u001b[39m2\u001b[39m]),\n\u001b[1;32m     45\u001b[0m       \u001b[39mfloat\u001b[39m(line_data[\u001b[39m3\u001b[39m]),\n\u001b[1;32m     46\u001b[0m       \u001b[39mfloat\u001b[39m(line_data[\u001b[39m4\u001b[39m])\n\u001b[1;32m     47\u001b[0m   ])\n\u001b[0;32m---> 48\u001b[0m   \u001b[39mcontinue\u001b[39;00m\n\u001b[1;32m     50\u001b[0m \u001b[39mif\u001b[39;00m line_data[\u001b[39m1\u001b[39m] \u001b[39m==\u001b[39m \u001b[39m'\u001b[39m\u001b[39mTYPE_ACCELEROMETER_UNCALIBRATED\u001b[39m\u001b[39m'\u001b[39m:\n\u001b[1;32m     51\u001b[0m   acce_uncali\u001b[39m.\u001b[39mappend([\n\u001b[1;32m     52\u001b[0m       \u001b[39mint\u001b[39m(line_data[\u001b[39m0\u001b[39m]),\n\u001b[1;32m     53\u001b[0m       \u001b[39mfloat\u001b[39m(line_data[\u001b[39m2\u001b[39m]),\n\u001b[1;32m     54\u001b[0m       \u001b[39mfloat\u001b[39m(line_data[\u001b[39m3\u001b[39m]),\n\u001b[1;32m     55\u001b[0m       \u001b[39mfloat\u001b[39m(line_data[\u001b[39m4\u001b[39m])\n\u001b[1;32m     56\u001b[0m   ])\n",
      "\u001b[0;31mKeyboardInterrupt\u001b[0m: "
     ]
    }
   ],
   "source": [
    "track_stats = []\n",
    "\n",
    "for (site_id, floor_id, track_id) in tqdm(track_list):\n",
    "  track_path = os.path.join(TRAIN_DATA_DIR, site_id, floor_id, track_id + \".txt\")\n",
    "  try:\n",
    "    path_data_collection = read_data_file(track_path)\n",
    "    track_stats.append({\n",
    "      \"site_id\": site_id,\n",
    "      \"floor_id\": floor_id,\n",
    "      \"track_id\": track_id,\n",
    "      \"duration\": compute_path_duration_secs(path_data_collection.waypoint),\n",
    "      \"length\": compute_path_length(path_data_collection.waypoint),\n",
    "    })\n",
    "  \n",
    "  except Exception as ignored:\n",
    "    pass"
   ]
  },
  {
   "cell_type": "code",
   "execution_count": 101,
   "metadata": {},
   "outputs": [],
   "source": [
    "track_stats_df = pd.DataFrame(track_stats)"
   ]
  },
  {
   "cell_type": "code",
   "execution_count": 102,
   "metadata": {},
   "outputs": [],
   "source": [
    "track_stats_df.to_csv(\"../../data/track_stats.csv\", index=False)"
   ]
  },
  {
   "cell_type": "code",
   "execution_count": 103,
   "metadata": {},
   "outputs": [
    {
     "data": {
      "text/html": [
       "<div>\n",
       "<style scoped>\n",
       "    .dataframe tbody tr th:only-of-type {\n",
       "        vertical-align: middle;\n",
       "    }\n",
       "\n",
       "    .dataframe tbody tr th {\n",
       "        vertical-align: top;\n",
       "    }\n",
       "\n",
       "    .dataframe thead th {\n",
       "        text-align: right;\n",
       "    }\n",
       "</style>\n",
       "<table border=\"1\" class=\"dataframe\">\n",
       "  <thead>\n",
       "    <tr style=\"text-align: right;\">\n",
       "      <th></th>\n",
       "      <th>site_id</th>\n",
       "      <th>floor_id</th>\n",
       "      <th>track_id</th>\n",
       "      <th>duration</th>\n",
       "      <th>length</th>\n",
       "    </tr>\n",
       "  </thead>\n",
       "  <tbody>\n",
       "    <tr>\n",
       "      <th>13</th>\n",
       "      <td>5a0546857ecc773753327266</td>\n",
       "      <td>B1</td>\n",
       "      <td>5e15731fa280850006f3d013</td>\n",
       "      <td>79.605</td>\n",
       "      <td>48.154400</td>\n",
       "    </tr>\n",
       "    <tr>\n",
       "      <th>14</th>\n",
       "      <td>5a0546857ecc773753327266</td>\n",
       "      <td>B1</td>\n",
       "      <td>5e157321a280850006f3d015</td>\n",
       "      <td>78.439</td>\n",
       "      <td>54.540528</td>\n",
       "    </tr>\n",
       "    <tr>\n",
       "      <th>33</th>\n",
       "      <td>5a0546857ecc773753327266</td>\n",
       "      <td>B1</td>\n",
       "      <td>5e1580c51506f2000638fc6a</td>\n",
       "      <td>89.977</td>\n",
       "      <td>66.943107</td>\n",
       "    </tr>\n",
       "    <tr>\n",
       "      <th>35</th>\n",
       "      <td>5a0546857ecc773753327266</td>\n",
       "      <td>B1</td>\n",
       "      <td>5e1580ccf4c3420006d520e0</td>\n",
       "      <td>107.339</td>\n",
       "      <td>90.026316</td>\n",
       "    </tr>\n",
       "    <tr>\n",
       "      <th>36</th>\n",
       "      <td>5a0546857ecc773753327266</td>\n",
       "      <td>B1</td>\n",
       "      <td>5e1580cff4c3420006d520e2</td>\n",
       "      <td>64.965</td>\n",
       "      <td>49.441569</td>\n",
       "    </tr>\n",
       "    <tr>\n",
       "      <th>52</th>\n",
       "      <td>5a0546857ecc773753327266</td>\n",
       "      <td>B1</td>\n",
       "      <td>5e15731ca280850006f3d011</td>\n",
       "      <td>88.834</td>\n",
       "      <td>55.475635</td>\n",
       "    </tr>\n",
       "    <tr>\n",
       "      <th>96</th>\n",
       "      <td>5a0546857ecc773753327266</td>\n",
       "      <td>B1</td>\n",
       "      <td>5e158f231506f2000638fd3d</td>\n",
       "      <td>77.260</td>\n",
       "      <td>66.685246</td>\n",
       "    </tr>\n",
       "    <tr>\n",
       "      <th>105</th>\n",
       "      <td>5a0546857ecc773753327266</td>\n",
       "      <td>B1</td>\n",
       "      <td>5e15be381506f2000638feba</td>\n",
       "      <td>77.009</td>\n",
       "      <td>52.048732</td>\n",
       "    </tr>\n",
       "    <tr>\n",
       "      <th>116</th>\n",
       "      <td>5a0546857ecc773753327266</td>\n",
       "      <td>F1</td>\n",
       "      <td>5e15a28d1506f2000638fd5f</td>\n",
       "      <td>72.789</td>\n",
       "      <td>54.645584</td>\n",
       "    </tr>\n",
       "    <tr>\n",
       "      <th>122</th>\n",
       "      <td>5a0546857ecc773753327266</td>\n",
       "      <td>F1</td>\n",
       "      <td>5e15a2cd1506f2000638fd6a</td>\n",
       "      <td>70.725</td>\n",
       "      <td>55.351818</td>\n",
       "    </tr>\n",
       "    <tr>\n",
       "      <th>125</th>\n",
       "      <td>5a0546857ecc773753327266</td>\n",
       "      <td>F1</td>\n",
       "      <td>5e15a2e1f4c3420006d521d6</td>\n",
       "      <td>72.324</td>\n",
       "      <td>58.875823</td>\n",
       "    </tr>\n",
       "    <tr>\n",
       "      <th>130</th>\n",
       "      <td>5a0546857ecc773753327266</td>\n",
       "      <td>F1</td>\n",
       "      <td>5e15a2f61506f2000638fd74</td>\n",
       "      <td>88.730</td>\n",
       "      <td>63.958468</td>\n",
       "    </tr>\n",
       "    <tr>\n",
       "      <th>157</th>\n",
       "      <td>5a0546857ecc773753327266</td>\n",
       "      <td>F1</td>\n",
       "      <td>5e15a39c1506f2000638fd9f</td>\n",
       "      <td>60.088</td>\n",
       "      <td>39.958646</td>\n",
       "    </tr>\n",
       "    <tr>\n",
       "      <th>161</th>\n",
       "      <td>5a0546857ecc773753327266</td>\n",
       "      <td>F1</td>\n",
       "      <td>5e15a2c91506f2000638fd68</td>\n",
       "      <td>61.812</td>\n",
       "      <td>48.406118</td>\n",
       "    </tr>\n",
       "    <tr>\n",
       "      <th>180</th>\n",
       "      <td>5a0546857ecc773753327266</td>\n",
       "      <td>F1</td>\n",
       "      <td>5e15ab3ff4c3420006d5225f</td>\n",
       "      <td>69.789</td>\n",
       "      <td>53.742552</td>\n",
       "    </tr>\n",
       "    <tr>\n",
       "      <th>183</th>\n",
       "      <td>5a0546857ecc773753327266</td>\n",
       "      <td>F1</td>\n",
       "      <td>5e15ab4e1506f2000638fdf6</td>\n",
       "      <td>105.310</td>\n",
       "      <td>68.863925</td>\n",
       "    </tr>\n",
       "  </tbody>\n",
       "</table>\n",
       "</div>"
      ],
      "text/plain": [
       "                      site_id floor_id                  track_id  duration  \\\n",
       "13   5a0546857ecc773753327266       B1  5e15731fa280850006f3d013    79.605   \n",
       "14   5a0546857ecc773753327266       B1  5e157321a280850006f3d015    78.439   \n",
       "33   5a0546857ecc773753327266       B1  5e1580c51506f2000638fc6a    89.977   \n",
       "35   5a0546857ecc773753327266       B1  5e1580ccf4c3420006d520e0   107.339   \n",
       "36   5a0546857ecc773753327266       B1  5e1580cff4c3420006d520e2    64.965   \n",
       "52   5a0546857ecc773753327266       B1  5e15731ca280850006f3d011    88.834   \n",
       "96   5a0546857ecc773753327266       B1  5e158f231506f2000638fd3d    77.260   \n",
       "105  5a0546857ecc773753327266       B1  5e15be381506f2000638feba    77.009   \n",
       "116  5a0546857ecc773753327266       F1  5e15a28d1506f2000638fd5f    72.789   \n",
       "122  5a0546857ecc773753327266       F1  5e15a2cd1506f2000638fd6a    70.725   \n",
       "125  5a0546857ecc773753327266       F1  5e15a2e1f4c3420006d521d6    72.324   \n",
       "130  5a0546857ecc773753327266       F1  5e15a2f61506f2000638fd74    88.730   \n",
       "157  5a0546857ecc773753327266       F1  5e15a39c1506f2000638fd9f    60.088   \n",
       "161  5a0546857ecc773753327266       F1  5e15a2c91506f2000638fd68    61.812   \n",
       "180  5a0546857ecc773753327266       F1  5e15ab3ff4c3420006d5225f    69.789   \n",
       "183  5a0546857ecc773753327266       F1  5e15ab4e1506f2000638fdf6   105.310   \n",
       "\n",
       "        length  \n",
       "13   48.154400  \n",
       "14   54.540528  \n",
       "33   66.943107  \n",
       "35   90.026316  \n",
       "36   49.441569  \n",
       "52   55.475635  \n",
       "96   66.685246  \n",
       "105  52.048732  \n",
       "116  54.645584  \n",
       "122  55.351818  \n",
       "125  58.875823  \n",
       "130  63.958468  \n",
       "157  39.958646  \n",
       "161  48.406118  \n",
       "180  53.742552  \n",
       "183  68.863925  "
      ]
     },
     "execution_count": 103,
     "metadata": {},
     "output_type": "execute_result"
    }
   ],
   "source": [
    "track_stats_df[track_stats_df[\"duration\"] >= 60]"
   ]
  },
  {
   "cell_type": "markdown",
   "metadata": {},
   "source": [
    "### Model Setup"
   ]
  },
  {
   "cell_type": "code",
   "execution_count": 81,
   "metadata": {},
   "outputs": [],
   "source": [
    "def create_zupt_sl_model(step_detector, **kwargs):\n",
    "  return ZUPTSLModel(step_detector, **kwargs)"
   ]
  },
  {
   "cell_type": "code",
   "execution_count": 82,
   "metadata": {},
   "outputs": [],
   "source": [
    "local_acce_var_step_detector = LocalAcceVarianceSDModel(window_size=4, swing_threshold=2, stance_threshold=1, use_ahrs=True)\n",
    "acf_step_detector = AcfSDModel(t_min=40, t_max=100, use_ahrs=True)\n",
    "angular_rate_step_detector = AngularRateSDModel(median_filter_window_size=8, stance_threshold=1)\n",
    "\n",
    "weinberg_sl_model = WeinbergSLModel(window_size=16, use_ahrs=True)\n",
    "random_sl_model = RandomSLModel(base_sl=1.0, noise_pct=0.15)\n",
    "\n",
    "zupt_local_acce_var_sl_model = create_zupt_sl_model(local_acce_var_step_detector, window_size=4, fs=50, use_ahrs=True)\n",
    "zupt_acf_sl_model = create_zupt_sl_model(acf_step_detector, window_size=4, fs=50, use_ahrs=True)\n",
    "zupt_angular_rate_sl_model = create_zupt_sl_model(angular_rate_step_detector, window_size=4, fs=50, use_ahrs=True)"
   ]
  },
  {
   "cell_type": "code",
   "execution_count": 83,
   "metadata": {},
   "outputs": [],
   "source": [
    "acf_weinberg = RelPositionPredictor(sd_model=acf_step_detector,\n",
    "                                    sl_model=weinberg_sl_model,\n",
    "                                    name=\"acf + weinberg\")\n",
    "\n",
    "local_acce_var_weinberg = RelPositionPredictor(\n",
    "    sd_model=local_acce_var_step_detector,\n",
    "    sl_model=weinberg_sl_model,\n",
    "    name=\"local_acce_var + weinberg\")\n",
    "\n",
    "angular_rate_weinberg = RelPositionPredictor(\n",
    "    sd_model=angular_rate_step_detector,\n",
    "    sl_model=weinberg_sl_model,\n",
    "    name=\"angular_rate + weinberg\")\n",
    "\n",
    "acf_random = RelPositionPredictor(sd_model=acf_step_detector,\n",
    "                                  sl_model=random_sl_model,\n",
    "                                  name=\"acf + random\")\n",
    "\n",
    "local_acce_var_random = RelPositionPredictor(\n",
    "    sd_model=local_acce_var_step_detector,\n",
    "    sl_model=random_sl_model,\n",
    "    name=\"local_acce_var + random\")\n",
    "\n",
    "angular_rate_random = RelPositionPredictor(sd_model=angular_rate_step_detector,\n",
    "                                           sl_model=random_sl_model,\n",
    "                                           name=\"angular_rate + random\")\n",
    "\n",
    "acf_zupt = RelPositionPredictor(sd_model=zupt_acf_sl_model.step_detection_model,\n",
    "                                sl_model=zupt_acf_sl_model,\n",
    "                                name=\"acf + zupt\")\n",
    "\n",
    "local_acce_var_zupt = RelPositionPredictor(\n",
    "    sd_model=zupt_local_acce_var_sl_model.step_detection_model,\n",
    "    sl_model=zupt_local_acce_var_sl_model,\n",
    "    name=\"local_acce_var + zupt\")\n",
    "\n",
    "angular_rate_zupt = RelPositionPredictor(\n",
    "    sd_model=zupt_angular_rate_sl_model.step_detection_model,\n",
    "    sl_model=zupt_angular_rate_sl_model,\n",
    "    name=\"angular_rate + zupt\")\n",
    "\n",
    "models = [\n",
    "  acf_weinberg,\n",
    "  local_acce_var_weinberg,\n",
    "  angular_rate_weinberg,\n",
    "  acf_random,\n",
    "  local_acce_var_random,\n",
    "  angular_rate_random,\n",
    "  acf_zupt,\n",
    "  local_acce_var_zupt,\n",
    "  angular_rate_zupt\n",
    "]"
   ]
  },
  {
   "cell_type": "markdown",
   "metadata": {},
   "source": [
    "## Running Experiment"
   ]
  },
  {
   "cell_type": "code",
   "execution_count": 90,
   "metadata": {},
   "outputs": [],
   "source": [
    "from compute_f import compute_step_positions"
   ]
  },
  {
   "cell_type": "code",
   "execution_count": 120,
   "metadata": {},
   "outputs": [],
   "source": [
    "def compute_error_metrics(actual_step_positions: np.ndarray, \n",
    "                          pred_step_positions: np.ndarray,\n",
    "                          duration_step_size: int = 10) -> dict:\n",
    "                          \n",
    "  actual_path_length = compute_path_length(actual_step_positions[:, 1:])\n",
    "  predicted_path_length = compute_path_length(pred_step_positions[:, 1:])\n",
    "\n",
    "  actual_path_rel_timestamps = actual_step_positions[:, 0] - actual_step_positions[0, 0]\n",
    "  pred_path_rel_timestamps = pred_step_positions[:, 0] - pred_step_positions[0, 0]\n",
    "\n",
    "  n_segments = np.ceil(actual_path_rel_timestamps[-1] / duration_step_size / 1000).astype(np.int64)\n",
    "\n",
    "  segments = []\n",
    "  segment_ae = []\n",
    "  segment_ape = []\n",
    "  for k in range(n_segments):\n",
    "    segments.append((k + 1) * duration_step_size)\n",
    "    pl_true = compute_path_length(actual_step_positions[actual_path_rel_timestamps < (k + 1) * duration_step_size * 1000, 1:])\n",
    "    pl_pred = compute_path_length(pred_step_positions[pred_path_rel_timestamps < (k + 1) * duration_step_size * 1000, 1:])\n",
    "    segment_ae.append(abs(pl_pred - pl_true))\n",
    "    segment_ape.append(abs(pl_pred - pl_true) / (pl_true + 1e-6))\n",
    "\n",
    "  return {\n",
    "    \"actual_distance\": actual_path_length,\n",
    "    \"predicted_distance\": predicted_path_length,\n",
    "    \"distance_error\": abs(predicted_path_length - actual_path_length),\n",
    "    \"distance_error_pct\": abs((predicted_path_length - actual_path_length) / (actual_path_length + 1e-6)),\n",
    "    \"segments\": segments,\n",
    "    \"segment_distance_error\": segment_ae,\n",
    "    \"segment_distance_error_pct\": segment_ape,\n",
    "  }"
   ]
  },
  {
   "cell_type": "code",
   "execution_count": 125,
   "metadata": {},
   "outputs": [],
   "source": [
    "site_floor_tracks = track_stats_df.loc[track_stats_df[\"duration\"] >= 60, [\"site_id\", \"floor_id\", \"track_id\"]].values.tolist()"
   ]
  },
  {
   "cell_type": "code",
   "execution_count": 127,
   "metadata": {},
   "outputs": [
    {
     "name": "stderr",
     "output_type": "stream",
     "text": [
      "100%|██████████| 16/16 [00:49<00:00,  3.09s/it]\n"
     ]
    }
   ],
   "source": [
    "experiment_results = []\n",
    "\n",
    "for site_id, floor_id, track_id in tqdm(site_floor_tracks):\n",
    "  track_path = os.path.join(TRAIN_DATA_DIR, site_id, floor_id, track_id + \".txt\")\n",
    "\n",
    "  try:\n",
    "    path_data_collection = read_data_file(track_path)\n",
    "    actual_step_positions = compute_step_positions(path_data_collection.acce, path_data_collection.ahrs, path_data_collection.waypoint)\n",
    "\n",
    "    for model in models:\n",
    "      pred_rel_positions = model.predict(path_data_collection)\n",
    "      pred_step_positions = compute_cumulative_step_positions(pred_rel_positions)\n",
    "      result = compute_error_metrics(actual_step_positions, pred_step_positions)\n",
    "      result.update({\n",
    "        \"site_id\": site_id,\n",
    "        \"floor_id\": floor_id,\n",
    "        \"track_id\": track_id,\n",
    "        \"model_name\": model.name,\n",
    "      })\n",
    "      experiment_results.append(result)\n",
    "\n",
    "  except Exception as e:\n",
    "    print(f\"Error: {type(e)}: {str(e)}\")"
   ]
  },
  {
   "cell_type": "code",
   "execution_count": 133,
   "metadata": {},
   "outputs": [
    {
     "name": "stderr",
     "output_type": "stream",
     "text": [
      "/tmp/ipykernel_3074366/2737697171.py:1: FutureWarning: The provided callable <function mean at 0x7fc7ed77b420> is currently using SeriesGroupBy.mean. In a future version of pandas, the provided callable will be used directly. To keep current behavior pass 'mean' instead.\n",
      "  pd.DataFrame(experiment_results).groupby(\"model_name\").agg({\"distance_error_pct\": np.mean})\n"
     ]
    },
    {
     "data": {
      "text/html": [
       "<div>\n",
       "<style scoped>\n",
       "    .dataframe tbody tr th:only-of-type {\n",
       "        vertical-align: middle;\n",
       "    }\n",
       "\n",
       "    .dataframe tbody tr th {\n",
       "        vertical-align: top;\n",
       "    }\n",
       "\n",
       "    .dataframe thead th {\n",
       "        text-align: right;\n",
       "    }\n",
       "</style>\n",
       "<table border=\"1\" class=\"dataframe\">\n",
       "  <thead>\n",
       "    <tr style=\"text-align: right;\">\n",
       "      <th></th>\n",
       "      <th>distance_error_pct</th>\n",
       "    </tr>\n",
       "    <tr>\n",
       "      <th>model_name</th>\n",
       "      <th></th>\n",
       "    </tr>\n",
       "  </thead>\n",
       "  <tbody>\n",
       "    <tr>\n",
       "      <th>acf + random</th>\n",
       "      <td>1.084597</td>\n",
       "    </tr>\n",
       "    <tr>\n",
       "      <th>acf + weinberg</th>\n",
       "      <td>0.103245</td>\n",
       "    </tr>\n",
       "    <tr>\n",
       "      <th>acf + zupt</th>\n",
       "      <td>7.809013</td>\n",
       "    </tr>\n",
       "    <tr>\n",
       "      <th>angular_rate + random</th>\n",
       "      <td>0.662566</td>\n",
       "    </tr>\n",
       "    <tr>\n",
       "      <th>angular_rate + weinberg</th>\n",
       "      <td>0.831142</td>\n",
       "    </tr>\n",
       "    <tr>\n",
       "      <th>angular_rate + zupt</th>\n",
       "      <td>16.537348</td>\n",
       "    </tr>\n",
       "    <tr>\n",
       "      <th>local_acce_var + random</th>\n",
       "      <td>0.220422</td>\n",
       "    </tr>\n",
       "    <tr>\n",
       "      <th>local_acce_var + weinberg</th>\n",
       "      <td>0.484110</td>\n",
       "    </tr>\n",
       "    <tr>\n",
       "      <th>local_acce_var + zupt</th>\n",
       "      <td>32.276845</td>\n",
       "    </tr>\n",
       "  </tbody>\n",
       "</table>\n",
       "</div>"
      ],
      "text/plain": [
       "                           distance_error_pct\n",
       "model_name                                   \n",
       "acf + random                         1.084597\n",
       "acf + weinberg                       0.103245\n",
       "acf + zupt                           7.809013\n",
       "angular_rate + random                0.662566\n",
       "angular_rate + weinberg              0.831142\n",
       "angular_rate + zupt                 16.537348\n",
       "local_acce_var + random              0.220422\n",
       "local_acce_var + weinberg            0.484110\n",
       "local_acce_var + zupt               32.276845"
      ]
     },
     "execution_count": 133,
     "metadata": {},
     "output_type": "execute_result"
    }
   ],
   "source": [
    "pd.DataFrame(experiment_results).groupby(\"model_name\").agg({\"distance_error_pct\": np.mean})"
   ]
  },
  {
   "cell_type": "code",
   "execution_count": null,
   "metadata": {},
   "outputs": [],
   "source": []
  }
 ],
 "metadata": {
  "kernelspec": {
   "display_name": "venv",
   "language": "python",
   "name": "python3"
  },
  "language_info": {
   "codemirror_mode": {
    "name": "ipython",
    "version": 3
   },
   "file_extension": ".py",
   "mimetype": "text/x-python",
   "name": "python",
   "nbconvert_exporter": "python",
   "pygments_lexer": "ipython3",
   "version": "3.11.5"
  },
  "orig_nbformat": 4
 },
 "nbformat": 4,
 "nbformat_minor": 2
}
