{
 "cells": [
  {
   "cell_type": "markdown",
   "metadata": {},
   "source": [
    "# Statistics about the dataset\n",
    "\n",
    "* The purpose of this noteboook is to select sites for experiments."
   ]
  },
  {
   "cell_type": "markdown",
   "metadata": {},
   "source": [
    "## Imports"
   ]
  },
  {
   "cell_type": "code",
   "execution_count": 1,
   "metadata": {},
   "outputs": [
    {
     "name": "stdout",
     "output_type": "stream",
     "text": [
      "The library is located at ./../../code/indoor-location-competition-20\n",
      "The code is located in ./../../code\n"
     ]
    }
   ],
   "source": [
    "import sys\n",
    "import os\n",
    "\n",
    "PROJECT_HOME = \"./../..\"\n",
    "# Add utilities library for Microsoft Indoor Localization 2.0 Dataset\n",
    "INDOOR_COMPETITION_20_DIR = os.path.join(\n",
    "    PROJECT_HOME, \"code\", \"indoor-location-competition-20\"\n",
    ")\n",
    "print(\"The library is located at\", INDOOR_COMPETITION_20_DIR)\n",
    "sys.path.append(INDOOR_COMPETITION_20_DIR)\n",
    "\n",
    "CODE_DIR = os.path.join(PROJECT_HOME, \"code\")\n",
    "print(f\"The code is located in {CODE_DIR}\")\n",
    "sys.path.append(CODE_DIR)"
   ]
  },
  {
   "cell_type": "code",
   "execution_count": 2,
   "metadata": {},
   "outputs": [],
   "source": [
    "import pandas as pd\n",
    "import numpy as np\n",
    "import matplotlib.pyplot as plt\n",
    "\n",
    "from tqdm import tqdm\n",
    "from io_f import read_data_file\n",
    "from pathlib import Path\n",
    "from scipy.sparse import csr_matrix\n",
    "from scipy.sparse.csgraph import floyd_warshall\n",
    "from collections import defaultdict\n",
    "from sklearn.preprocessing import MaxAbsScaler\n",
    "from sklearn.metrics import pairwise_distances\n",
    "from sklearn.cluster import AgglomerativeClustering\n",
    "from sklearn.manifold import MDS\n",
    "\n",
    "from py_indoor_loc.utils import DataListingUtil\n",
    "from py_indoor_loc.sensors import estimate_acceleration_heading\n",
    "from py_indoor_loc.extract.wifi_fingerprint import extract_bssid_set\n",
    "from py_indoor_loc.extract.wifi_fingerprint import create_fingerprint_vector"
   ]
  },
  {
   "cell_type": "code",
   "execution_count": 3,
   "metadata": {},
   "outputs": [],
   "source": [
    "from py_indoor_loc.floor_map import read_floor_data, extract_floor_map_geometries, scale\n",
    "from py_indoor_loc.zee import create_search_grid, SearchGrid\n",
    "from shapely import ops as shapely_ops\n",
    "from shapely import vectorized as shapely_vectorized\n",
    "from shapely.geometry import LineString"
   ]
  },
  {
   "cell_type": "code",
   "execution_count": 4,
   "metadata": {},
   "outputs": [],
   "source": [
    "%matplotlib inline"
   ]
  },
  {
   "cell_type": "code",
   "execution_count": 5,
   "metadata": {},
   "outputs": [],
   "source": [
    "import networkx as nx"
   ]
  },
  {
   "cell_type": "code",
   "execution_count": 6,
   "metadata": {},
   "outputs": [],
   "source": [
    "import seaborn as sns"
   ]
  },
  {
   "cell_type": "code",
   "execution_count": 9,
   "metadata": {},
   "outputs": [],
   "source": [
    "from glob import glob"
   ]
  },
  {
   "cell_type": "markdown",
   "metadata": {},
   "source": [
    "## Data Stats"
   ]
  },
  {
   "cell_type": "code",
   "execution_count": 7,
   "metadata": {},
   "outputs": [],
   "source": [
    "data_dir = Path(\"../../data/train/\")"
   ]
  },
  {
   "cell_type": "code",
   "execution_count": 13,
   "metadata": {},
   "outputs": [],
   "source": [
    "sites = [os.path.basename(file) for file in glob(str(data_dir)  + \"/*\")]"
   ]
  },
  {
   "cell_type": "code",
   "execution_count": 15,
   "metadata": {},
   "outputs": [
    {
     "data": {
      "text/plain": [
       "204"
      ]
     },
     "execution_count": 15,
     "metadata": {},
     "output_type": "execute_result"
    }
   ],
   "source": [
    "len(sites)"
   ]
  },
  {
   "cell_type": "code",
   "execution_count": 18,
   "metadata": {},
   "outputs": [],
   "source": [
    "def list_floors(site_id: str, data_dir: Path) -> list[str]:\n",
    "  return [os.path.basename(file) for file in glob(str(data_dir / site_id)  + \"/*\")]"
   ]
  },
  {
   "cell_type": "code",
   "execution_count": 20,
   "metadata": {},
   "outputs": [],
   "source": [
    "def list_track_files(site_id: str, floor_id: str, data_dir: Path) -> list[str]:\n",
    "  return [file for file in glob(str(data_dir / site_id / floor_id) + \"/*\")]"
   ]
  },
  {
   "cell_type": "code",
   "execution_count": 21,
   "metadata": {},
   "outputs": [],
   "source": [
    "site_id = sites[0]\n",
    "site_floor_ids = list_floors(site_id, data_dir)"
   ]
  },
  {
   "cell_type": "code",
   "execution_count": 24,
   "metadata": {},
   "outputs": [],
   "source": []
  },
  {
   "cell_type": "code",
   "execution_count": 26,
   "metadata": {},
   "outputs": [],
   "source": [
    "def extract_wifi_df(wifi: np.ndarray, time_shift_tol_ms: int = 2000, verbose=False) -> pd.DataFrame:\n",
    "  \"\"\"\n",
    "  Wifi Fingerprint data extraction and cleaning.\n",
    "  \"\"\"\n",
    "  wifi_schema = {\n",
    "    \"sys_ts\": \"system timestamp\",\n",
    "    \"ssid\": \"the network name\",\n",
    "    \"bssid\": \"the MAC address of the AP\",\n",
    "    \"rssi\": \"RSSI\",\n",
    "    \"freq\": \"Frequency\",\n",
    "    \"last_seen_ts\": \"timestamp in microseconds (since boot) when this result was last seen\"\n",
    "  }\n",
    "  wifi_df = pd.DataFrame(wifi, columns=list(wifi_schema.keys()))\n",
    "  wifi_df[\"bssid\"] = wifi_df[\"bssid\"].astype(\"category\")\n",
    "  wifi_df[\"ssid\"] = wifi_df[\"ssid\"].astype(\"category\")\n",
    "  wifi_df[\"sys_ts\"] = wifi_df[\"sys_ts\"].astype(np.int64)\n",
    "  wifi_df[\"last_seen_ts\"] = wifi_df[\"last_seen_ts\"].astype(np.int64)\n",
    "  wifi_df[\"rssi\"] = wifi_df[\"rssi\"].astype(np.int32)\n",
    "  wifi_df[\"freq\"] = wifi_df[\"freq\"].astype(np.int32)\n",
    "  wifi_df = wifi_df[wifi_df[\"sys_ts\"] - wifi_df[\"last_seen_ts\"] <= time_shift_tol_ms].reset_index(drop=True)\n",
    "\n",
    "  if verbose:\n",
    "    print(f\"Summary stats: n_samples={wifi_df.shape[0]}, n_seen_bssid={wifi_df.bssid.unique().shape[0]}, n_seen_ssid={wifi_df.ssid.unique().shape[0]}\")\n",
    "  \n",
    "  return wifi_df"
   ]
  },
  {
   "cell_type": "code",
   "execution_count": 29,
   "metadata": {},
   "outputs": [],
   "source": []
  },
  {
   "cell_type": "code",
   "execution_count": 30,
   "metadata": {},
   "outputs": [
    {
     "data": {
      "text/plain": [
       "19"
      ]
     },
     "execution_count": 30,
     "metadata": {},
     "output_type": "execute_result"
    }
   ],
   "source": []
  },
  {
   "cell_type": "code",
   "execution_count": null,
   "metadata": {},
   "outputs": [],
   "source": [
    "def count_distinct_locations(waypoints: np.ndarray, bin_size: int = 2) -> int:\n",
    "  bins = np.rint(waypoints / bin_size).astype(np.int32).tolist()\n",
    "  bins = [tuple(e) for e in bins]\n",
    "  return len(set(bins))"
   ]
  },
  {
   "cell_type": "code",
   "execution_count": 72,
   "metadata": {},
   "outputs": [],
   "source": [
    "def count_wifi_beacons_and_locations(track_files: list[str], with_tqdm: bool = False):\n",
    "  waypoint_list = []\n",
    "  wifi_beacon_count = 0\n",
    "\n",
    "  iterator = tqdm(track_files) if with_tqdm else track_files\n",
    "\n",
    "  for track_file in iterator:\n",
    "    path_datas = read_data_file(track_file)\n",
    "    waypoint_list.append(path_datas.waypoint[:, 1:])\n",
    "\n",
    "    if len(path_datas.wifi) == 0:\n",
    "      continue\n",
    "    \n",
    "    wifi_df = extract_wifi_df(path_datas.wifi, time_shift_tol_ms=1000)\n",
    "    wifi_beacon_count += wifi_df[\"sys_ts\"].unique().shape[0]\n",
    "\n",
    "  waypoints = np.vstack(waypoint_list)\n",
    "  location_count = count_distinct_locations(waypoints, bin_size=2)\n",
    "\n",
    "  return wifi_beacon_count, location_count"
   ]
  },
  {
   "cell_type": "code",
   "execution_count": 128,
   "metadata": {},
   "outputs": [
    {
     "name": "stderr",
     "output_type": "stream",
     "text": [
      "Floor: 100%|██████████| 7/7 [01:24<00:00, 12.06s/it]\n",
      "Floor: 100%|██████████| 4/4 [00:06<00:00,  1.73s/it]it]\n",
      "Floor: 100%|██████████| 4/4 [00:02<00:00,  1.95it/s]it]\n",
      "Floor: 100%|██████████| 4/4 [00:04<00:00,  1.21s/it]it]\n",
      "Floor: 100%|██████████| 3/3 [00:00<00:00,  3.09it/s]]  \n",
      "Floor: 100%|██████████| 10/10 [00:12<00:00,  1.28s/it]\n",
      "Floor: 100%|██████████| 4/4 [00:08<00:00,  2.09s/it]]\n",
      "Floor: 100%|██████████| 3/3 [00:02<00:00,  1.07it/s]]\n",
      "Floor: 100%|██████████| 3/3 [00:00<00:00, 10.99it/s]]\n",
      "Floor: 100%|██████████| 8/8 [02:13<00:00, 16.71s/it]]\n",
      "Floor: 100%|██████████| 7/7 [00:38<00:00,  5.56s/it]/it]\n",
      "Floor: 100%|██████████| 4/4 [00:01<00:00,  2.53it/s]/it]\n",
      "Floor: 100%|██████████| 5/5 [00:03<00:00,  1.43it/s]/it]\n",
      "Floor: 100%|██████████| 9/9 [00:06<00:00,  1.39it/s]/it]\n",
      "Floor: 100%|██████████| 4/4 [00:01<00:00,  2.01it/s]t]  \n",
      "Floor: 100%|██████████| 5/5 [00:04<00:00,  1.03it/s]t]\n",
      "Floor: 100%|██████████| 5/5 [00:07<00:00,  1.51s/it]t]\n",
      "Site:   8%|▊         | 17/204 [05:22<29:52,  9.59s/it]"
     ]
    },
    {
     "name": "stdout",
     "output_type": "stream",
     "text": [
      "Failed to processing line: ['1559722249696', 'TYPE_ACCELEROMETER']. Caused by list index out of range\n"
     ]
    },
    {
     "name": "stderr",
     "output_type": "stream",
     "text": [
      "Floor: 100%|██████████| 7/7 [00:10<00:00,  1.52s/it]\n",
      "Floor: 100%|██████████| 7/7 [00:13<00:00,  1.94s/it]t]\n",
      "Floor: 100%|██████████| 6/6 [00:07<00:00,  1.25s/it]t]\n",
      "Floor: 100%|██████████| 5/5 [00:09<00:00,  1.82s/it]t]\n",
      "Floor: 100%|██████████| 3/3 [00:05<00:00,  1.79s/it]t]\n",
      "Floor: 100%|██████████| 5/5 [00:05<00:00,  1.10s/it]t]\n",
      "Floor: 100%|██████████| 8/8 [00:55<00:00,  6.95s/it]t]\n",
      "Floor: 100%|██████████| 8/8 [00:08<00:00,  1.03s/it]/it]\n",
      "Floor: 100%|██████████| 4/4 [00:05<00:00,  1.37s/it]t]  \n",
      "Floor: 100%|██████████| 2/2 [00:03<00:00,  1.57s/it]t]\n",
      "Floor: 100%|██████████| 5/5 [00:05<00:00,  1.14s/it]t]\n",
      "Floor: 100%|██████████| 12/12 [01:03<00:00,  5.31s/it]\n",
      "Floor: 100%|██████████| 1/1 [00:00<00:00,  3.73it/s]/it]\n",
      "Floor: 100%|██████████| 6/6 [00:41<00:00,  6.98s/it]t]  \n",
      "Floor: 100%|██████████| 2/2 [00:00<00:00,  2.69it/s]/it]\n",
      "Floor: 100%|██████████| 5/5 [00:06<00:00,  1.31s/it]t]  \n",
      "Floor: 100%|██████████| 6/6 [00:45<00:00,  7.50s/it]t]\n",
      "Floor: 100%|██████████| 3/3 [00:03<00:00,  1.06s/it]/it]\n",
      "Floor: 100%|██████████| 4/4 [00:06<00:00,  1.68s/it]t]  \n",
      "Floor: 100%|██████████| 2/2 [00:01<00:00,  1.65it/s]t]\n",
      "Floor: 100%|██████████| 3/3 [00:01<00:00,  1.66it/s]t]\n",
      "Floor: 100%|██████████| 3/3 [00:02<00:00,  1.29it/s]t]\n",
      "Floor: 100%|██████████| 3/3 [00:02<00:00,  1.01it/s]t]\n",
      "Floor: 100%|██████████| 7/7 [00:08<00:00,  1.27s/it]t]\n",
      "Floor: 100%|██████████| 11/11 [00:29<00:00,  2.69s/it]\n",
      "Floor: 100%|██████████| 2/2 [00:01<00:00,  1.14it/s]t]\n",
      "Floor: 100%|██████████| 7/7 [00:36<00:00,  5.18s/it]t]\n",
      "Floor: 100%|██████████| 3/3 [00:43<00:00, 14.34s/it]t]\n",
      "Floor: 100%|██████████| 4/4 [00:11<00:00,  2.77s/it]/it]\n",
      "Floor: 100%|██████████| 3/3 [00:02<00:00,  1.03it/s]t]  \n",
      "Floor: 100%|██████████| 3/3 [00:01<00:00,  2.91it/s]t]\n",
      "Floor: 100%|██████████| 6/6 [00:15<00:00,  2.56s/it]t]\n",
      "Floor: 100%|██████████| 3/3 [00:00<00:00,  3.28it/s]t]\n",
      "Floor: 100%|██████████| 5/5 [00:04<00:00,  1.01it/s]t]\n",
      "Site:  25%|██▌       | 51/204 [13:04<19:52,  7.79s/it]"
     ]
    },
    {
     "name": "stdout",
     "output_type": "stream",
     "text": [
      "Failed to processing line: ['1559699299331', 'TYPE_ROTATION_VECTOR', '0.17401376', '-0.0031055238']. Caused by list index out of range\n"
     ]
    },
    {
     "name": "stderr",
     "output_type": "stream",
     "text": [
      "Floor: 100%|██████████| 7/7 [00:19<00:00,  2.72s/it]\n",
      "Floor: 100%|██████████| 6/6 [00:17<00:00,  2.95s/it]t]\n",
      "Floor: 100%|██████████| 5/5 [00:13<00:00,  2.66s/it]t]\n",
      "Floor: 100%|██████████| 4/4 [00:04<00:00,  1.25s/it]t]\n",
      "Floor: 100%|██████████| 4/4 [00:11<00:00,  2.99s/it]t]\n",
      "Floor: 100%|██████████| 4/4 [00:08<00:00,  2.11s/it]t]\n",
      "Floor: 100%|██████████| 2/2 [00:01<00:00,  1.22it/s]t]\n",
      "Floor: 100%|██████████| 5/5 [00:06<00:00,  1.22s/it]t]\n",
      "Floor: 100%|██████████| 5/5 [00:04<00:00,  1.08it/s]t]\n",
      "Floor: 100%|██████████| 5/5 [00:03<00:00,  1.45it/s]t]\n",
      "Floor: 100%|██████████| 6/6 [00:27<00:00,  4.51s/it]t]\n",
      "Floor: 100%|██████████| 4/4 [00:06<00:00,  1.61s/it]t]\n",
      "Floor: 100%|██████████| 3/3 [00:02<00:00,  1.17it/s]t]\n",
      "Floor: 100%|██████████| 3/3 [00:00<00:00,  5.82it/s]t]\n",
      "Floor: 100%|██████████| 5/5 [00:03<00:00,  1.39it/s]t]\n",
      "Floor: 100%|██████████| 2/2 [00:00<00:00,  3.22it/s]t]\n",
      "Floor: 100%|██████████| 4/4 [00:08<00:00,  2.24s/it]t]\n",
      "Floor: 100%|██████████| 6/6 [00:15<00:00,  2.51s/it]t]\n",
      "Floor: 100%|██████████| 2/2 [00:01<00:00,  1.47it/s]t]\n",
      "Floor: 100%|██████████| 8/8 [00:06<00:00,  1.22it/s]t]\n",
      "Floor: 100%|██████████| 5/5 [00:50<00:00, 10.03s/it]t]\n",
      "Floor: 100%|██████████| 2/2 [00:01<00:00,  1.37it/s]t]\n",
      "Floor: 100%|██████████| 4/4 [00:04<00:00,  1.25s/it]t]\n",
      "Floor: 100%|██████████| 5/5 [00:14<00:00,  2.82s/it]t]\n",
      "Floor: 100%|██████████| 6/6 [00:06<00:00,  1.07s/it]t]\n",
      "Floor: 100%|██████████| 4/4 [00:03<00:00,  1.12it/s]t]\n",
      "Floor: 100%|██████████| 7/7 [00:15<00:00,  2.16s/it]t]\n",
      "Floor: 100%|██████████| 6/6 [00:08<00:00,  1.48s/it]t]\n",
      "Floor: 100%|██████████| 9/9 [00:25<00:00,  2.79s/it]t]\n",
      "Floor: 100%|██████████| 2/2 [00:01<00:00,  1.28it/s]t]\n",
      "Floor: 100%|██████████| 8/8 [00:53<00:00,  6.67s/it]t]\n",
      "Floor: 100%|██████████| 6/6 [00:41<00:00,  6.88s/it]t]\n",
      "Floor: 100%|██████████| 2/2 [00:01<00:00,  1.26it/s]t]\n",
      "Floor: 100%|██████████| 8/8 [01:20<00:00, 10.05s/it]t]\n",
      "Floor: 100%|██████████| 10/10 [00:43<00:00,  4.37s/it]t]\n",
      "Floor: 100%|██████████| 4/4 [00:04<00:00,  1.17s/it]/it]\n",
      "Floor: 100%|██████████| 8/8 [00:32<00:00,  4.03s/it]t]  \n",
      "Floor: 100%|██████████| 4/4 [00:01<00:00,  3.28it/s]t]\n",
      "Floor: 100%|██████████| 5/5 [00:01<00:00,  3.92it/s]t]\n",
      "Floor: 100%|██████████| 1/1 [00:00<00:00,  4.38it/s]t]\n",
      "Floor: 100%|██████████| 8/8 [00:10<00:00,  1.28s/it]t]\n",
      "Floor: 100%|██████████| 5/5 [00:03<00:00,  1.65it/s]t]\n",
      "Floor: 100%|██████████| 5/5 [00:03<00:00,  1.40it/s]t]\n",
      "Floor: 100%|██████████| 3/3 [00:04<00:00,  1.37s/it]t]\n",
      "Floor: 100%|██████████| 3/3 [00:01<00:00,  1.60it/s]t]\n",
      "Floor: 100%|██████████| 5/5 [00:41<00:00,  8.21s/it]t]\n",
      "Floor: 100%|██████████| 5/5 [00:15<00:00,  3.14s/it]t]\n",
      "Floor: 100%|██████████| 6/6 [00:06<00:00,  1.13s/it]t]\n",
      "Floor: 100%|██████████| 3/3 [00:08<00:00,  2.72s/it]t]\n",
      "Floor: 100%|██████████| 6/6 [00:32<00:00,  5.46s/it]it]\n",
      "Floor: 100%|██████████| 6/6 [00:03<00:00,  1.93it/s]it]\n",
      "Floor: 100%|██████████| 5/5 [00:06<00:00,  1.30s/it]it]\n",
      "Floor: 100%|██████████| 8/8 [00:21<00:00,  2.69s/it]it]\n",
      "Floor: 100%|██████████| 1/1 [00:00<00:00,  1.15it/s]it]\n",
      "Floor: 100%|██████████| 5/5 [00:24<00:00,  4.81s/it]it]\n",
      "Floor: 100%|██████████| 3/3 [00:06<00:00,  2.01s/it]it]\n",
      "Floor: 100%|██████████| 5/5 [00:22<00:00,  4.49s/it]it]\n",
      "Floor: 100%|██████████| 6/6 [00:04<00:00,  1.39it/s]it]\n",
      "Floor: 100%|██████████| 6/6 [00:11<00:00,  1.97s/it]it]\n",
      "Floor: 100%|██████████| 5/5 [00:05<00:00,  1.01s/it]it]\n",
      "Floor: 100%|██████████| 4/4 [00:01<00:00,  2.91it/s]it]\n",
      "Floor: 100%|██████████| 4/4 [00:02<00:00,  1.45it/s]it]\n",
      "Floor: 100%|██████████| 4/4 [00:12<00:00,  3.15s/it]it]\n",
      "Floor: 100%|██████████| 6/6 [00:15<00:00,  2.59s/it]it]\n",
      "Floor: 100%|██████████| 6/6 [00:07<00:00,  1.21s/it]it]\n",
      "Floor: 100%|██████████| 5/5 [00:03<00:00,  1.39it/s]it]\n",
      "Floor: 100%|██████████| 2/2 [00:00<00:00,  5.37it/s]it]\n",
      "Floor: 100%|██████████| 5/5 [00:03<00:00,  1.36it/s]it]\n",
      "Floor: 100%|██████████| 3/3 [00:01<00:00,  1.84it/s]it]\n",
      "Floor: 100%|██████████| 6/6 [00:40<00:00,  6.71s/it]it]\n",
      "Floor: 100%|██████████| 3/3 [00:01<00:00,  2.17it/s]it]\n",
      "Floor: 100%|██████████| 5/5 [00:57<00:00, 11.48s/it]it]\n",
      "Floor: 100%|██████████| 7/7 [00:46<00:00,  6.57s/it]it]\n",
      "Floor: 100%|██████████| 9/9 [00:04<00:00,  2.24it/s]it]\n",
      "Floor: 100%|██████████| 4/4 [00:02<00:00,  1.94it/s]it]\n",
      "Floor: 100%|██████████| 3/3 [00:01<00:00,  1.89it/s]it]\n",
      "Floor: 100%|██████████| 4/4 [00:04<00:00,  1.14s/it]it]\n",
      "Floor: 100%|██████████| 10/10 [00:19<00:00,  1.93s/it]]\n",
      "Floor: 100%|██████████| 3/3 [00:02<00:00,  1.08it/s]it]\n",
      "Floor: 100%|██████████| 6/6 [01:27<00:00, 14.57s/it]it]\n",
      "Floor: 100%|██████████| 5/5 [00:02<00:00,  2.21it/s]it]\n",
      "Floor: 100%|██████████| 6/6 [00:03<00:00,  1.76it/s]it]\n",
      "Floor: 100%|██████████| 3/3 [00:00<00:00,  3.59it/s]it]\n",
      "Floor: 100%|██████████| 4/4 [00:10<00:00,  2.59s/it]it]\n",
      "Floor: 100%|██████████| 3/3 [00:00<00:00,  3.81it/s]it]\n",
      "Floor: 100%|██████████| 4/4 [00:06<00:00,  1.70s/it]it]\n",
      "Floor: 100%|██████████| 6/6 [00:03<00:00,  1.57it/s]it]\n",
      "Floor: 100%|██████████| 3/3 [00:01<00:00,  1.84it/s]it]\n",
      "Floor: 100%|██████████| 7/7 [00:28<00:00,  4.02s/it]it]\n",
      "Floor: 100%|██████████| 6/6 [00:31<00:00,  5.24s/it]it]\n",
      "Floor: 100%|██████████| 4/4 [00:21<00:00,  5.31s/it]it]\n",
      "Floor: 100%|██████████| 3/3 [00:02<00:00,  1.12it/s]it]\n",
      "Floor: 100%|██████████| 8/8 [00:04<00:00,  1.82it/s]it]\n",
      "Floor: 100%|██████████| 6/6 [00:04<00:00,  1.24it/s]it]\n",
      "Floor: 100%|██████████| 7/7 [00:30<00:00,  4.32s/it]it]\n",
      "Floor: 100%|██████████| 5/5 [00:31<00:00,  6.38s/it]it]\n",
      "Floor: 100%|██████████| 4/4 [00:18<00:00,  4.56s/it]it]\n",
      "Floor: 100%|██████████| 5/5 [00:04<00:00,  1.04it/s]it]\n",
      "Floor: 100%|██████████| 4/4 [00:30<00:00,  7.61s/it]it]\n",
      "Floor: 100%|██████████| 4/4 [00:02<00:00,  1.61it/s]it]\n",
      "Floor: 100%|██████████| 12/12 [00:10<00:00,  1.17it/s]]\n",
      "Floor: 100%|██████████| 4/4 [00:02<00:00,  1.52it/s]it]\n",
      "Floor: 100%|██████████| 3/3 [00:06<00:00,  2.22s/it]it]\n",
      "Floor: 100%|██████████| 4/4 [00:01<00:00,  2.33it/s]it]\n",
      "Floor: 100%|██████████| 4/4 [00:01<00:00,  2.71it/s]it]\n",
      "Floor: 100%|██████████| 5/5 [00:03<00:00,  1.65it/s]it]\n",
      "Floor: 100%|██████████| 8/8 [00:59<00:00,  7.47s/it]it]\n",
      "Floor: 100%|██████████| 4/4 [00:07<00:00,  1.90s/it]it]\n",
      "Floor: 100%|██████████| 6/6 [00:04<00:00,  1.30it/s]it]\n",
      "Floor: 100%|██████████| 4/4 [00:03<00:00,  1.31it/s]it]\n",
      "Floor: 100%|██████████| 3/3 [00:01<00:00,  1.56it/s]it]\n",
      "Floor: 100%|██████████| 6/6 [00:15<00:00,  2.53s/it]it]\n",
      "Floor: 100%|██████████| 5/5 [00:05<00:00,  1.10s/it]it]\n",
      "Floor: 100%|██████████| 5/5 [00:03<00:00,  1.31it/s]it]\n",
      "Floor: 100%|██████████| 2/2 [00:05<00:00,  2.96s/it]it]\n",
      "Floor: 100%|██████████| 7/7 [00:17<00:00,  2.48s/it]it]\n",
      "Floor: 100%|██████████| 6/6 [00:03<00:00,  1.69it/s]it]\n",
      "Floor: 100%|██████████| 2/2 [00:02<00:00,  1.15s/it]it]\n",
      "Floor: 100%|██████████| 6/6 [00:28<00:00,  4.83s/it]it]\n",
      "Floor: 100%|██████████| 2/2 [00:02<00:00,  1.04s/it]it]\n",
      "Floor: 100%|██████████| 3/3 [00:02<00:00,  1.01it/s]it]\n",
      "Floor: 100%|██████████| 3/3 [00:00<00:00,  3.16it/s]it]\n",
      "Floor: 100%|██████████| 4/4 [00:02<00:00,  1.41it/s]it]\n",
      "Floor: 100%|██████████| 5/5 [00:05<00:00,  1.09s/it]it]\n",
      "Floor: 100%|██████████| 3/3 [00:03<00:00,  1.06s/it]it]\n",
      "Floor: 100%|██████████| 1/1 [00:00<00:00,  2.78it/s]it]\n",
      "Floor: 100%|██████████| 7/7 [00:17<00:00,  2.51s/it]it]\n",
      "Floor: 100%|██████████| 4/4 [00:02<00:00,  1.96it/s]it]\n",
      "Floor: 100%|██████████| 3/3 [00:01<00:00,  1.88it/s]it]\n",
      "Floor: 100%|██████████| 4/4 [00:01<00:00,  2.39it/s]it]\n",
      "Floor: 100%|██████████| 2/2 [00:01<00:00,  1.83it/s]it]\n",
      "Floor: 100%|██████████| 4/4 [00:05<00:00,  1.48s/it]it]\n",
      "Floor: 100%|██████████| 2/2 [00:16<00:00,  8.45s/it]it]\n",
      "Floor: 100%|██████████| 4/4 [00:13<00:00,  3.40s/it]it]\n",
      "Floor: 100%|██████████| 6/6 [00:08<00:00,  1.35s/it]it]\n",
      "Floor: 100%|██████████| 3/3 [00:02<00:00,  1.12it/s]it]\n",
      "Floor: 100%|██████████| 5/5 [00:05<00:00,  1.07s/it]it]\n",
      "Floor: 100%|██████████| 5/5 [00:27<00:00,  5.56s/it]it]\n",
      "Floor: 100%|██████████| 4/4 [00:03<00:00,  1.12it/s]it]\n",
      "Floor: 100%|██████████| 5/5 [00:04<00:00,  1.03it/s]it]\n",
      "Floor: 100%|██████████| 3/3 [00:01<00:00,  2.71it/s]it]\n",
      "Floor: 100%|██████████| 8/8 [00:03<00:00,  2.08it/s]it]\n",
      "Floor: 100%|██████████| 4/4 [00:02<00:00,  1.81it/s]it]\n",
      "Floor: 100%|██████████| 10/10 [00:37<00:00,  3.72s/it]]\n",
      "Floor: 100%|██████████| 6/6 [00:37<00:00,  6.21s/it]it]\n",
      "Floor: 100%|██████████| 5/5 [00:02<00:00,  1.71it/s]it]\n",
      "Floor: 100%|██████████| 5/5 [00:14<00:00,  2.82s/it]it]\n",
      "Floor: 100%|██████████| 4/4 [00:06<00:00,  1.53s/it]it]\n",
      "Floor: 100%|██████████| 2/2 [00:05<00:00,  2.63s/it]it]\n",
      "Floor: 100%|██████████| 6/6 [00:12<00:00,  2.01s/it]it]\n",
      "Floor: 100%|██████████| 2/2 [00:03<00:00,  1.76s/it]it]\n",
      "Floor: 100%|██████████| 3/3 [00:02<00:00,  1.22it/s]it]\n",
      "Floor: 100%|██████████| 4/4 [00:03<00:00,  1.13it/s]it]\n",
      "Site: 100%|██████████| 204/204 [42:56<00:00, 12.63s/it]\n"
     ]
    }
   ],
   "source": [
    "with open(\"../../data/output/site_floor_stats.csv\", \"w\") as f:\n",
    "  f.write(\"site_id,floor_id,wifi_beacon_count,location_count\\n\")\n",
    "  f.flush()\n",
    "\n",
    "  for site_id in tqdm(sites, desc=\"Site\"):\n",
    "    site_floor_ids = list_floors(site_id, data_dir)\n",
    "    for floor_id in tqdm(site_floor_ids, desc=\"Floor\"):\n",
    "      track_files = list_track_files(site_id, floor_id, data_dir)\n",
    "      wifi_beacon_count, location_count = count_wifi_beacons_and_locations(track_files)\n",
    "      f.write(f\"{site_id},{floor_id},{wifi_beacon_count},{location_count}\\n\")\n",
    "      f.flush()\n",
    "    "
   ]
  },
  {
   "cell_type": "code",
   "execution_count": 129,
   "metadata": {},
   "outputs": [],
   "source": [
    "floor_stats_df = pd.read_csv(\"../../data/output/site_floor_stats.csv\")"
   ]
  },
  {
   "cell_type": "code",
   "execution_count": 131,
   "metadata": {},
   "outputs": [],
   "source": [
    "floor_stats_df[\"site_id\"] = floor_stats_df[\"site_id\"].astype(\"category\")\n",
    "floor_stats_df[\"floor_id\"] = floor_stats_df[\"floor_id\"].astype(\"category\")"
   ]
  },
  {
   "cell_type": "code",
   "execution_count": 134,
   "metadata": {},
   "outputs": [],
   "source": [
    "floor_stats_df[\"sample_per_loc\"] = floor_stats_df[\"wifi_beacon_count\"] / floor_stats_df[\"location_count\"]"
   ]
  },
  {
   "cell_type": "code",
   "execution_count": 148,
   "metadata": {},
   "outputs": [],
   "source": [
    "floor_stats_df.sort_values(\"wifi_beacon_count\", ascending=False, inplace=True)"
   ]
  },
  {
   "cell_type": "code",
   "execution_count": 153,
   "metadata": {},
   "outputs": [
    {
     "data": {
      "text/html": [
       "<div>\n",
       "<style scoped>\n",
       "    .dataframe tbody tr th:only-of-type {\n",
       "        vertical-align: middle;\n",
       "    }\n",
       "\n",
       "    .dataframe tbody tr th {\n",
       "        vertical-align: top;\n",
       "    }\n",
       "\n",
       "    .dataframe thead th {\n",
       "        text-align: right;\n",
       "    }\n",
       "</style>\n",
       "<table border=\"1\" class=\"dataframe\">\n",
       "  <thead>\n",
       "    <tr style=\"text-align: right;\">\n",
       "      <th></th>\n",
       "      <th>site_id</th>\n",
       "      <th>floor_id</th>\n",
       "      <th>wifi_beacon_count</th>\n",
       "      <th>location_count</th>\n",
       "      <th>sample_per_loc</th>\n",
       "    </tr>\n",
       "  </thead>\n",
       "  <tbody>\n",
       "    <tr>\n",
       "      <th>166</th>\n",
       "      <td>5cd56c18e2acfd2d33b6c321</td>\n",
       "      <td>B1</td>\n",
       "      <td>13322</td>\n",
       "      <td>376</td>\n",
       "      <td>35.430851</td>\n",
       "    </tr>\n",
       "    <tr>\n",
       "      <th>405</th>\n",
       "      <td>5cd56be3e2acfd2d33b66bae</td>\n",
       "      <td>F1</td>\n",
       "      <td>9126</td>\n",
       "      <td>314</td>\n",
       "      <td>29.063694</td>\n",
       "    </tr>\n",
       "    <tr>\n",
       "      <th>345</th>\n",
       "      <td>5d2709b303f801723c327472</td>\n",
       "      <td>1F</td>\n",
       "      <td>7117</td>\n",
       "      <td>267</td>\n",
       "      <td>26.655431</td>\n",
       "    </tr>\n",
       "    <tr>\n",
       "      <th>406</th>\n",
       "      <td>5cd56be3e2acfd2d33b66bae</td>\n",
       "      <td>F3</td>\n",
       "      <td>6959</td>\n",
       "      <td>241</td>\n",
       "      <td>28.875519</td>\n",
       "    </tr>\n",
       "    <tr>\n",
       "      <th>937</th>\n",
       "      <td>5cdac620e403deddaf467fc0</td>\n",
       "      <td>8F</td>\n",
       "      <td>6954</td>\n",
       "      <td>254</td>\n",
       "      <td>27.377953</td>\n",
       "    </tr>\n",
       "    <tr>\n",
       "      <th>...</th>\n",
       "      <td>...</td>\n",
       "      <td>...</td>\n",
       "      <td>...</td>\n",
       "      <td>...</td>\n",
       "      <td>...</td>\n",
       "    </tr>\n",
       "    <tr>\n",
       "      <th>19</th>\n",
       "      <td>5cd56b9de2acfd2d33b5fc50</td>\n",
       "      <td>F2</td>\n",
       "      <td>48</td>\n",
       "      <td>2</td>\n",
       "      <td>24.000000</td>\n",
       "    </tr>\n",
       "    <tr>\n",
       "      <th>369</th>\n",
       "      <td>5cd56b64e2acfd2d33b5932f</td>\n",
       "      <td>6F</td>\n",
       "      <td>41</td>\n",
       "      <td>2</td>\n",
       "      <td>20.500000</td>\n",
       "    </tr>\n",
       "    <tr>\n",
       "      <th>41</th>\n",
       "      <td>5cd56be5e2acfd2d33b66e3f</td>\n",
       "      <td>F3</td>\n",
       "      <td>38</td>\n",
       "      <td>3</td>\n",
       "      <td>12.666667</td>\n",
       "    </tr>\n",
       "    <tr>\n",
       "      <th>819</th>\n",
       "      <td>5cd56b90e2acfd2d33b5e33f</td>\n",
       "      <td>F5</td>\n",
       "      <td>27</td>\n",
       "      <td>2</td>\n",
       "      <td>13.500000</td>\n",
       "    </tr>\n",
       "    <tr>\n",
       "      <th>39</th>\n",
       "      <td>5cd56be5e2acfd2d33b66e3f</td>\n",
       "      <td>F2</td>\n",
       "      <td>24</td>\n",
       "      <td>2</td>\n",
       "      <td>12.000000</td>\n",
       "    </tr>\n",
       "  </tbody>\n",
       "</table>\n",
       "<p>712 rows × 5 columns</p>\n",
       "</div>"
      ],
      "text/plain": [
       "                      site_id floor_id  wifi_beacon_count  location_count   \n",
       "166  5cd56c18e2acfd2d33b6c321       B1              13322             376  \\\n",
       "405  5cd56be3e2acfd2d33b66bae       F1               9126             314   \n",
       "345  5d2709b303f801723c327472       1F               7117             267   \n",
       "406  5cd56be3e2acfd2d33b66bae       F3               6959             241   \n",
       "937  5cdac620e403deddaf467fc0       8F               6954             254   \n",
       "..                        ...      ...                ...             ...   \n",
       "19   5cd56b9de2acfd2d33b5fc50       F2                 48               2   \n",
       "369  5cd56b64e2acfd2d33b5932f       6F                 41               2   \n",
       "41   5cd56be5e2acfd2d33b66e3f       F3                 38               3   \n",
       "819  5cd56b90e2acfd2d33b5e33f       F5                 27               2   \n",
       "39   5cd56be5e2acfd2d33b66e3f       F2                 24               2   \n",
       "\n",
       "     sample_per_loc  \n",
       "166       35.430851  \n",
       "405       29.063694  \n",
       "345       26.655431  \n",
       "406       28.875519  \n",
       "937       27.377953  \n",
       "..              ...  \n",
       "19        24.000000  \n",
       "369       20.500000  \n",
       "41        12.666667  \n",
       "819       13.500000  \n",
       "39        12.000000  \n",
       "\n",
       "[712 rows x 5 columns]"
      ]
     },
     "execution_count": 153,
     "metadata": {},
     "output_type": "execute_result"
    }
   ],
   "source": [
    "floor_stats_df[(floor_stats_df[\"sample_per_loc\"] >= 10)]"
   ]
  },
  {
   "cell_type": "code",
   "execution_count": 146,
   "metadata": {},
   "outputs": [
    {
     "data": {
      "text/plain": [
       "<Axes: >"
      ]
     },
     "execution_count": 146,
     "metadata": {},
     "output_type": "execute_result"
    },
    {
     "data": {
      "image/png": "[encoded data removed]",
      "text/plain": [
       "<Figure size 640x480 with 1 Axes>"
      ]
     },
     "metadata": {},
     "output_type": "display_data"
    }
   ],
   "source": [
    "floor_stats_df[\"wifi_beacon_count\"].hist()"
   ]
  },
  {
   "cell_type": "code",
   "execution_count": 139,
   "metadata": {},
   "outputs": [
    {
     "data": {
      "text/html": [
       "<div>\n",
       "<style scoped>\n",
       "    .dataframe tbody tr th:only-of-type {\n",
       "        vertical-align: middle;\n",
       "    }\n",
       "\n",
       "    .dataframe tbody tr th {\n",
       "        vertical-align: top;\n",
       "    }\n",
       "\n",
       "    .dataframe thead th {\n",
       "        text-align: right;\n",
       "    }\n",
       "</style>\n",
       "<table border=\"1\" class=\"dataframe\">\n",
       "  <thead>\n",
       "    <tr style=\"text-align: right;\">\n",
       "      <th></th>\n",
       "      <th>site_id</th>\n",
       "      <th>floor_id</th>\n",
       "      <th>wifi_beacon_count</th>\n",
       "      <th>location_count</th>\n",
       "      <th>sample_per_loc</th>\n",
       "    </tr>\n",
       "  </thead>\n",
       "  <tbody>\n",
       "    <tr>\n",
       "      <th>903</th>\n",
       "      <td>5cd56b5ae2acfd2d33b58546</td>\n",
       "      <td>F1</td>\n",
       "      <td>2076</td>\n",
       "      <td>31</td>\n",
       "      <td>66.967742</td>\n",
       "    </tr>\n",
       "  </tbody>\n",
       "</table>\n",
       "</div>"
      ],
      "text/plain": [
       "                      site_id floor_id  wifi_beacon_count  location_count   \n",
       "903  5cd56b5ae2acfd2d33b58546       F1               2076              31  \\\n",
       "\n",
       "     sample_per_loc  \n",
       "903       66.967742  "
      ]
     },
     "execution_count": 139,
     "metadata": {},
     "output_type": "execute_result"
    }
   ],
   "source": [
    "floor_stats_df[floor_stats_df[\"sample_per_loc\"] == floor_stats_df[\"sample_per_loc\"].max()]"
   ]
  },
  {
   "cell_type": "code",
   "execution_count": null,
   "metadata": {},
   "outputs": [],
   "source": []
  },
  {
   "cell_type": "code",
   "execution_count": null,
   "metadata": {},
   "outputs": [],
   "source": []
  },
  {
   "cell_type": "code",
   "execution_count": 77,
   "metadata": {},
   "outputs": [],
   "source": [
    "wifi_fingerprint_data_dir = Path(\"../../data/wifi_fingerprint_manual/train/\")"
   ]
  },
  {
   "cell_type": "code",
   "execution_count": null,
   "metadata": {},
   "outputs": [],
   "source": [
    "with open(\"../../data/output/site_floor_wifi_beacon_stats.csv\", \"w\") as f:\n",
    "  f.write(\"site_id,floor_id,wifi_beacon_count,location_count\\n\")\n",
    "  f.flush()\n",
    "\n",
    "  for site_id in tqdm(sites, desc=\"Site\"):\n",
    "    site_floor_ids = list_floors(site_id, data_dir)\n",
    "    for floor_id in tqdm(site_floor_ids, desc=\"Floor\"):\n",
    "      track_files = list_track_files(site_id, floor_id, data_dir)\n",
    "      wifi_beacon_count, location_count = count_wifi_beacons_and_locations(track_files)\n",
    "      f.write(f\"{site_id},{floor_id},{wifi_beacon_count},{location_count}\\n\")\n",
    "      f.flush()\n",
    "    "
   ]
  },
  {
   "cell_type": "code",
   "execution_count": 121,
   "metadata": {},
   "outputs": [],
   "source": [
    "site_id = \"5cd56c18e2acfd2d33b6c321\"\n",
    "floor_id = \"L2\""
   ]
  },
  {
   "cell_type": "code",
   "execution_count": 122,
   "metadata": {},
   "outputs": [],
   "source": [
    "train_files = glob(str(wifi_fingerprint_data_dir / site_id / floor_id) + \"/*_wifi_fingerprint.csv\")"
   ]
  },
  {
   "cell_type": "code",
   "execution_count": 123,
   "metadata": {},
   "outputs": [],
   "source": [
    "wifi_fingerprint_df_list = [pd.read_csv(train_file) for train_file in train_files]"
   ]
  },
  {
   "cell_type": "code",
   "execution_count": 124,
   "metadata": {},
   "outputs": [],
   "source": [
    "wifi_beacon_count = np.sum([df[\"sys_ts\"].unique().shape[0] for df in wifi_fingerprint_df_list])"
   ]
  },
  {
   "cell_type": "code",
   "execution_count": 125,
   "metadata": {},
   "outputs": [
    {
     "data": {
      "text/plain": [
       "2515"
      ]
     },
     "execution_count": 125,
     "metadata": {},
     "output_type": "execute_result"
    }
   ],
   "source": [
    "wifi_beacon_count"
   ]
  },
  {
   "cell_type": "code",
   "execution_count": 126,
   "metadata": {},
   "outputs": [],
   "source": [
    "location_count = count_distinct_locations(pd.concat(wifi_fingerprint_df_list)[[\"x\", \"y\"]].values, bin_size=2)"
   ]
  },
  {
   "cell_type": "code",
   "execution_count": 127,
   "metadata": {},
   "outputs": [
    {
     "data": {
      "text/plain": [
       "737"
      ]
     },
     "execution_count": 127,
     "metadata": {},
     "output_type": "execute_result"
    }
   ],
   "source": [
    "location_count"
   ]
  },
  {
   "cell_type": "code",
   "execution_count": null,
   "metadata": {},
   "outputs": [],
   "source": []
  },
  {
   "cell_type": "code",
   "execution_count": null,
   "metadata": {},
   "outputs": [],
   "source": []
  },
  {
   "cell_type": "code",
   "execution_count": null,
   "metadata": {},
   "outputs": [],
   "source": []
  },
  {
   "cell_type": "code",
   "execution_count": null,
   "metadata": {},
   "outputs": [],
   "source": []
  }
 ],
 "metadata": {
  "kernelspec": {
   "display_name": "venv",
   "language": "python",
   "name": "python3"
  },
  "language_info": {
   "codemirror_mode": {
    "name": "ipython",
    "version": 3
   },
   "file_extension": ".py",
   "mimetype": "text/x-python",
   "name": "python",
   "nbconvert_exporter": "python",
   "pygments_lexer": "ipython3",
   "version": "3.10.12"
  },
  "orig_nbformat": 4
 },
 "nbformat": 4,
 "nbformat_minor": 2
}
