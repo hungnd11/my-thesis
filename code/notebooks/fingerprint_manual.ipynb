{
 "cells": [
  {
   "cell_type": "markdown",
   "metadata": {},
   "source": [
    "# WiFi Fingerprint Extraction from Manually Collected Data"
   ]
  },
  {
   "cell_type": "code",
   "execution_count": 1,
   "metadata": {
    "tags": []
   },
   "outputs": [],
   "source": [
    "import pandas as pd\n",
    "import numpy as np"
   ]
  },
  {
   "cell_type": "code",
   "execution_count": 2,
   "metadata": {
    "tags": []
   },
   "outputs": [],
   "source": [
    "from glob import glob"
   ]
  },
  {
   "cell_type": "code",
   "execution_count": 3,
   "metadata": {},
   "outputs": [],
   "source": [
    "import os"
   ]
  },
  {
   "cell_type": "code",
   "execution_count": 4,
   "metadata": {},
   "outputs": [
    {
     "name": "stdout",
     "output_type": "stream",
     "text": [
      "The library is located at ./../../code/indoor-location-competition-20\n"
     ]
    }
   ],
   "source": [
    "import sys\n",
    "\n",
    "PROJECT_HOME = \"./../..\"\n",
    "# Add utilities library for Microsoft Indoor Localization 2.0 Dataset\n",
    "INDOOR_COMPETITION_20_DIR = os.path.join(\n",
    "    PROJECT_HOME, \"code\", \"indoor-location-competition-20\"\n",
    ")\n",
    "print(\"The library is located at\", INDOOR_COMPETITION_20_DIR)\n",
    "sys.path.append(INDOOR_COMPETITION_20_DIR)"
   ]
  },
  {
   "cell_type": "code",
   "execution_count": 5,
   "metadata": {},
   "outputs": [],
   "source": [
    "from io_f import read_data_file"
   ]
  },
  {
   "cell_type": "code",
   "execution_count": 183,
   "metadata": {},
   "outputs": [],
   "source": [
    "from tqdm import tqdm"
   ]
  },
  {
   "cell_type": "code",
   "execution_count": 23,
   "metadata": {},
   "outputs": [],
   "source": [
    "import matplotlib.pyplot as plt\n",
    "%matplotlib inline"
   ]
  },
  {
   "cell_type": "markdown",
   "metadata": {},
   "source": [
    "## Explore the Dataset"
   ]
  },
  {
   "cell_type": "code",
   "execution_count": 6,
   "metadata": {},
   "outputs": [],
   "source": [
    "sites = list(glob(\"../../data/train/*\"))"
   ]
  },
  {
   "cell_type": "code",
   "execution_count": 7,
   "metadata": {},
   "outputs": [
    {
     "data": {
      "text/plain": [
       "204"
      ]
     },
     "execution_count": 7,
     "metadata": {},
     "output_type": "execute_result"
    }
   ],
   "source": [
    "len(sites)"
   ]
  },
  {
   "cell_type": "code",
   "execution_count": 8,
   "metadata": {},
   "outputs": [
    {
     "data": {
      "text/plain": [
       "'../../data/train/5da138b74db8ce0c98bd4774'"
      ]
     },
     "execution_count": 8,
     "metadata": {},
     "output_type": "execute_result"
    }
   ],
   "source": [
    "sites[0]"
   ]
  },
  {
   "cell_type": "code",
   "execution_count": 9,
   "metadata": {},
   "outputs": [
    {
     "data": {
      "text/plain": [
       "['../../data/train/5da138b74db8ce0c98bd4774/F5',\n",
       " '../../data/train/5da138b74db8ce0c98bd4774/F2',\n",
       " '../../data/train/5da138b74db8ce0c98bd4774/B2',\n",
       " '../../data/train/5da138b74db8ce0c98bd4774/F4',\n",
       " '../../data/train/5da138b74db8ce0c98bd4774/B1',\n",
       " '../../data/train/5da138b74db8ce0c98bd4774/F1',\n",
       " '../../data/train/5da138b74db8ce0c98bd4774/F3']"
      ]
     },
     "execution_count": 9,
     "metadata": {},
     "output_type": "execute_result"
    }
   ],
   "source": [
    "list(glob(sites[0] + \"/*\"))"
   ]
  },
  {
   "cell_type": "code",
   "execution_count": 10,
   "metadata": {},
   "outputs": [
    {
     "data": {
      "text/plain": [
       "85"
      ]
     },
     "execution_count": 10,
     "metadata": {},
     "output_type": "execute_result"
    }
   ],
   "source": [
    "len(list(glob(sites[0] + \"/F1/*\")))"
   ]
  },
  {
   "cell_type": "code",
   "execution_count": 11,
   "metadata": {},
   "outputs": [],
   "source": [
    "track_file_list = list(glob(sites[0] + \"/F1/*\"))"
   ]
  },
  {
   "cell_type": "code",
   "execution_count": null,
   "metadata": {},
   "outputs": [],
   "source": [
    "path_data = read_data_file(track_file_list[0])"
   ]
  },
  {
   "cell_type": "code",
   "execution_count": 189,
   "metadata": {},
   "outputs": [],
   "source": [
    "def extract_waypoint_df(waypoint_array: np.ndarray, verbose=False):\n",
    "  waypoint_schema = {\n",
    "    \"sys_ts\": \"System timestamp\",\n",
    "    \"x\": \"Coordinate x (meter)\",\n",
    "    \"y\": \"Coordinate y (meter)\"\n",
    "  }\n",
    "\n",
    "  assert waypoint_array.shape[1] == 3, f\"invalid shape, expected: (?, 3), actual: (?, {waypoint_array.shape[1]})\"\n",
    "\n",
    "  waypoint_df = pd.DataFrame(waypoint_array, columns=list(waypoint_schema.keys()))\n",
    "  waypoint_df[\"sys_ts\"] = waypoint_df[\"sys_ts\"].astype(np.int64)\n",
    "  waypoint_df[\"x\"] = waypoint_df[\"x\"].astype(np.float32)\n",
    "  waypoint_df[\"y\"] = waypoint_df[\"y\"].astype(np.float32)\n",
    "  waypoint_df.sort_values(by=\"sys_ts\", inplace=True)\n",
    "\n",
    "  if verbose:\n",
    "    sys_time_diff = (waypoint_df[\"sys_ts\"].values[1:] - waypoint_df[\"sys_ts\"].values[:-1]) / 1000\n",
    "    print(f\"Summary stats: n_samples={waypoint_df.shape[0]}, mean={sys_time_diff.mean():.2f}s, std={sys_time_diff.std():.2f}s\")\n",
    "\n",
    "  return waypoint_df\n"
   ]
  },
  {
   "cell_type": "code",
   "execution_count": 190,
   "metadata": {},
   "outputs": [],
   "source": [
    "waypoint_df = extract_waypoint_df(path_data.waypoint)"
   ]
  },
  {
   "cell_type": "code",
   "execution_count": 191,
   "metadata": {},
   "outputs": [],
   "source": [
    "def extract_wifi_df(wifi: np.ndarray, verbose=False):\n",
    "  wifi_schema = {\n",
    "    \"sys_ts\": \"system timestamp\",\n",
    "    \"ssid\": \"the network name\",\n",
    "    \"bssid\": \"the MAC address of the AP\",\n",
    "    \"rssi\": \"RSSI\",\n",
    "    \"freq\": \"Frequency\",\n",
    "    \"last_seen_ts\": \"timestamp in microseconds (since boot) when this result was last seen\"\n",
    "  }\n",
    "  wifi_df = pd.DataFrame(wifi, columns=list(wifi_schema.keys()))\n",
    "  wifi_df[\"bssid\"] = wifi_df[\"bssid\"].astype(\"category\")\n",
    "  wifi_df[\"ssid\"] = wifi_df[\"ssid\"].astype(\"category\")\n",
    "  wifi_df[\"sys_ts\"] = wifi_df[\"sys_ts\"].astype(np.int64)\n",
    "  wifi_df[\"last_seen_ts\"] = wifi_df[\"last_seen_ts\"].astype(np.int64)\n",
    "  wifi_df[\"rssi\"] = wifi_df[\"rssi\"].astype(np.int32)\n",
    "  wifi_df[\"freq\"] = wifi_df[\"freq\"].astype(np.int32)\n",
    "\n",
    "  if verbose:\n",
    "    print(f\"Summary stats: n_samples={wifi_df.shape[0]}, n_seen_bssid={wifi_df.bssid.unique().shape[0]}, n_seen_ssid={wifi_df.ssid.unique().shape[0]}\")\n",
    "  return wifi_df"
   ]
  },
  {
   "cell_type": "code",
   "execution_count": 188,
   "metadata": {},
   "outputs": [],
   "source": [
    "wifi_df = extract_wifi_df(path_data.wifi)"
   ]
  },
  {
   "cell_type": "markdown",
   "metadata": {},
   "source": [
    "## Interpolate waypoints for WiFi fingerprints\n"
   ]
  },
  {
   "cell_type": "code",
   "execution_count": 195,
   "metadata": {},
   "outputs": [],
   "source": [
    "def interpolate_wifi_waypoints(waypoint_df: pd.DataFrame, track_wifi_df: pd.DataFrame, max_offset_sec: int=2) -> pd.DataFrame:\n",
    "  \"\"\"\n",
    "  Interpolation Rules:\n",
    "  - For points with timestamps near the start and end waypoints, assign the locations of start/end waypoints to these points.\n",
    "  - For points with timestamps between those of start and end waypoints, linear interpolate locations of these points.\n",
    "\n",
    "  Params:\n",
    "    waypoint_df: a pd.DataFrame represents waypoints\n",
    "    track_wifi_df: a pd.DataFrame represents wifi fingerprints\n",
    "    max_offset_sec: maximum offset in seconds\n",
    "\n",
    "  Returns: a pd.DataFrame of wifi waypoints\n",
    "  \"\"\"\n",
    "  assert \"sys_ts\" in waypoint_df.columns\n",
    "  assert \"sys_ts\" in track_wifi_df.columns\n",
    "\n",
    "  max_offset_millis = max_offset_sec * 1000\n",
    "\n",
    "  waypoint_ts = waypoint_df[\"sys_ts\"].values\n",
    "  waypoint_x, waypoint_y = waypoint_df[\"x\"].values, waypoint_df[\"y\"].values\n",
    "\n",
    "  wifi_ts = track_wifi_df[\"sys_ts\"].unique()\n",
    "\n",
    "  interpolated_x = np.ones_like(wifi_ts, dtype=np.float32) * -1\n",
    "  interpolated_y = np.ones_like(wifi_ts, dtype=np.float32) * -1\n",
    "\n",
    "  # Points near the left pivot\n",
    "  left_pivot_mask = (wifi_ts <= waypoint_ts[0]) & (waypoint_ts[0] - wifi_ts <= max_offset_sec)\n",
    "  interpolated_x[left_pivot_mask] = waypoint_x[0]\n",
    "  interpolated_y[left_pivot_mask] = waypoint_y[0]\n",
    "\n",
    "  # Points near the right pivot\n",
    "  right_pivot_mask = (wifi_ts > waypoint_ts[-1]) & (wifi_ts - waypoint_ts[-1] <= max_offset_sec)\n",
    "  interpolated_x[right_pivot_mask] = waypoint_x[-1]\n",
    "  interpolated_y[right_pivot_mask] = waypoint_y[-1]\n",
    "  \n",
    "  # Inner points: waypoint_ts[left_idx] < wifi_ts <= waypoint_ts[right_idx]\n",
    "  right_idx = np.searchsorted(waypoint_ts, wifi_ts, side=\"left\")\n",
    "  left_idx = right_idx - 1\n",
    "  inner_mask = (right_idx > 0) & (right_idx < len(waypoint_ts))\n",
    "  prev_waypoint_ts, next_waypoint_ts = waypoint_ts[left_idx[inner_mask]], waypoint_ts[right_idx[inner_mask]]\n",
    "  frac = (wifi_ts[inner_mask] - prev_waypoint_ts) / (next_waypoint_ts - prev_waypoint_ts)\n",
    "  interpolated_x[inner_mask] = waypoint_x[left_idx[inner_mask]] + frac * (waypoint_x[right_idx[inner_mask]] - waypoint_x[left_idx[inner_mask]])\n",
    "  interpolated_y[inner_mask] = waypoint_y[left_idx[inner_mask]] + frac * (waypoint_y[right_idx[inner_mask]] - waypoint_y[left_idx[inner_mask]])\n",
    "\n",
    "  keep_mask = interpolated_x != -1\n",
    "  wifi_waypoint_df = pd.DataFrame(\n",
    "    np.vstack([wifi_ts[keep_mask], interpolated_x[keep_mask], interpolated_y[keep_mask]]).T, \n",
    "    columns=[\"sys_ts\", \"x\", \"y\"])\n",
    "\n",
    "  return wifi_waypoint_df"
   ]
  },
  {
   "cell_type": "code",
   "execution_count": 159,
   "metadata": {},
   "outputs": [],
   "source": [
    "wifi_waypoint_df = interpolate_wifi_waypoints(waypoint_df, wifi_df, max_offset_sec=2)"
   ]
  },
  {
   "cell_type": "code",
   "execution_count": 160,
   "metadata": {},
   "outputs": [
    {
     "data": {
      "image/png": "[encoded data removed]",
      "text/plain": [
       "<Figure size 1000x600 with 1 Axes>"
      ]
     },
     "metadata": {},
     "output_type": "display_data"
    }
   ],
   "source": [
    "fig, ax = plt.subplots(1, 1, figsize=(10, 6))\n",
    "ax.scatter(waypoint_df[\"x\"].values, waypoint_df[\"y\"].values, marker=\"^\", color=\"blue\", label=\"waypoint\")\n",
    "ax.scatter(wifi_waypoint_df[\"x\"].values, wifi_waypoint_df[\"y\"].values, marker=\"x\", color=\"red\", label=\"interpolated waypoint\")\n",
    "\n",
    "ax.set_xlabel(\"x\")\n",
    "ax.set_ylabel(\"y\")\n",
    "ax.legend()\n",
    "\n",
    "plt.show()"
   ]
  },
  {
   "cell_type": "code",
   "execution_count": 161,
   "metadata": {},
   "outputs": [],
   "source": [
    "wifi_fingerprint_df = pd.merge(wifi_df, wifi_waypoint_df, left_on=\"sys_ts\", right_on=\"sys_ts\")"
   ]
  },
  {
   "cell_type": "markdown",
   "metadata": {},
   "source": [
    "## Ground-truth Data Extraction Pipeline"
   ]
  },
  {
   "cell_type": "code",
   "execution_count": 166,
   "metadata": {},
   "outputs": [],
   "source": [
    "input_dir = \"../../data/train/\"\n",
    "output_dir = \"../../data/wifi_fingerprint_manual/train/\"\n",
    "\n",
    "if not input_dir.endswith(\"/\"):\n",
    "  input_dir += \"/\"\n",
    "\n",
    "if not output_dir.endswith(\"/\"):\n",
    "  output_dir += \"/\""
   ]
  },
  {
   "cell_type": "code",
   "execution_count": 165,
   "metadata": {},
   "outputs": [],
   "source": [
    "input_sites = list(glob(input_dir + \"*\"))"
   ]
  },
  {
   "cell_type": "code",
   "execution_count": 185,
   "metadata": {},
   "outputs": [],
   "source": [
    "track_list = []\n",
    "\n",
    "for site_path in input_sites:\n",
    "  site_id = os.path.basename(site_path)\n",
    "  \n",
    "  input_floor_paths = glob(site_path + \"/*\")\n",
    "  for input_floor_path in input_floor_paths:\n",
    "    floor_id = os.path.basename(input_floor_path)\n",
    "\n",
    "    # Track\n",
    "    track_path_list = list(glob(input_floor_path + \"/*\"))\n",
    "    track_list.extend([\n",
    "      {\n",
    "        \"site_id\": site_id,\n",
    "        \"floor_id\": floor_id,\n",
    "        \"track_id\": os.path.splitext(os.path.basename(track_path))[0],\n",
    "        \"track_path\": track_path,\n",
    "      }\n",
    "      for track_path in track_path_list\n",
    "    ])\n",
    "    \n",
    "track_list_df = pd.DataFrame(track_list)"
   ]
  },
  {
   "cell_type": "code",
   "execution_count": 199,
   "metadata": {},
   "outputs": [
    {
     "name": "stderr",
     "output_type": "stream",
     "text": [
      "  2%|▏         | 672/26925 [01:52<1:12:57,  6.00it/s]\n"
     ]
    },
    {
     "ename": "KeyboardInterrupt",
     "evalue": "",
     "output_type": "error",
     "traceback": [
      "\u001b[0;31m---------------------------------------------------------------------------\u001b[0m",
      "\u001b[0;31mKeyboardInterrupt\u001b[0m                         Traceback (most recent call last)",
      "File \u001b[0;32m<timed exec>:10\u001b[0m\n",
      "File \u001b[0;32m~/Workspace/HUST_Masters/thesis/code/notebooks/./../../code/indoor-location-competition-20/io_f.py:63\u001b[0m, in \u001b[0;36mread_data_file\u001b[0;34m(data_filename)\u001b[0m\n\u001b[1;32m     60\u001b[0m     \u001b[39mcontinue\u001b[39;00m\n\u001b[1;32m     62\u001b[0m \u001b[39mif\u001b[39;00m line_data[\u001b[39m1\u001b[39m] \u001b[39m==\u001b[39m \u001b[39m'\u001b[39m\u001b[39mTYPE_MAGNETIC_FIELD_UNCALIBRATED\u001b[39m\u001b[39m'\u001b[39m:\n\u001b[0;32m---> 63\u001b[0m     magn_uncali\u001b[39m.\u001b[39;49mappend([\u001b[39mint\u001b[39;49m(line_data[\u001b[39m0\u001b[39;49m]), \u001b[39mfloat\u001b[39;49m(line_data[\u001b[39m2\u001b[39;49m]), \u001b[39mfloat\u001b[39;49m(line_data[\u001b[39m3\u001b[39;49m]), \u001b[39mfloat\u001b[39;49m(line_data[\u001b[39m4\u001b[39;49m])])\n\u001b[1;32m     64\u001b[0m     \u001b[39mcontinue\u001b[39;00m\n\u001b[1;32m     66\u001b[0m \u001b[39mif\u001b[39;00m line_data[\u001b[39m1\u001b[39m] \u001b[39m==\u001b[39m \u001b[39m'\u001b[39m\u001b[39mTYPE_ROTATION_VECTOR\u001b[39m\u001b[39m'\u001b[39m:\n",
      "\u001b[0;31mKeyboardInterrupt\u001b[0m: "
     ]
    },
    {
     "ename": "",
     "evalue": "",
     "output_type": "error",
     "traceback": [
      "\u001b[1;31mThe Kernel crashed while executing code in the the current cell or a previous cell. Please review the code in the cell(s) to identify a possible cause of the failure. Click <a href='https://aka.ms/vscodeJupyterKernelCrash'>here</a> for more info. View Jupyter <a href='command:jupyter.viewOutput'>log</a> for further details."
     ]
    }
   ],
   "source": [
    "%%time\n",
    "\n",
    "failed_tracks = []\n",
    "\n",
    "for track_spec in tqdm(track_list):\n",
    "  output_path = output_dir + track_spec[\"site_id\"] + \"/\" + track_spec[\"floor_id\"]\n",
    "  if not os.path.exists(output_path):\n",
    "    os.makedirs(output_path)\n",
    "  \n",
    "  try:\n",
    "    # Read input\n",
    "    path_data = read_data_file(track_spec[\"track_path\"])\n",
    "\n",
    "    # Extract and transform the datasets\n",
    "    waypoint_df = extract_waypoint_df(path_data.waypoint)\n",
    "    wifi_df = extract_wifi_df(path_data.wifi)\n",
    "    wifi_waypoint_df = interpolate_wifi_waypoints(waypoint_df, wifi_df, max_offset_sec=2)\n",
    "    wifi_fingerprint_df = pd.merge(wifi_df, wifi_waypoint_df, left_on=\"sys_ts\", right_on=\"sys_ts\")\n",
    "\n",
    "    # Save output\n",
    "    waypoint_df.to_csv(output_path + \"/\" + track_spec[\"track_id\"] + \"_waypoint.csv\", index=False, header=True)\n",
    "    wifi_df.to_csv(output_path + \"/\" + track_spec[\"track_id\"] + \"_wifi.csv\", index=False, header=True)\n",
    "    wifi_fingerprint_df.to_csv(output_path + \"/\" + track_spec[\"track_id\"] + \"_wifi_fingerprint.csv\", index=False, header=True)\n",
    "  \n",
    "  except Exception as e:\n",
    "    failed_tracks.append(track_spec)\n",
    "    print(f\"[ERROR] Failed to process track located at {track_spec['track_path']}, caused by: {str(e)}\")"
   ]
  },
  {
   "cell_type": "code",
   "execution_count": null,
   "metadata": {},
   "outputs": [],
   "source": []
  }
 ],
 "metadata": {
  "kernelspec": {
   "display_name": "Python 3 (ipykernel)",
   "language": "python",
   "name": "python3"
  },
  "language_info": {
   "codemirror_mode": {
    "name": "ipython",
    "version": 3
   },
   "file_extension": ".py",
   "mimetype": "text/x-python",
   "name": "python",
   "nbconvert_exporter": "python",
   "pygments_lexer": "ipython3",
   "version": "3.10.12"
  }
 },
 "nbformat": 4,
 "nbformat_minor": 4
}
