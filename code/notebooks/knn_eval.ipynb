{
 "cells": [
  {
   "cell_type": "markdown",
   "metadata": {},
   "source": [
    "# KNN\n",
    "\n",
    "* WiFi Fingerprint-based Indoor Localization using `kNN` regression."
   ]
  },
  {
   "cell_type": "code",
   "execution_count": 1,
   "metadata": {},
   "outputs": [
    {
     "name": "stdout",
     "output_type": "stream",
     "text": [
      "The code directory is located at ./../../code\n"
     ]
    }
   ],
   "source": [
    "import os\n",
    "import sys\n",
    "\n",
    "PROJECT_HOME = \"./../..\"\n",
    "# Add utilities library for Microsoft Indoor Localization 2.0 Dataset\n",
    "CODE_DIR = os.path.join(PROJECT_HOME, \"code\")\n",
    "print(\"The code directory is located at\", CODE_DIR)\n",
    "sys.path.append(CODE_DIR)"
   ]
  },
  {
   "cell_type": "code",
   "execution_count": 2,
   "metadata": {},
   "outputs": [],
   "source": [
    "import pandas as pd\n",
    "import numpy as np\n",
    "import matplotlib.pyplot as plt\n",
    "\n",
    "from collections import defaultdict\n",
    "from sklearn.neighbors import KNeighborsRegressor\n",
    "from sklearn.decomposition import PCA\n",
    "from sklearn.decomposition import KernelPCA\n",
    "from sklearn.preprocessing import MaxAbsScaler\n",
    "from tqdm import tqdm\n",
    "\n",
    "from py_indoor_loc.floor_map import read_floor_data, extract_floor_map_geometries"
   ]
  },
  {
   "cell_type": "code",
   "execution_count": 3,
   "metadata": {},
   "outputs": [],
   "source": [
    "%matplotlib inline"
   ]
  },
  {
   "cell_type": "code",
   "execution_count": 4,
   "metadata": {},
   "outputs": [],
   "source": [
    "np.random.seed(1)"
   ]
  },
  {
   "cell_type": "code",
   "execution_count": 5,
   "metadata": {},
   "outputs": [],
   "source": [
    "FLOOR_MAP_BASE_DIR = \"../../data/metadata/\"\n",
    "DATA_IN_DIR = \"../../data/wifi_fingerprint_manual/train/\"\n",
    "DATA_OUT_DIR = \"../../data/knn_manual/\""
   ]
  },
  {
   "cell_type": "markdown",
   "metadata": {},
   "source": [
    "## Read Train/Test Assignment"
   ]
  },
  {
   "cell_type": "code",
   "execution_count": 6,
   "metadata": {},
   "outputs": [],
   "source": [
    "def get_track_filepaths(assignment_df: pd.DataFrame, base_data_dir: str) -> list[str]:\n",
    "  result = []\n",
    "\n",
    "  for _, row in assignment_df.iterrows():\n",
    "    file_path = f\"{base_data_dir}{row['site_id']}/{row['floor_id']}/{row['track_id']}_wifi_fingerprint.csv\"\n",
    "    if not os.path.exists(file_path):\n",
    "      print(f\"File {file_path} does not exist.\")\n",
    "      continue\n",
    "    result.append(file_path)\n",
    "    \n",
    "  return result"
   ]
  },
  {
   "cell_type": "code",
   "execution_count": 7,
   "metadata": {},
   "outputs": [],
   "source": [
    "def get_band(freq):\n",
    "  d2400 = np.abs(freq - 2400)\n",
    "  d5000 = np.abs(freq - 5000)\n",
    "  band = np.zeros_like(freq)\n",
    "  band[d2400 < d5000] = 2400\n",
    "  band[d2400 >= d5000] = 5000\n",
    "  return band\n",
    "\n",
    "\n",
    "def extract_bssid_set(wifi_fingerprint_df_list: list[pd.DataFrame], min_times: int = 1000) -> set[str]:\n",
    "  \"\"\"\n",
    "  Extract the set of bssid which occurs at least a specified number of times.\n",
    "\n",
    "  Args:\n",
    "    wifi_fingerprint_df_list: a list of \n",
    "\n",
    "  Refs:\n",
    "    https://www.kaggle.com/code/devinanzelmo/wifi-features/notebook\n",
    "  \"\"\"\n",
    "  bssid_sample_count = defaultdict(int)\n",
    "\n",
    "  for df in wifi_fingerprint_df_list:\n",
    "    df_bssid_sample_count = df[\"bssid\"].value_counts().to_dict()\n",
    "    for bssid, count in df_bssid_sample_count.items():\n",
    "      bssid_sample_count[bssid] += count\n",
    "  \n",
    "  bssid_set = {k for k, v in bssid_sample_count.items() if v >= min_times}\n",
    "\n",
    "  return bssid_set\n",
    "\n",
    "\n",
    "def create_fingerprint_vector(group_data: pd.DataFrame,\n",
    "                              bssid_vector: np.ndarray,\n",
    "                              not_seen_rssi: float = -1000) -> np.ndarray:\n",
    "  v = np.zeros_like(bssid_vector, dtype=np.float32) + not_seen_rssi\n",
    "\n",
    "  for bssid, rssi in group_data[[\"bssid\", \"rssi\"]].values:\n",
    "    v[bssid_vector == bssid] = rssi\n",
    "\n",
    "  return v\n",
    "\n",
    "\n",
    "def extract_fingerprint_df(fingerprint_files, \n",
    "                           wifi_band=(2400, 5000), \n",
    "                           min_samples: int = 0,\n",
    "                           not_seen_rssi: float = -1000,\n",
    "                           max_scan_time_gap_ms: float = 2000):\n",
    "  if isinstance(wifi_band, int):\n",
    "    wifi_band = {wifi_band}\n",
    "\n",
    "  wifi_fingerprint_df_list = [pd.read_csv(file) for file in fingerprint_files]\n",
    "\n",
    "  # Adding frequency band\n",
    "  for df in wifi_fingerprint_df_list:\n",
    "    df[\"freq_band\"] = get_band(df[\"freq\"].values)\n",
    "\n",
    "  wifi_fingerprint_fb_df_list = [\n",
    "      df[df[\"freq_band\"].isin(wifi_band) & (df[\"sys_ts\"] - df[\"last_seen_ts\"] <= max_scan_time_gap_ms)] for df in wifi_fingerprint_df_list\n",
    "  ]\n",
    "\n",
    "  bssid_set = extract_bssid_set(wifi_fingerprint_fb_df_list, min_times=min_samples)\n",
    "  print(f\"The number of BSSIDs with at least {min_samples} samples: {len(bssid_set)}\")\n",
    "  bssid_vector = np.array(list(bssid_set))\n",
    "\n",
    "  fingerprint_tuples = []\n",
    "  for df in tqdm(wifi_fingerprint_fb_df_list):\n",
    "    for (sys_ts, x, y), group_data in df.groupby([\"sys_ts\", \"x\", \"y\"]):\n",
    "      fingerprint_vector = create_fingerprint_vector(group_data,\n",
    "                                                     bssid_vector,\n",
    "                                                     not_seen_rssi=not_seen_rssi)\n",
    "      fingerprint_tuples.append((x, y, fingerprint_vector))\n",
    "\n",
    "  print(f\"The number of fingerprints: {len(fingerprint_tuples)}\")\n",
    "\n",
    "  return pd.DataFrame(fingerprint_tuples, columns=[\"x\", \"y\", \"v\"]), bssid_vector"
   ]
  },
  {
   "cell_type": "code",
   "execution_count": 8,
   "metadata": {},
   "outputs": [],
   "source": [
    "def translator(test_bssid, train_bssid, unseen_rssi=-100):\n",
    "  \"\"\"\n",
    "  A translator translates the X_test in the test space into the associated vector in the train space.\n",
    "  \"\"\"\n",
    "  def c(X_test):\n",
    "    X_test_translated = np.zeros((X_test.shape[0], train_bssid.shape[0])) + unseen_rssi\n",
    "    for i, train_b in enumerate(train_bssid):\n",
    "      indices = np.where(test_bssid == train_b)[0]\n",
    "\n",
    "      if len(indices) == 1:\n",
    "        X_test_translated[:, i] = X_test[:, indices[0]]\n",
    "    \n",
    "    return X_test_translated\n",
    "  \n",
    "  return c\n",
    "    "
   ]
  },
  {
   "cell_type": "markdown",
   "metadata": {},
   "source": [
    "### Read Train/Test Assignment"
   ]
  },
  {
   "cell_type": "code",
   "execution_count": 9,
   "metadata": {},
   "outputs": [],
   "source": [
    "train_test_assignment = pd.read_csv(\"../../data/output/train_test_assignment.csv\")\n",
    "train_test_assignment[\"site_id\"] = train_test_assignment[\"site_id\"].astype(\"category\")\n",
    "train_test_assignment[\"floor_id\"] = train_test_assignment[\"floor_id\"].astype(\"category\")\n",
    "train_test_assignment[\"dataset\"] = train_test_assignment[\"dataset\"].astype(\"category\")"
   ]
  },
  {
   "cell_type": "code",
   "execution_count": 10,
   "metadata": {},
   "outputs": [],
   "source": [
    "site_and_floor = train_test_assignment[[\"site_id\", \"floor_id\"]].drop_duplicates().values"
   ]
  },
  {
   "cell_type": "code",
   "execution_count": 11,
   "metadata": {},
   "outputs": [
    {
     "name": "stdout",
     "output_type": "stream",
     "text": [
      "The number of (site, floor) pairs: 981\n"
     ]
    }
   ],
   "source": [
    "print(f\"The number of (site, floor) pairs: {len(site_and_floor)}\")"
   ]
  },
  {
   "cell_type": "code",
   "execution_count": 23,
   "metadata": {},
   "outputs": [],
   "source": [
    "def read_train_test_data(site_id: str, floor_id: str, train_test_assignment: pd.DataFrame, base_data_dir: str, **kwargs) -> tuple[pd.DataFrame, np.ndarray, pd.DataFrame, np.ndarray] | None:\n",
    "\n",
    "  ap_not_seen_rssi = float(kwargs.get(\"ap_not_seen_rssi\", \"-1000\"))\n",
    "  print(f\"[INFO] Reading track files for site_id={site_id}, floor_id={floor_id}\")\n",
    "\n",
    "  track_assignment = train_test_assignment[(train_test_assignment[\"site_id\"] == site_id) & (train_test_assignment[\"floor_id\"] == floor_id)]\n",
    "  \n",
    "  if track_assignment.shape[0] <= 1:\n",
    "    print(f\"[WARN] There must be at least 2 tracks, but found {track_assignment.shape[0]}.\")\n",
    "    return None\n",
    "  \n",
    "  train_tracks = track_assignment[track_assignment[\"dataset\"] == \"train\"]\n",
    "  test_tracks = track_assignment[track_assignment[\"dataset\"] == \"test\"]\n",
    "  train_files = get_track_filepaths(train_tracks, base_data_dir)\n",
    "  test_files = get_track_filepaths(test_tracks, base_data_dir)\n",
    "\n",
    "  print(f\"[INFO] The number of train files: {len(train_files)}\")\n",
    "  print(f\"[INFO] The number of test files: {len(test_files)}\")\n",
    "  \n",
    "  train_fingerprint_df, train_bssid = extract_fingerprint_df(train_files, min_samples=0, not_seen_rssi=ap_not_seen_rssi)\n",
    "  test_fingerprint_df, test_bssid = extract_fingerprint_df(test_files, min_samples=0, not_seen_rssi=ap_not_seen_rssi)\n",
    "\n",
    "  return train_fingerprint_df, train_bssid, test_fingerprint_df, test_bssid"
   ]
  },
  {
   "cell_type": "markdown",
   "metadata": {},
   "source": [
    "## Visualize train/test data with floormap"
   ]
  },
  {
   "cell_type": "code",
   "execution_count": 13,
   "metadata": {},
   "outputs": [],
   "source": [
    "def visualize_and_save_fig(site_id, floor_id, train_fingerprint_df, test_fingerprint_df):\n",
    "  \n",
    "  floor_info, floor_map = read_floor_data(os.path.join(FLOOR_MAP_BASE_DIR, site_id, floor_id))\n",
    "\n",
    "  transform_func = lambda coords: coords\n",
    "  (\n",
    "    floor_polygons,\n",
    "    store_polygons,\n",
    "    x_min,\n",
    "    y_min,\n",
    "    x_max,\n",
    "    y_max,\n",
    "    width_meter,\n",
    "    height_meter,\n",
    "  ) = extract_floor_map_geometries(floor_map, floor_info, transform=transform_func)\n",
    "  fig, ax = plt.subplots(1, 1, figsize=(18, 12))\n",
    "\n",
    "  for floor_polygon in floor_polygons:\n",
    "    x, y = floor_polygon.exterior.xy\n",
    "    _ = ax.plot(x, y, color=\"green\")\n",
    "\n",
    "  for store_polygon in store_polygons:\n",
    "    x, y = store_polygon.exterior.xy\n",
    "    _ = ax.plot(x, y, color=\"blue\")\n",
    "\n",
    "  _ = ax.set_xlabel(\"x\")\n",
    "  _ = ax.set_ylabel(\"y\")\n",
    "  _ = ax.set_title(\"Floormap\")\n",
    "\n",
    "  train_fingerprint_location = transform_func(train_fingerprint_df[[\"x\", \"y\"]].values)\n",
    "  test_fingerprint_location = transform_func(test_fingerprint_df[[\"x\", \"y\"]].values)\n",
    "  _ = ax.scatter(train_fingerprint_location[:, 0],\n",
    "            train_fingerprint_location[:, 1],\n",
    "            marker=\"o\",\n",
    "            color=\"red\",\n",
    "            label=\"train\")\n",
    "  _ = ax.scatter(test_fingerprint_location[:, 0],\n",
    "            test_fingerprint_location[:, 1],\n",
    "            marker=\"^\",\n",
    "            color=\"blue\",\n",
    "            label=\"test\")\n",
    "  _ = ax.legend()\n",
    "\n",
    "  _ = plt.ticklabel_format(useOffset=False)\n",
    "  _ = plt.savefig(os.path.join(DATA_OUT_DIR, site_id, floor_id, \"floor_map_with_waypoints.png\"))\n",
    "\n",
    "  plt.close()"
   ]
  },
  {
   "cell_type": "markdown",
   "metadata": {},
   "source": [
    "## `kNN` Regression"
   ]
  },
  {
   "cell_type": "code",
   "execution_count": 14,
   "metadata": {},
   "outputs": [],
   "source": [
    "def run_knn_regression(train_fingerprint_df, train_bssid, test_fingerprint_df, test_bssid, results) -> bool:\n",
    "\n",
    "  try:\n",
    "    X_train = np.vstack(train_fingerprint_df[\"v\"].values.tolist())\n",
    "    y_train = train_fingerprint_df[[\"x\", \"y\"]].values\n",
    "\n",
    "    X_test = np.vstack(test_fingerprint_df[\"v\"].values.tolist())\n",
    "    y_test = test_fingerprint_df[[\"x\", \"y\"]].values\n",
    "\n",
    "    assert len(X_train) == len(y_train)\n",
    "    assert len(X_test) == len(y_test)\n",
    "\n",
    "    train_test_translate = translator(test_bssid, train_bssid, unseen_rssi=-1000)\n",
    "    X_test_translated = train_test_translate(X_test)\n",
    "\n",
    "    assert X_test_translated.shape[1] == X_train.shape[1]\n",
    "\n",
    "    print(\"[INFO] Scaling data using MaxAbsScaler\")\n",
    "    scaler = MaxAbsScaler().fit(X_train)\n",
    "    X_train_scaled = scaler.transform(X_train)\n",
    "    X_test_scaled = scaler.transform(X_test_translated)\n",
    "    print(\"[INFO] PCA: Choosing the number of components.\")\n",
    "    pca = PCA()\n",
    "    _ = pca.fit(X_train_scaled)\n",
    "    explained_variance_ratio_csum = np.cumsum(pca.explained_variance_ratio_)\n",
    "    n_components = np.where(explained_variance_ratio_csum >= 0.9)[0][0] + 1\n",
    "    print(f\"[INFO] PCA: n_components={n_components} -> explained variance ratio: {explained_variance_ratio_csum[n_components - 1]:.2f}\")\n",
    "\n",
    "    pca = PCA(n_components=n_components)\n",
    "    _ = pca.fit(X_train_scaled)\n",
    "    X_train_pca = pca.transform(X_train_scaled)\n",
    "    X_test_pca = pca.transform(X_test_scaled)\n",
    "\n",
    "    print(f\"[INFO] Running kNN regressor and reporting errors\")\n",
    "    k_values = [1, 2, 3, 4]\n",
    "    model_list = []\n",
    "    error_list = []\n",
    "\n",
    "    for n_neighbors in k_values:\n",
    "      knn = KNeighborsRegressor(n_neighbors=n_neighbors, weights=\"uniform\", algorithm=\"ball_tree\")\n",
    "      knn.fit(X_train_pca, y_train)\n",
    "      y_pred = knn.predict(X_test_pca)\n",
    "      errors = np.sqrt(np.sum((y_test - y_pred) ** 2, axis=1))\n",
    "      \n",
    "      model_list.append(knn)\n",
    "      error_list.append(errors)\n",
    "    \n",
    "\n",
    "    for k, errors in zip(k_values, error_list):\n",
    "      results.append({\n",
    "        \"site_id\": site_id,\n",
    "        \"floor_id\": floor_id,\n",
    "        \"algorithm\": f\"{k}-NN\",\n",
    "        \"error_mean\": errors.mean(),\n",
    "        \"error_std\": errors.std(),\n",
    "        \"test_size\": errors.shape[0]\n",
    "      })\n",
    "\n",
    "    return True\n",
    "  \n",
    "  except Exception as e:\n",
    "    print(f\"[WARN] Failed to run knn regressions, caused by {str(e)}\")\n",
    "    return False\n"
   ]
  },
  {
   "cell_type": "markdown",
   "metadata": {},
   "source": [
    "## Pipeline"
   ]
  },
  {
   "cell_type": "code",
   "execution_count": 15,
   "metadata": {},
   "outputs": [],
   "source": [
    "import gc"
   ]
  },
  {
   "cell_type": "code",
   "execution_count": 33,
   "metadata": {},
   "outputs": [
    {
     "name": "stderr",
     "output_type": "stream",
     "text": [
      "  0%|          | 0/981 [00:00<?, ?it/s]"
     ]
    },
    {
     "name": "stderr",
     "output_type": "stream",
     "text": [
      "  9%|▉         | 93/981 [00:00<00:02, 296.86it/s]"
     ]
    },
    {
     "name": "stdout",
     "output_type": "stream",
     "text": [
      "[WARN] There must be at least 2 tracks, found 1\n",
      "[WARN] There must be at least 2 tracks, found 1\n",
      "[WARN] There must be at least 2 tracks, found 1\n",
      "[WARN] There must be at least 2 tracks, found 1\n",
      "[WARN] There must be at least 2 tracks, found 1\n"
     ]
    },
    {
     "name": "stderr",
     "output_type": "stream",
     "text": [
      " 13%|█▎        | 123/981 [00:00<00:02, 290.02it/s]"
     ]
    },
    {
     "name": "stdout",
     "output_type": "stream",
     "text": [
      "[WARN] There must be at least 2 tracks, found 1\n",
      "[INFO] Starting to run kNN for site 5cd56b8be2acfd2d33b5db68 / floor B1\n",
      "[INFO] Creating directory to store output data (if not exists)\n",
      "[INFO] Reading train/test data\n",
      "[INFO] Reading track files for site_id=5cd56b8be2acfd2d33b5db68, floor_id=B1\n",
      "[INFO] The number of train files: 1\n",
      "[INFO] The number of test files: 3\n",
      "The number of BSSIDs with at least 0 samples: 4\n"
     ]
    },
    {
     "name": "stderr",
     "output_type": "stream",
     "text": [
      "100%|██████████| 1/1 [00:00<00:00, 379.85it/s]\n"
     ]
    },
    {
     "name": "stdout",
     "output_type": "stream",
     "text": [
      "The number of fingerprints: 2\n",
      "The number of BSSIDs with at least 0 samples: 2\n"
     ]
    },
    {
     "name": "stderr",
     "output_type": "stream",
     "text": [
      "100%|██████████| 3/3 [00:00<00:00, 470.30it/s]\n"
     ]
    },
    {
     "name": "stdout",
     "output_type": "stream",
     "text": [
      "The number of fingerprints: 3\n",
      "[INFO] Creating and saving visualization\n",
      "[INFO] Running kNN regressor with PCA\n",
      "[INFO] Scaling data using MaxAbsScaler\n",
      "[INFO] PCA: Choosing the number of components.\n",
      "[INFO] PCA: n_components=1 -> explained variance ratio: 1.00\n",
      "[INFO] Running kNN regressor and reporting errors\n",
      "[WARN] Failed to run knn regressions, caused by Expected n_neighbors <= n_samples,  but n_samples = 2, n_neighbors = 3\n"
     ]
    },
    {
     "name": "stderr",
     "output_type": "stream",
     "text": [
      " 17%|█▋        | 163/981 [00:00<00:03, 225.60it/s]"
     ]
    },
    {
     "name": "stdout",
     "output_type": "stream",
     "text": [
      "[WARN] There must be at least 2 tracks, found 1\n"
     ]
    },
    {
     "name": "stderr",
     "output_type": "stream",
     "text": [
      " 19%|█▉        | 188/981 [00:00<00:03, 213.15it/s]"
     ]
    },
    {
     "name": "stdout",
     "output_type": "stream",
     "text": [
      "[WARN] There must be at least 2 tracks, found 1\n",
      "[WARN] There must be at least 2 tracks, found 1\n",
      "[WARN] There must be at least 2 tracks, found 1\n",
      "[INFO] Starting to run kNN for site 5cd56b96e2acfd2d33b5ef8f / floor F5\n",
      "[INFO] Creating directory to store output data (if not exists)\n",
      "[INFO] Reading train/test data\n",
      "[INFO] Reading track files for site_id=5cd56b96e2acfd2d33b5ef8f, floor_id=F5\n",
      "[INFO] The number of train files: 0\n",
      "[INFO] The number of test files: 2\n",
      "The number of BSSIDs with at least 0 samples: 0\n"
     ]
    },
    {
     "name": "stderr",
     "output_type": "stream",
     "text": [
      "0it [00:00, ?it/s]\n"
     ]
    },
    {
     "name": "stdout",
     "output_type": "stream",
     "text": [
      "The number of fingerprints: 0\n",
      "The number of BSSIDs with at least 0 samples: 100\n"
     ]
    },
    {
     "name": "stderr",
     "output_type": "stream",
     "text": [
      "100%|██████████| 2/2 [00:00<00:00, 43.37it/s]"
     ]
    },
    {
     "name": "stdout",
     "output_type": "stream",
     "text": [
      "The number of fingerprints: 48\n",
      "[INFO] Creating and saving visualization\n",
      "[INFO] Running kNN regressor with PCA\n",
      "[WARN] Failed to run knn regressions, caused by need at least one array to concatenate\n"
     ]
    },
    {
     "name": "stderr",
     "output_type": "stream",
     "text": [
      "\n",
      " 22%|██▏       | 211/981 [00:01<00:04, 165.26it/s]"
     ]
    },
    {
     "name": "stdout",
     "output_type": "stream",
     "text": [
      "[WARN] There must be at least 2 tracks, found 1\n",
      "[WARN] There must be at least 2 tracks, found 1\n",
      "[WARN] There must be at least 2 tracks, found 1\n"
     ]
    },
    {
     "name": "stderr",
     "output_type": "stream",
     "text": [
      " 25%|██▌       | 249/981 [00:01<00:03, 210.74it/s]"
     ]
    },
    {
     "name": "stdout",
     "output_type": "stream",
     "text": [
      "[INFO] Starting to run kNN for site 5cd56ba5e2acfd2d33b60e03 / floor B1\n",
      "[INFO] Creating directory to store output data (if not exists)\n",
      "[INFO] Reading train/test data\n",
      "[INFO] Reading track files for site_id=5cd56ba5e2acfd2d33b60e03, floor_id=B1\n",
      "[INFO] The number of train files: 0\n",
      "[INFO] The number of test files: 2\n",
      "The number of BSSIDs with at least 0 samples: 0\n"
     ]
    },
    {
     "name": "stderr",
     "output_type": "stream",
     "text": [
      "0it [00:00, ?it/s]\n"
     ]
    },
    {
     "name": "stdout",
     "output_type": "stream",
     "text": [
      "The number of fingerprints: 0\n",
      "The number of BSSIDs with at least 0 samples: 87\n"
     ]
    },
    {
     "name": "stderr",
     "output_type": "stream",
     "text": [
      "100%|██████████| 2/2 [00:00<00:00, 51.18it/s]\n"
     ]
    },
    {
     "name": "stdout",
     "output_type": "stream",
     "text": [
      "The number of fingerprints: 43\n",
      "[INFO] Creating and saving visualization\n",
      "[INFO] Running kNN regressor with PCA\n",
      "[WARN] Failed to run knn regressions, caused by need at least one array to concatenate\n",
      "[WARN] There must be at least 2 tracks, found 1\n",
      "[WARN] There must be at least 2 tracks, found 1\n",
      "[WARN] There must be at least 2 tracks, found 1\n",
      "[INFO] Starting to run kNN for site 5cd56babe2acfd2d33b61826 / floor F4\n",
      "[INFO] Creating directory to store output data (if not exists)\n",
      "[INFO] Reading train/test data\n",
      "[INFO] Reading track files for site_id=5cd56babe2acfd2d33b61826, floor_id=F4\n",
      "[INFO] The number of train files: 0\n",
      "[INFO] The number of test files: 2\n",
      "The number of BSSIDs with at least 0 samples: 0\n"
     ]
    },
    {
     "name": "stderr",
     "output_type": "stream",
     "text": [
      "0it [00:00, ?it/s]"
     ]
    },
    {
     "name": "stdout",
     "output_type": "stream",
     "text": [
      "The number of fingerprints: 0\n"
     ]
    },
    {
     "name": "stderr",
     "output_type": "stream",
     "text": [
      "\n"
     ]
    },
    {
     "name": "stdout",
     "output_type": "stream",
     "text": [
      "The number of BSSIDs with at least 0 samples: 136\n"
     ]
    },
    {
     "name": "stderr",
     "output_type": "stream",
     "text": [
      "100%|██████████| 2/2 [00:00<00:00, 28.70it/s]"
     ]
    },
    {
     "name": "stdout",
     "output_type": "stream",
     "text": [
      "The number of fingerprints: 79\n",
      "[INFO] Creating and saving visualization\n",
      "[INFO] Running kNN regressor with PCA\n",
      "[WARN] Failed to run knn regressions, caused by need at least one array to concatenate\n"
     ]
    },
    {
     "name": "stderr",
     "output_type": "stream",
     "text": [
      "\n",
      " 40%|████      | 396/981 [00:01<00:02, 251.21it/s]"
     ]
    },
    {
     "name": "stdout",
     "output_type": "stream",
     "text": [
      "[WARN] There must be at least 2 tracks, found 1\n"
     ]
    },
    {
     "name": "stderr",
     "output_type": "stream",
     "text": [
      " 44%|████▎     | 429/981 [00:01<00:02, 261.61it/s]"
     ]
    },
    {
     "name": "stdout",
     "output_type": "stream",
     "text": [
      "[WARN] There must be at least 2 tracks, found 1\n",
      "[INFO] Starting to run kNN for site 5cd56c03e2acfd2d33b69c1f / floor F4\n",
      "[INFO] Creating directory to store output data (if not exists)\n",
      "[INFO] Reading train/test data\n",
      "[INFO] Reading track files for site_id=5cd56c03e2acfd2d33b69c1f, floor_id=F4\n",
      "[INFO] The number of train files: 0\n",
      "[INFO] The number of test files: 2\n",
      "The number of BSSIDs with at least 0 samples: 0\n"
     ]
    },
    {
     "name": "stderr",
     "output_type": "stream",
     "text": [
      "0it [00:00, ?it/s]\n"
     ]
    },
    {
     "name": "stdout",
     "output_type": "stream",
     "text": [
      "The number of fingerprints: 0\n",
      "The number of BSSIDs with at least 0 samples: 301\n"
     ]
    },
    {
     "name": "stderr",
     "output_type": "stream",
     "text": [
      "100%|██████████| 2/2 [00:00<00:00, 31.09it/s]"
     ]
    },
    {
     "name": "stdout",
     "output_type": "stream",
     "text": [
      "The number of fingerprints: 61\n",
      "[INFO] Creating and saving visualization\n",
      "[INFO] Running kNN regressor with PCA\n",
      "[WARN] Failed to run knn regressions, caused by need at least one array to concatenate\n"
     ]
    },
    {
     "name": "stderr",
     "output_type": "stream",
     "text": [
      "\n",
      " 47%|████▋     | 461/981 [00:02<00:02, 197.82it/s]"
     ]
    },
    {
     "name": "stdout",
     "output_type": "stream",
     "text": [
      "[WARN] There must be at least 2 tracks, found 1\n",
      "[WARN] There must be at least 2 tracks, found 1\n",
      "[INFO] Starting to run kNN for site 5cd56c17e2acfd2d33b6c161 / floor F2\n",
      "[INFO] Creating directory to store output data (if not exists)\n",
      "[INFO] Reading train/test data\n",
      "[INFO] Reading track files for site_id=5cd56c17e2acfd2d33b6c161, floor_id=F2\n",
      "[INFO] The number of train files: 0\n",
      "[INFO] The number of test files: 2\n",
      "The number of BSSIDs with at least 0 samples: 0\n"
     ]
    },
    {
     "name": "stderr",
     "output_type": "stream",
     "text": [
      "0it [00:00, ?it/s]\n"
     ]
    },
    {
     "name": "stdout",
     "output_type": "stream",
     "text": [
      "The number of fingerprints: 0\n",
      "The number of BSSIDs with at least 0 samples: 64\n"
     ]
    },
    {
     "name": "stderr",
     "output_type": "stream",
     "text": [
      "100%|██████████| 2/2 [00:00<00:00, 62.90it/s]\n",
      " 50%|████▉     | 487/981 [00:02<00:02, 176.67it/s]"
     ]
    },
    {
     "name": "stdout",
     "output_type": "stream",
     "text": [
      "The number of fingerprints: 36\n",
      "[INFO] Creating and saving visualization\n",
      "[INFO] Running kNN regressor with PCA\n",
      "[WARN] Failed to run knn regressions, caused by need at least one array to concatenate\n"
     ]
    },
    {
     "name": "stderr",
     "output_type": "stream",
     "text": [
      " 57%|█████▋    | 555/981 [00:02<00:01, 238.22it/s]"
     ]
    },
    {
     "name": "stdout",
     "output_type": "stream",
     "text": [
      "[WARN] There must be at least 2 tracks, found 1\n",
      "[WARN] There must be at least 2 tracks, found 1\n",
      "[WARN] There must be at least 2 tracks, found 1\n",
      "[WARN] There must be at least 2 tracks, found 1\n",
      "[WARN] There must be at least 2 tracks, found 1\n",
      "[INFO] Starting to run kNN for site 5cd969b839e2fc0b4afe6edc / floor F1\n",
      "[INFO] Creating directory to store output data (if not exists)\n",
      "[INFO] Reading train/test data\n",
      "[INFO] Reading track files for site_id=5cd969b839e2fc0b4afe6edc, floor_id=F1\n",
      "[INFO] The number of train files: 0\n",
      "[INFO] The number of test files: 2\n",
      "The number of BSSIDs with at least 0 samples: 0\n"
     ]
    },
    {
     "name": "stderr",
     "output_type": "stream",
     "text": [
      "0it [00:00, ?it/s]\n"
     ]
    },
    {
     "name": "stdout",
     "output_type": "stream",
     "text": [
      "The number of fingerprints: 0\n",
      "The number of BSSIDs with at least 0 samples: 366\n"
     ]
    },
    {
     "name": "stderr",
     "output_type": "stream",
     "text": [
      "100%|██████████| 2/2 [00:00<00:00, 19.48it/s]\n"
     ]
    },
    {
     "name": "stdout",
     "output_type": "stream",
     "text": [
      "The number of fingerprints: 114\n",
      "[INFO] Creating and saving visualization\n",
      "[INFO] Running kNN regressor with PCA\n",
      "[WARN] Failed to run knn regressions, caused by need at least one array to concatenate\n",
      "[INFO] Starting to run kNN for site 5cd969b839e2fc0b4afe6edc / floor F2\n",
      "[INFO] Creating directory to store output data (if not exists)\n",
      "[INFO] Reading train/test data\n",
      "[INFO] Reading track files for site_id=5cd969b839e2fc0b4afe6edc, floor_id=F2\n",
      "[INFO] The number of train files: 0\n",
      "[INFO] The number of test files: 3\n",
      "The number of BSSIDs with at least 0 samples: 0\n"
     ]
    },
    {
     "name": "stderr",
     "output_type": "stream",
     "text": [
      "0it [00:00, ?it/s]\n"
     ]
    },
    {
     "name": "stdout",
     "output_type": "stream",
     "text": [
      "The number of fingerprints: 0\n",
      "The number of BSSIDs with at least 0 samples: 326\n"
     ]
    },
    {
     "name": "stderr",
     "output_type": "stream",
     "text": [
      "100%|██████████| 3/3 [00:00<00:00, 39.75it/s]\n"
     ]
    },
    {
     "name": "stdout",
     "output_type": "stream",
     "text": [
      "The number of fingerprints: 84\n",
      "[INFO] Creating and saving visualization\n",
      "[INFO] Running kNN regressor with PCA\n",
      "[WARN] Failed to run knn regressions, caused by need at least one array to concatenate\n"
     ]
    },
    {
     "name": "stderr",
     "output_type": "stream",
     "text": [
      " 60%|█████▉    | 584/981 [00:03<00:02, 132.50it/s]"
     ]
    },
    {
     "name": "stdout",
     "output_type": "stream",
     "text": [
      "[INFO] Starting to run kNN for site 5cd969bb39e2fc0b4afe7079 / floor L5\n",
      "[INFO] Creating directory to store output data (if not exists)\n",
      "[INFO] Reading train/test data\n",
      "[INFO] Reading track files for site_id=5cd969bb39e2fc0b4afe7079, floor_id=L5\n",
      "[INFO] The number of train files: 0\n",
      "[INFO] The number of test files: 2\n",
      "The number of BSSIDs with at least 0 samples: 0\n"
     ]
    },
    {
     "name": "stderr",
     "output_type": "stream",
     "text": [
      "0it [00:00, ?it/s]\n"
     ]
    },
    {
     "name": "stdout",
     "output_type": "stream",
     "text": [
      "The number of fingerprints: 0\n",
      "The number of BSSIDs with at least 0 samples: 104\n"
     ]
    },
    {
     "name": "stderr",
     "output_type": "stream",
     "text": [
      "100%|██████████| 2/2 [00:00<00:00, 19.55it/s]\n"
     ]
    },
    {
     "name": "stdout",
     "output_type": "stream",
     "text": [
      "The number of fingerprints: 129\n",
      "[INFO] Creating and saving visualization\n",
      "[INFO] Running kNN regressor with PCA\n",
      "[WARN] Failed to run knn regressions, caused by need at least one array to concatenate\n",
      "[INFO] Starting to run kNN for site 5cd969bc39e2fc0b4afe71ac / floor F2\n",
      "[INFO] Creating directory to store output data (if not exists)\n",
      "[INFO] Reading train/test data\n",
      "[INFO] Reading track files for site_id=5cd969bc39e2fc0b4afe71ac, floor_id=F2\n",
      "[INFO] The number of train files: 0\n",
      "[INFO] The number of test files: 2\n",
      "The number of BSSIDs with at least 0 samples: 0\n"
     ]
    },
    {
     "name": "stderr",
     "output_type": "stream",
     "text": [
      "0it [00:00, ?it/s]\n"
     ]
    },
    {
     "name": "stdout",
     "output_type": "stream",
     "text": [
      "The number of fingerprints: 0\n",
      "The number of BSSIDs with at least 0 samples: 204\n"
     ]
    },
    {
     "name": "stderr",
     "output_type": "stream",
     "text": [
      "100%|██████████| 2/2 [00:00<00:00, 36.95it/s]\n"
     ]
    },
    {
     "name": "stdout",
     "output_type": "stream",
     "text": [
      "The number of fingerprints: 50\n",
      "[INFO] Creating and saving visualization\n",
      "[INFO] Running kNN regressor with PCA\n",
      "[WARN] Failed to run knn regressions, caused by need at least one array to concatenate\n",
      "[INFO] Starting to run kNN for site 5cd969bc39e2fc0b4afe71ac / floor F3\n",
      "[INFO] Creating directory to store output data (if not exists)\n",
      "[INFO] Reading train/test data\n",
      "[INFO] Reading track files for site_id=5cd969bc39e2fc0b4afe71ac, floor_id=F3\n",
      "[INFO] The number of train files: 0\n",
      "[INFO] The number of test files: 3\n",
      "The number of BSSIDs with at least 0 samples: 0\n"
     ]
    },
    {
     "name": "stderr",
     "output_type": "stream",
     "text": [
      "0it [00:00, ?it/s]\n"
     ]
    },
    {
     "name": "stdout",
     "output_type": "stream",
     "text": [
      "The number of fingerprints: 0\n",
      "The number of BSSIDs with at least 0 samples: 185\n"
     ]
    },
    {
     "name": "stderr",
     "output_type": "stream",
     "text": [
      "100%|██████████| 3/3 [00:00<00:00, 58.57it/s]\n"
     ]
    },
    {
     "name": "stdout",
     "output_type": "stream",
     "text": [
      "The number of fingerprints: 47\n",
      "[INFO] Creating and saving visualization\n",
      "[INFO] Running kNN regressor with PCA\n",
      "[WARN] Failed to run knn regressions, caused by need at least one array to concatenate\n"
     ]
    },
    {
     "name": "stderr",
     "output_type": "stream",
     "text": [
      " 62%|██████▏   | 606/981 [00:03<00:04, 79.24it/s] "
     ]
    },
    {
     "name": "stdout",
     "output_type": "stream",
     "text": [
      "[INFO] Starting to run kNN for site 5cd969c339e2fc0b4afe7775 / floor B1\n",
      "[INFO] Creating directory to store output data (if not exists)\n",
      "[INFO] Reading train/test data\n",
      "[INFO] Reading track files for site_id=5cd969c339e2fc0b4afe7775, floor_id=B1\n",
      "[INFO] The number of train files: 0\n",
      "[INFO] The number of test files: 2\n",
      "The number of BSSIDs with at least 0 samples: 0\n"
     ]
    },
    {
     "name": "stderr",
     "output_type": "stream",
     "text": [
      "0it [00:00, ?it/s]\n"
     ]
    },
    {
     "name": "stdout",
     "output_type": "stream",
     "text": [
      "The number of fingerprints: 0\n",
      "The number of BSSIDs with at least 0 samples: 76\n"
     ]
    },
    {
     "name": "stderr",
     "output_type": "stream",
     "text": [
      "100%|██████████| 2/2 [00:00<00:00, 57.93it/s]\n",
      " 64%|██████▎   | 623/981 [00:03<00:04, 79.29it/s]"
     ]
    },
    {
     "name": "stdout",
     "output_type": "stream",
     "text": [
      "The number of fingerprints: 37\n",
      "[INFO] Creating and saving visualization\n",
      "[INFO] Running kNN regressor with PCA\n",
      "[WARN] Failed to run knn regressions, caused by need at least one array to concatenate\n",
      "[WARN] There must be at least 2 tracks, found 1\n",
      "[INFO] Starting to run kNN for site 5cd969c839e2fc0b4afe7ff0 / floor F10\n",
      "[INFO] Creating directory to store output data (if not exists)\n",
      "[INFO] Reading train/test data\n",
      "[INFO] Reading track files for site_id=5cd969c839e2fc0b4afe7ff0, floor_id=F10\n",
      "[INFO] The number of train files: 0\n",
      "[INFO] The number of test files: 2\n",
      "The number of BSSIDs with at least 0 samples: 0\n"
     ]
    },
    {
     "name": "stderr",
     "output_type": "stream",
     "text": [
      "0it [00:00, ?it/s]\n"
     ]
    },
    {
     "name": "stdout",
     "output_type": "stream",
     "text": [
      "The number of fingerprints: 0\n",
      "The number of BSSIDs with at least 0 samples: 65\n"
     ]
    },
    {
     "name": "stderr",
     "output_type": "stream",
     "text": [
      "100%|██████████| 2/2 [00:00<00:00, 78.12it/s]\n"
     ]
    },
    {
     "name": "stdout",
     "output_type": "stream",
     "text": [
      "The number of fingerprints: 24\n",
      "[INFO] Creating and saving visualization\n",
      "[INFO] Running kNN regressor with PCA\n",
      "[WARN] Failed to run knn regressions, caused by need at least one array to concatenate\n"
     ]
    },
    {
     "name": "stderr",
     "output_type": "stream",
     "text": [
      " 65%|██████▍   | 637/981 [00:04<00:04, 75.22it/s]"
     ]
    },
    {
     "name": "stdout",
     "output_type": "stream",
     "text": [
      "[WARN] There must be at least 2 tracks, found 1\n",
      "[WARN] There must be at least 2 tracks, found 1\n"
     ]
    },
    {
     "name": "stderr",
     "output_type": "stream",
     "text": [
      " 70%|███████   | 689/981 [00:04<00:02, 125.48it/s]"
     ]
    },
    {
     "name": "stdout",
     "output_type": "stream",
     "text": [
      "[WARN] There must be at least 2 tracks, found 1\n",
      "[WARN] There must be at least 2 tracks, found 1\n",
      "[WARN] There must be at least 2 tracks, found 1\n",
      "[WARN] There must be at least 2 tracks, found 1\n",
      "[WARN] There must be at least 2 tracks, found 1\n",
      "[WARN] There must be at least 2 tracks, found 1\n",
      "[WARN] There must be at least 2 tracks, found 1\n",
      "[WARN] There must be at least 2 tracks, found 1\n"
     ]
    },
    {
     "name": "stderr",
     "output_type": "stream",
     "text": [
      " 73%|███████▎  | 716/981 [00:04<00:01, 150.68it/s]"
     ]
    },
    {
     "name": "stdout",
     "output_type": "stream",
     "text": [
      "[WARN] There must be at least 2 tracks, found 1\n"
     ]
    },
    {
     "name": "stderr",
     "output_type": "stream",
     "text": [
      " 80%|████████  | 786/981 [00:04<00:01, 187.31it/s]"
     ]
    },
    {
     "name": "stdout",
     "output_type": "stream",
     "text": [
      "[INFO] Starting to run kNN for site 5cdac625e403deddaf4680d2 / floor F4\n",
      "[INFO] Creating directory to store output data (if not exists)\n",
      "[INFO] Reading train/test data\n",
      "[INFO] Reading track files for site_id=5cdac625e403deddaf4680d2, floor_id=F4\n",
      "[INFO] The number of train files: 0\n",
      "[INFO] The number of test files: 2\n",
      "The number of BSSIDs with at least 0 samples: 0\n"
     ]
    },
    {
     "name": "stderr",
     "output_type": "stream",
     "text": [
      "0it [00:00, ?it/s]\n"
     ]
    },
    {
     "name": "stdout",
     "output_type": "stream",
     "text": [
      "The number of fingerprints: 0\n",
      "The number of BSSIDs with at least 0 samples: 201\n"
     ]
    },
    {
     "name": "stderr",
     "output_type": "stream",
     "text": [
      "100%|██████████| 2/2 [00:00<00:00, 29.81it/s]\n"
     ]
    },
    {
     "name": "stdout",
     "output_type": "stream",
     "text": [
      "The number of fingerprints: 50\n",
      "[INFO] Creating and saving visualization\n",
      "[INFO] Running kNN regressor with PCA\n",
      "[WARN] Failed to run knn regressions, caused by need at least one array to concatenate\n"
     ]
    },
    {
     "name": "stderr",
     "output_type": "stream",
     "text": [
      " 82%|████████▏ | 808/981 [00:05<00:01, 137.87it/s]"
     ]
    },
    {
     "name": "stdout",
     "output_type": "stream",
     "text": [
      "[INFO] Starting to run kNN for site 5cdac625e403deddaf4680e6 / floor F1\n",
      "[INFO] Creating directory to store output data (if not exists)\n",
      "[INFO] Reading train/test data\n",
      "[INFO] Reading track files for site_id=5cdac625e403deddaf4680e6, floor_id=F1\n",
      "[INFO] The number of train files: 1\n",
      "[INFO] The number of test files: 1\n",
      "The number of BSSIDs with at least 0 samples: 33\n"
     ]
    },
    {
     "name": "stderr",
     "output_type": "stream",
     "text": [
      "100%|██████████| 1/1 [00:00<00:00, 145.01it/s]\n"
     ]
    },
    {
     "name": "stdout",
     "output_type": "stream",
     "text": [
      "The number of fingerprints: 3\n",
      "The number of BSSIDs with at least 0 samples: 47\n"
     ]
    },
    {
     "name": "stderr",
     "output_type": "stream",
     "text": [
      "100%|██████████| 1/1 [00:00<00:00, 68.63it/s]\n"
     ]
    },
    {
     "name": "stdout",
     "output_type": "stream",
     "text": [
      "The number of fingerprints: 8\n",
      "[INFO] Creating and saving visualization\n",
      "[INFO] Running kNN regressor with PCA\n",
      "[INFO] Scaling data using MaxAbsScaler\n",
      "[INFO] PCA: Choosing the number of components.\n",
      "[INFO] PCA: n_components=2 -> explained variance ratio: 1.00\n",
      "[INFO] Running kNN regressor and reporting errors\n",
      "[WARN] Failed to run knn regressions, caused by Expected n_neighbors <= n_samples,  but n_samples = 3, n_neighbors = 4\n",
      "[WARN] There must be at least 2 tracks, found 1\n"
     ]
    },
    {
     "name": "stderr",
     "output_type": "stream",
     "text": [
      " 84%|████████▍ | 826/981 [00:05<00:01, 108.93it/s]"
     ]
    },
    {
     "name": "stdout",
     "output_type": "stream",
     "text": [
      "[WARN] There must be at least 2 tracks, found 1\n",
      "[WARN] There must be at least 2 tracks, found 1\n",
      "[INFO] Starting to run kNN for site 5d27075f03f801723c2e360f / floor F6\n",
      "[INFO] Creating directory to store output data (if not exists)\n",
      "[INFO] Reading train/test data\n",
      "[INFO] Reading track files for site_id=5d27075f03f801723c2e360f, floor_id=F6\n",
      "[INFO] The number of train files: 0\n",
      "[INFO] The number of test files: 3\n",
      "The number of BSSIDs with at least 0 samples: 0\n"
     ]
    },
    {
     "name": "stderr",
     "output_type": "stream",
     "text": [
      "0it [00:00, ?it/s]\n"
     ]
    },
    {
     "name": "stdout",
     "output_type": "stream",
     "text": [
      "The number of fingerprints: 0\n",
      "The number of BSSIDs with at least 0 samples: 126\n"
     ]
    },
    {
     "name": "stderr",
     "output_type": "stream",
     "text": [
      "100%|██████████| 3/3 [00:00<00:00, 14.43it/s]\n",
      " 92%|█████████▏| 900/981 [00:05<00:00, 130.37it/s]"
     ]
    },
    {
     "name": "stdout",
     "output_type": "stream",
     "text": [
      "The number of fingerprints: 180\n",
      "[INFO] Creating and saving visualization\n",
      "[INFO] Running kNN regressor with PCA\n",
      "[WARN] Failed to run knn regressions, caused by need at least one array to concatenate\n"
     ]
    },
    {
     "name": "stderr",
     "output_type": "stream",
     "text": [
      "100%|██████████| 981/981 [00:06<00:00, 156.93it/s]\n"
     ]
    }
   ],
   "source": [
    "result_frames = []\n",
    "\n",
    "for site_id, floor_id in tqdm(site_and_floor):\n",
    "  track_assignment = train_test_assignment[(train_test_assignment[\"site_id\"] == site_id) & (train_test_assignment[\"floor_id\"] == floor_id)]\n",
    "  if track_assignment.shape[0] <= 1:\n",
    "    print(\"[WARN] There must be at least 2 tracks, found {}\".format(track_assignment.shape[0]))\n",
    "    continue\n",
    "\n",
    "  if os.path.exists(os.path.join(DATA_OUT_DIR, site_id, floor_id, \"knn_results.csv\")):\n",
    "    try:\n",
    "      knn_result_df = pd.read_csv(os.path.join(DATA_OUT_DIR, site_id, floor_id, \"knn_results.csv\"))\n",
    "      result_frames.append(knn_result_df)\n",
    "    except Exception as ignored:\n",
    "      print(os.path.join(DATA_OUT_DIR, site_id, floor_id, \"knn_results.csv\"))\n",
    "    continue\n",
    "  \n",
    "  knn_results = []\n",
    "\n",
    "  print(f\"[INFO] Starting to run kNN for site {site_id} / floor {floor_id}\")\n",
    "  print(\"[INFO] Creating directory to store output data (if not exists)\")\n",
    "  os.makedirs(os.path.join(DATA_OUT_DIR, site_id, floor_id), exist_ok=True)\n",
    "\n",
    "  print(\"[INFO] Reading train/test data\")\n",
    "  data_read_result = read_train_test_data(site_id, floor_id, train_test_assignment, DATA_IN_DIR)\n",
    "  if data_read_result is None:\n",
    "    continue\n",
    "  \n",
    "  train_fingerprint_df, train_bssid, test_fingerprint_df, test_bssid = data_read_result\n",
    "\n",
    "  print(\"[INFO] Creating and saving visualization\")\n",
    "  if not os.path.exists(os.path.join(DATA_OUT_DIR, site_id, floor_id, \"floor_map_with_waypoints.png\")):\n",
    "    visualize_and_save_fig(site_id, floor_id, train_fingerprint_df, test_fingerprint_df)\n",
    "\n",
    "  print(\"[INFO] Running kNN regressor with PCA\")\n",
    "  _ = run_knn_regression(train_fingerprint_df, train_bssid, test_fingerprint_df, test_bssid, knn_results)\n",
    "\n",
    "  knn_result_df = pd.DataFrame(knn_results)\n",
    "  knn_result_df.to_csv(os.path.join(DATA_OUT_DIR, site_id, floor_id, \"knn_results.csv\"), index=False)\n",
    "  result_frames.append(knn_result_df)\n",
    "\n",
    "  # Enforce garbage collection\n",
    "  del train_fingerprint_df\n",
    "  del train_bssid\n",
    "  del test_fingerprint_df\n",
    "  del test_bssid\n",
    "  gc.collect()"
   ]
  },
  {
   "cell_type": "code",
   "execution_count": 36,
   "metadata": {},
   "outputs": [],
   "source": [
    "result_df = pd.concat(result_frames)"
   ]
  },
  {
   "cell_type": "code",
   "execution_count": null,
   "metadata": {},
   "outputs": [],
   "source": []
  }
 ],
 "metadata": {
  "kernelspec": {
   "display_name": "venv",
   "language": "python",
   "name": "python3"
  },
  "language_info": {
   "codemirror_mode": {
    "name": "ipython",
    "version": 3
   },
   "file_extension": ".py",
   "mimetype": "text/x-python",
   "name": "python",
   "nbconvert_exporter": "python",
   "pygments_lexer": "ipython3",
   "version": "3.10.12"
  },
  "orig_nbformat": 4
 },
 "nbformat": 4,
 "nbformat_minor": 2
}
