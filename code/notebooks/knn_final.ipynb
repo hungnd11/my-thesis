{
 "cells": [
  {
   "cell_type": "markdown",
   "metadata": {},
   "source": [
    "# KNN Experiments"
   ]
  },
  {
   "cell_type": "code",
   "execution_count": 1,
   "metadata": {},
   "outputs": [
    {
     "name": "stdout",
     "output_type": "stream",
     "text": [
      "The code directory is located at ./../../code\n"
     ]
    }
   ],
   "source": [
    "import os\n",
    "import sys\n",
    "\n",
    "PROJECT_HOME = \"./../..\"\n",
    "# Add utilities library for Microsoft Indoor Localization 2.0 Dataset\n",
    "CODE_DIR = os.path.join(PROJECT_HOME, \"code\")\n",
    "print(\"The code directory is located at\", CODE_DIR)\n",
    "sys.path.append(CODE_DIR)"
   ]
  },
  {
   "cell_type": "code",
   "execution_count": 2,
   "metadata": {},
   "outputs": [],
   "source": [
    "import pandas as pd\n",
    "import numpy as np\n",
    "import matplotlib.pyplot as plt\n",
    "\n",
    "from py_indoor_loc.floor_map import read_floor_data, extract_floor_map_geometries\n",
    "from py_indoor_loc.extract.wifi_fingerprint import read_wifi_location_df_list, extract_fingerprint_df\n",
    "from py_indoor_loc.plot import plot_n_unique_bssids_by_rssi, plot_floor_map\n",
    "from py_indoor_loc.knn.preprocessing import extract_train_test\n",
    "from py_indoor_loc.knn.experiment import run_knn_regression_experiments\n",
    "from tqdm import tqdm"
   ]
  },
  {
   "cell_type": "code",
   "execution_count": 3,
   "metadata": {},
   "outputs": [],
   "source": [
    "%matplotlib inline"
   ]
  },
  {
   "cell_type": "code",
   "execution_count": 4,
   "metadata": {},
   "outputs": [],
   "source": [
    "np.random.seed(2023)"
   ]
  },
  {
   "cell_type": "code",
   "execution_count": 5,
   "metadata": {},
   "outputs": [],
   "source": [
    "EXEC_FLAG = True"
   ]
  },
  {
   "cell_type": "markdown",
   "metadata": {},
   "source": [
    "## Utilities"
   ]
  },
  {
   "cell_type": "code",
   "execution_count": 6,
   "metadata": {},
   "outputs": [],
   "source": [
    "def get_track_filepaths(assignment_df: pd.DataFrame, base_data_dir: str) -> list[str]:\n",
    "  result = []\n",
    "\n",
    "  for _, row in assignment_df.iterrows():\n",
    "    file_path = f\"{base_data_dir}{row['site_id']}/{row['floor_id']}/{row['track_id']}_wifi_fingerprint.csv\"\n",
    "    if not os.path.exists(file_path):\n",
    "      print(f\"File {file_path} does not exist.\")\n",
    "      continue\n",
    "    result.append(file_path)\n",
    "    \n",
    "  return result"
   ]
  },
  {
   "cell_type": "markdown",
   "metadata": {},
   "source": [
    "## Env Variables"
   ]
  },
  {
   "cell_type": "code",
   "execution_count": 16,
   "metadata": {},
   "outputs": [],
   "source": [
    "BASE_DATA_DIR = \"../../data/wifi_fingerprint_manual/train/\"\n",
    "SUPERVISION_PCT = 0.1"
   ]
  },
  {
   "cell_type": "markdown",
   "metadata": {},
   "source": [
    "## Read Train/Test Assignment"
   ]
  },
  {
   "cell_type": "code",
   "execution_count": 17,
   "metadata": {},
   "outputs": [],
   "source": [
    "supervision_df = pd.read_csv(\"../../data/output/20230903_semi_supervision_setup.csv\", index_col=0)\n",
    "supervision_df[\"site_id\"] = supervision_df[\"site_id\"].astype(\"category\")\n",
    "supervision_df[\"floor_id\"] = supervision_df[\"floor_id\"].astype(\"category\")\n",
    "supervision_df[\"dataset\"] = supervision_df[\"dataset\"].astype(\"category\")\n"
   ]
  },
  {
   "cell_type": "code",
   "execution_count": 18,
   "metadata": {},
   "outputs": [],
   "source": [
    "train_test_assignment = pd.read_csv(\"../../data/output/20230903_train_test_assignment.csv\")\n",
    "train_test_assignment[\"site_id\"] = train_test_assignment[\"site_id\"].astype(\"category\")\n",
    "train_test_assignment[\"floor_id\"] = train_test_assignment[\"floor_id\"].astype(\"category\")\n",
    "train_test_assignment[\"dataset\"] = train_test_assignment[\"dataset\"].astype(\"category\")"
   ]
  },
  {
   "cell_type": "code",
   "execution_count": 19,
   "metadata": {},
   "outputs": [
    {
     "name": "stdout",
     "output_type": "stream",
     "text": [
      "The number of floors: 137\n",
      "The number of tracks: 6284\n"
     ]
    }
   ],
   "source": [
    "supervision_floor_df = supervision_df.loc[\n",
    "    (supervision_df[\"supervision_pct\"] == SUPERVISION_PCT) &\n",
    "    (supervision_df[\"dataset\"] == \"unlabeled\")]\n",
    "\n",
    "unique_floors = supervision_floor_df[[\"site_id\", \"floor_id\"]].drop_duplicates().values\n",
    "\n",
    "print(\"The number of floors:\", unique_floors.shape[0])\n",
    "print(\"The number of tracks:\", supervision_floor_df.shape[0])"
   ]
  },
  {
   "cell_type": "markdown",
   "metadata": {},
   "source": [
    "## Extract WiFi Location Data"
   ]
  },
  {
   "cell_type": "code",
   "execution_count": 20,
   "metadata": {},
   "outputs": [],
   "source": [
    "suffix = str(int(SUPERVISION_PCT * 100)).zfill(2)\n",
    "output_data_dir = f\"../../data/output/knn_ground_truth_{suffix}\"\n",
    "os.makedirs(output_data_dir, exist_ok=True)"
   ]
  },
  {
   "cell_type": "code",
   "execution_count": 21,
   "metadata": {},
   "outputs": [
    {
     "name": "stdout",
     "output_type": "stream",
     "text": [
      "Train: n_files=48, n_records=388539\n",
      "Test: n_files=48, n_records=105355\n"
     ]
    }
   ],
   "source": [
    "site_id, floor_id = unique_floors[100]\n",
    "\n",
    "train_tracks = supervision_floor_df.loc[\n",
    "    (supervision_floor_df[\"site_id\"] == site_id) &\n",
    "    (supervision_floor_df[\"floor_id\"] == floor_id)]\n",
    "\n",
    "test_tracks = train_test_assignment.loc[\n",
    "    (train_test_assignment[\"site_id\"] == site_id) &\n",
    "    (train_test_assignment[\"floor_id\"] == floor_id) &\n",
    "    (train_test_assignment[\"dataset\"] == \"test\")]\n",
    "\n",
    "train_files = get_track_filepaths(train_tracks, BASE_DATA_DIR)\n",
    "test_files = get_track_filepaths(test_tracks, BASE_DATA_DIR)\n",
    "\n",
    "train_wifi_location_df_list = read_wifi_location_df_list(train_files)\n",
    "test_wifi_location_df_list = read_wifi_location_df_list(test_files)\n",
    "\n",
    "train_wifi_location_df = pd.concat(train_wifi_location_df_list)\n",
    "test_wifi_location_df = pd.concat(test_wifi_location_df_list)\n",
    "\n",
    "print(f\"Train: n_files={len(train_files)}, n_records={train_wifi_location_df.shape[0]}\")\n",
    "print(f\"Test: n_files={len(test_files)}, n_records={test_wifi_location_df.shape[0]}\")"
   ]
  },
  {
   "cell_type": "markdown",
   "metadata": {},
   "source": [
    "### Visualization: BSSIDs vs. RSS"
   ]
  },
  {
   "cell_type": "code",
   "execution_count": 22,
   "metadata": {},
   "outputs": [],
   "source": [
    "if not EXEC_FLAG:\n",
    "  fig, ax = plt.subplots(1, 1, figsize=(10, 6))\n",
    "\n",
    "  plot_n_unique_bssids_by_rssi(wifi_location_df=pd.concat([train_wifi_location_df, test_wifi_location_df]),\n",
    "                              ax=ax,\n",
    "                              label=\"num_unique_bssids[train+test]\",\n",
    "                              plot_kwargs={\"color\": \"black\"})\n",
    "\n",
    "  plt.show()"
   ]
  },
  {
   "cell_type": "markdown",
   "metadata": {},
   "source": [
    "### Visualization: Floormap + Train/Test Locations"
   ]
  },
  {
   "cell_type": "code",
   "execution_count": 17,
   "metadata": {},
   "outputs": [],
   "source": [
    "if not EXEC_FLAG:\n",
    "  floor_info, floor_map = read_floor_data(f\"../../data/metadata/{site_id}/{floor_id}\")\n",
    "\n",
    "  transform_func = lambda coords: coords\n",
    "\n",
    "  (\n",
    "    floor_polygons,\n",
    "    store_polygons,\n",
    "    x_min,\n",
    "    y_min,\n",
    "    x_max,\n",
    "    y_max,\n",
    "    width_meter,\n",
    "    height_meter,\n",
    "  ) = extract_floor_map_geometries(floor_map, floor_info, transform=transform_func)"
   ]
  },
  {
   "cell_type": "code",
   "execution_count": 18,
   "metadata": {},
   "outputs": [],
   "source": [
    "if not EXEC_FLAG:\n",
    "  fig, ax = plt.subplots(1, 1, figsize=(10, 6))\n",
    "\n",
    "  plot_floor_map(floor_polygons, store_polygons, ax=ax)\n",
    "\n",
    "  train_fingerprint_location = transform_func(train_wifi_location_df[[\"x\", \"y\"]].values)\n",
    "  test_fingerprint_location = transform_func(test_wifi_location_df[[\"x\", \"y\"]].values)\n",
    "  ax.scatter(train_fingerprint_location[:, 0],\n",
    "            train_fingerprint_location[:, 1],\n",
    "            s=0.5,\n",
    "            marker=\"o\",\n",
    "            color=\"red\",\n",
    "            label=\"train\",\n",
    "            alpha=0.5)\n",
    "  ax.scatter(test_fingerprint_location[:, 0],\n",
    "            test_fingerprint_location[:, 1],\n",
    "            marker=\"^\",\n",
    "            s=0.5,\n",
    "            color=\"blue\",\n",
    "            label=\"test\",\n",
    "            alpha=0.5)\n",
    "  ax.legend()\n",
    "\n",
    "  plt.ticklabel_format(useOffset=False)\n",
    "  plt.show()"
   ]
  },
  {
   "cell_type": "markdown",
   "metadata": {},
   "source": [
    "## KNN Regression"
   ]
  },
  {
   "cell_type": "code",
   "execution_count": 23,
   "metadata": {},
   "outputs": [
    {
     "name": "stderr",
     "output_type": "stream",
     "text": [
      "Progress on [site/floor]:   0%|          | 0/137 [00:00<?, ?it/s]"
     ]
    },
    {
     "name": "stdout",
     "output_type": "stream",
     "text": [
      "Start processing for 5a0546857ecc773753327266/B1\n",
      "Train: n_files=55, n_records=233574\n",
      "Test: n_files=52, n_records=66133\n",
      "The number of train samples: 1358\n",
      "The number of test samples: 444\n"
     ]
    },
    {
     "name": "stderr",
     "output_type": "stream",
     "text": [
      "100%|██████████| 72/72 [00:19<00:00,  3.65it/s]\n",
      "Progress on [site/floor]:   1%|          | 1/137 [00:23<54:22, 23.99s/it]"
     ]
    },
    {
     "name": "stdout",
     "output_type": "stream",
     "text": [
      "Start processing for 5a0546857ecc773753327266/F1\n",
      "Train: n_files=66, n_records=455677\n",
      "Test: n_files=62, n_records=154442\n",
      "The number of train samples: 1121\n",
      "The number of test samples: 381\n"
     ]
    },
    {
     "name": "stderr",
     "output_type": "stream",
     "text": [
      "100%|██████████| 72/72 [00:21<00:00,  3.27it/s]\n",
      "Progress on [site/floor]:   1%|▏         | 2/137 [00:52<59:21, 26.38s/it]"
     ]
    },
    {
     "name": "stdout",
     "output_type": "stream",
     "text": [
      "Start processing for 5a0546857ecc773753327266/F2\n",
      "Train: n_files=45, n_records=614976\n",
      "Test: n_files=64, n_records=187945\n",
      "The number of train samples: 1573\n",
      "The number of test samples: 502\n"
     ]
    },
    {
     "name": "stderr",
     "output_type": "stream",
     "text": [
      "100%|██████████| 72/72 [00:35<00:00,  2.06it/s]\n",
      "Progress on [site/floor]:   2%|▏         | 3/137 [01:34<1:15:00, 33.59s/it]"
     ]
    },
    {
     "name": "stdout",
     "output_type": "stream",
     "text": [
      "Start processing for 5a0546857ecc773753327266/F3\n",
      "Train: n_files=32, n_records=282452\n",
      "Test: n_files=44, n_records=80378\n",
      "The number of train samples: 900\n",
      "The number of test samples: 272\n"
     ]
    },
    {
     "name": "stderr",
     "output_type": "stream",
     "text": [
      "100%|██████████| 72/72 [00:12<00:00,  5.96it/s]\n",
      "Progress on [site/floor]:   3%|▎         | 4/137 [01:49<58:28, 26.38s/it]  "
     ]
    },
    {
     "name": "stdout",
     "output_type": "stream",
     "text": [
      "Start processing for 5a0546857ecc773753327266/F4\n",
      "Train: n_files=30, n_records=459911\n",
      "Test: n_files=56, n_records=136066\n",
      "The number of train samples: 1703\n",
      "The number of test samples: 501\n"
     ]
    },
    {
     "name": "stderr",
     "output_type": "stream",
     "text": [
      "100%|██████████| 72/72 [00:32<00:00,  2.20it/s]\n",
      "Progress on [site/floor]:   4%|▎         | 5/137 [02:27<1:07:24, 30.64s/it]"
     ]
    },
    {
     "name": "stdout",
     "output_type": "stream",
     "text": [
      "Start processing for 5c3c44b80379370013e0fd2b/B1\n",
      "Train: n_files=33, n_records=407848\n",
      "Test: n_files=35, n_records=127266\n",
      "The number of train samples: 1652\n",
      "The number of test samples: 512\n"
     ]
    },
    {
     "name": "stderr",
     "output_type": "stream",
     "text": [
      "100%|██████████| 72/72 [00:38<00:00,  1.85it/s]\n",
      "Progress on [site/floor]:   4%|▍         | 6/137 [03:11<1:16:31, 35.05s/it]"
     ]
    },
    {
     "name": "stdout",
     "output_type": "stream",
     "text": [
      "Start processing for 5c3c44b80379370013e0fd2b/F1\n",
      "Train: n_files=57, n_records=450730\n",
      "Test: n_files=52, n_records=142581\n",
      "The number of train samples: 1341\n",
      "The number of test samples: 430\n"
     ]
    },
    {
     "name": "stderr",
     "output_type": "stream",
     "text": [
      "100%|██████████| 72/72 [00:31<00:00,  2.26it/s]\n",
      "Progress on [site/floor]:   5%|▌         | 7/137 [03:48<1:17:38, 35.84s/it]"
     ]
    },
    {
     "name": "stdout",
     "output_type": "stream",
     "text": [
      "Start processing for 5c3c44b80379370013e0fd2b/F2\n",
      "Train: n_files=44, n_records=503803\n",
      "Test: n_files=55, n_records=203054\n",
      "The number of train samples: 1738\n",
      "The number of test samples: 528\n"
     ]
    },
    {
     "name": "stderr",
     "output_type": "stream",
     "text": [
      "100%|██████████| 72/72 [00:49<00:00,  1.44it/s]\n",
      "Progress on [site/floor]:   6%|▌         | 8/137 [04:45<1:30:59, 42.32s/it]"
     ]
    },
    {
     "name": "stdout",
     "output_type": "stream",
     "text": [
      "Start processing for 5cd56b6ae2acfd2d33b59ccb/B1\n",
      "Train: n_files=84, n_records=439186\n",
      "Test: n_files=90, n_records=130183\n",
      "The number of train samples: 4362\n",
      "The number of test samples: 1577\n"
     ]
    },
    {
     "name": "stderr",
     "output_type": "stream",
     "text": [
      "100%|██████████| 72/72 [04:28<00:00,  3.73s/it]\n",
      "Progress on [site/floor]:   7%|▋         | 9/137 [09:21<4:06:44, 115.66s/it]"
     ]
    },
    {
     "name": "stdout",
     "output_type": "stream",
     "text": [
      "Start processing for 5cd56b6ae2acfd2d33b59ccb/F1\n",
      "Train: n_files=63, n_records=863521\n",
      "Test: n_files=84, n_records=230628\n",
      "The number of train samples: 2829\n",
      "The number of test samples: 1055\n"
     ]
    },
    {
     "name": "stderr",
     "output_type": "stream",
     "text": [
      "100%|██████████| 72/72 [03:33<00:00,  2.97s/it]\n",
      "Progress on [site/floor]:   7%|▋         | 10/137 [13:07<5:16:20, 149.46s/it]"
     ]
    },
    {
     "name": "stdout",
     "output_type": "stream",
     "text": [
      "Start processing for 5cd56b6ae2acfd2d33b59ccb/F2\n",
      "Train: n_files=69, n_records=779851\n",
      "Test: n_files=60, n_records=226196\n",
      "The number of train samples: 2789\n",
      "The number of test samples: 1001\n"
     ]
    },
    {
     "name": "stderr",
     "output_type": "stream",
     "text": [
      "100%|██████████| 72/72 [02:57<00:00,  2.47s/it]\n",
      "Progress on [site/floor]:   8%|▊         | 11/137 [16:14<5:38:10, 161.03s/it]"
     ]
    },
    {
     "name": "stdout",
     "output_type": "stream",
     "text": [
      "Start processing for 5cd56b6ae2acfd2d33b59ccb/F3\n",
      "Train: n_files=58, n_records=696988\n",
      "Test: n_files=76, n_records=263124\n",
      "The number of train samples: 2720\n",
      "The number of test samples: 1118\n"
     ]
    },
    {
     "name": "stderr",
     "output_type": "stream",
     "text": [
      "100%|██████████| 72/72 [02:41<00:00,  2.24s/it]\n",
      "Progress on [site/floor]:   9%|▉         | 12/137 [19:04<5:41:13, 163.79s/it]"
     ]
    },
    {
     "name": "stdout",
     "output_type": "stream",
     "text": [
      "Start processing for 5cd56b6ae2acfd2d33b59ccb/F4\n",
      "Train: n_files=53, n_records=639661\n",
      "Test: n_files=58, n_records=176771\n",
      "The number of train samples: 2289\n",
      "The number of test samples: 895\n"
     ]
    },
    {
     "name": "stderr",
     "output_type": "stream",
     "text": [
      "100%|██████████| 72/72 [01:47<00:00,  1.50s/it]\n",
      "Progress on [site/floor]:   9%|▉         | 13/137 [20:58<5:07:33, 148.82s/it]"
     ]
    },
    {
     "name": "stdout",
     "output_type": "stream",
     "text": [
      "Start processing for 5cd56b6ae2acfd2d33b59ccb/F5\n",
      "Train: n_files=74, n_records=890585\n",
      "Test: n_files=76, n_records=241452\n",
      "The number of train samples: 3854\n",
      "The number of test samples: 1327\n"
     ]
    },
    {
     "name": "stderr",
     "output_type": "stream",
     "text": [
      "100%|██████████| 72/72 [03:10<00:00,  2.65s/it]\n",
      "Progress on [site/floor]:  10%|█         | 14/137 [24:18<5:36:52, 164.33s/it]"
     ]
    },
    {
     "name": "stdout",
     "output_type": "stream",
     "text": [
      "Start processing for 5cd56bade2acfd2d33b61a61/F1\n",
      "Train: n_files=34, n_records=121185\n",
      "Test: n_files=23, n_records=34398\n",
      "The number of train samples: 1540\n",
      "The number of test samples: 541\n"
     ]
    },
    {
     "name": "stderr",
     "output_type": "stream",
     "text": [
      "100%|██████████| 72/72 [00:09<00:00,  7.21it/s]\n",
      "Progress on [site/floor]:  11%|█         | 15/137 [24:30<4:00:45, 118.41s/it]"
     ]
    },
    {
     "name": "stdout",
     "output_type": "stream",
     "text": [
      "Start processing for 5cd56bdbe2acfd2d33b663c0/L1\n",
      "Train: n_files=52, n_records=551841\n",
      "Test: n_files=75, n_records=129675\n",
      "The number of train samples: 2501\n",
      "The number of test samples: 578\n"
     ]
    },
    {
     "name": "stderr",
     "output_type": "stream",
     "text": [
      "100%|██████████| 72/72 [00:57<00:00,  1.26it/s]\n",
      "Progress on [site/floor]:  12%|█▏        | 16/137 [25:33<3:25:03, 101.68s/it]"
     ]
    },
    {
     "name": "stdout",
     "output_type": "stream",
     "text": [
      "Start processing for 5cd56bdbe2acfd2d33b663c0/L2\n",
      "Train: n_files=52, n_records=500509\n",
      "Test: n_files=64, n_records=100938\n",
      "The number of train samples: 2282\n",
      "The number of test samples: 428\n"
     ]
    },
    {
     "name": "stderr",
     "output_type": "stream",
     "text": [
      "100%|██████████| 72/72 [00:53<00:00,  1.35it/s]\n",
      "Progress on [site/floor]:  12%|█▏        | 17/137 [26:31<2:57:07, 88.56s/it] "
     ]
    },
    {
     "name": "stdout",
     "output_type": "stream",
     "text": [
      "Start processing for 5cd56bdbe2acfd2d33b663c0/L3\n",
      "Train: n_files=130, n_records=989537\n",
      "Test: n_files=139, n_records=291986\n",
      "The number of train samples: 2768\n",
      "The number of test samples: 769\n"
     ]
    },
    {
     "name": "stderr",
     "output_type": "stream",
     "text": [
      "100%|██████████| 72/72 [02:08<00:00,  1.79s/it]\n",
      "Progress on [site/floor]:  13%|█▎        | 18/137 [28:51<3:25:57, 103.85s/it]"
     ]
    },
    {
     "name": "stdout",
     "output_type": "stream",
     "text": [
      "Start processing for 5cd56bdbe2acfd2d33b663c0/L4\n",
      "Train: n_files=24, n_records=548291\n",
      "Test: n_files=27, n_records=142264\n",
      "The number of train samples: 1847\n",
      "The number of test samples: 597\n"
     ]
    },
    {
     "name": "stderr",
     "output_type": "stream",
     "text": [
      "100%|██████████| 72/72 [00:40<00:00,  1.79it/s]\n",
      "Progress on [site/floor]:  14%|█▍        | 19/137 [29:36<2:49:26, 86.16s/it] "
     ]
    },
    {
     "name": "stdout",
     "output_type": "stream",
     "text": [
      "Start processing for 5cd56bdbe2acfd2d33b663c0/L5\n",
      "Train: n_files=24, n_records=375130\n",
      "Test: n_files=22, n_records=102696\n",
      "The number of train samples: 1361\n",
      "The number of test samples: 425\n"
     ]
    },
    {
     "name": "stderr",
     "output_type": "stream",
     "text": [
      "100%|██████████| 72/72 [00:25<00:00,  2.79it/s]\n",
      "Progress on [site/floor]:  15%|█▍        | 20/137 [30:05<2:14:33, 69.00s/it]"
     ]
    },
    {
     "name": "stdout",
     "output_type": "stream",
     "text": [
      "Start processing for 5cd56be3e2acfd2d33b66bae/F1\n",
      "Train: n_files=62, n_records=732013\n",
      "Test: n_files=65, n_records=212224\n",
      "The number of train samples: 5971\n",
      "The number of test samples: 2027\n"
     ]
    },
    {
     "name": "stderr",
     "output_type": "stream",
     "text": [
      "100%|██████████| 72/72 [06:50<00:00,  5.70s/it]\n",
      "Progress on [site/floor]:  15%|█▌        | 21/137 [37:05<5:37:21, 174.49s/it]"
     ]
    },
    {
     "name": "stdout",
     "output_type": "stream",
     "text": [
      "Start processing for 5cd56be3e2acfd2d33b66bae/F2\n",
      "Train: n_files=43, n_records=430774\n",
      "Test: n_files=55, n_records=138407\n",
      "The number of train samples: 4082\n",
      "The number of test samples: 1556\n"
     ]
    },
    {
     "name": "stderr",
     "output_type": "stream",
     "text": [
      "100%|██████████| 72/72 [03:17<00:00,  2.74s/it]\n",
      "Progress on [site/floor]:  16%|█▌        | 22/137 [40:29<5:51:16, 183.27s/it]"
     ]
    },
    {
     "name": "stdout",
     "output_type": "stream",
     "text": [
      "Start processing for 5cd56be3e2acfd2d33b66bae/F3\n",
      "Train: n_files=43, n_records=434849\n",
      "Test: n_files=62, n_records=137330\n",
      "The number of train samples: 4846\n",
      "The number of test samples: 1745\n"
     ]
    },
    {
     "name": "stderr",
     "output_type": "stream",
     "text": [
      "100%|██████████| 72/72 [04:31<00:00,  3.77s/it]\n",
      "Progress on [site/floor]:  17%|█▋        | 23/137 [45:07<6:42:21, 211.77s/it]"
     ]
    },
    {
     "name": "stdout",
     "output_type": "stream",
     "text": [
      "Start processing for 5cd56be3e2acfd2d33b66bae/F4\n",
      "Train: n_files=34, n_records=285223\n",
      "Test: n_files=34, n_records=77213\n",
      "The number of train samples: 2935\n",
      "The number of test samples: 933\n"
     ]
    },
    {
     "name": "stderr",
     "output_type": "stream",
     "text": [
      "100%|██████████| 72/72 [00:50<00:00,  1.42it/s]\n",
      "Progress on [site/floor]:  18%|█▊        | 24/137 [46:02<5:10:00, 164.60s/it]"
     ]
    },
    {
     "name": "stdout",
     "output_type": "stream",
     "text": [
      "Start processing for 5cd56bfce2acfd2d33b6906e/F1\n",
      "Train: n_files=43, n_records=393476\n",
      "Test: n_files=51, n_records=109636\n",
      "The number of train samples: 4784\n",
      "The number of test samples: 1478\n"
     ]
    },
    {
     "name": "stderr",
     "output_type": "stream",
     "text": [
      "100%|██████████| 72/72 [03:44<00:00,  3.11s/it]\n",
      "Progress on [site/floor]:  18%|█▊        | 25/137 [49:53<5:44:23, 184.50s/it]"
     ]
    },
    {
     "name": "stdout",
     "output_type": "stream",
     "text": [
      "Start processing for 5cd56bfce2acfd2d33b6906e/F2\n",
      "Train: n_files=30, n_records=335815\n",
      "Test: n_files=40, n_records=81211\n",
      "The number of train samples: 3132\n",
      "The number of test samples: 1005\n"
     ]
    },
    {
     "name": "stderr",
     "output_type": "stream",
     "text": [
      "100%|██████████| 72/72 [01:20<00:00,  1.11s/it]\n",
      "Progress on [site/floor]:  19%|█▉        | 26/137 [51:18<4:46:01, 154.60s/it]"
     ]
    },
    {
     "name": "stdout",
     "output_type": "stream",
     "text": [
      "Start processing for 5cd56c0ce2acfd2d33b6acc5/B1\n",
      "Train: n_files=62, n_records=505427\n",
      "Test: n_files=65, n_records=151147\n",
      "The number of train samples: 3049\n",
      "The number of test samples: 897\n"
     ]
    },
    {
     "name": "stderr",
     "output_type": "stream",
     "text": [
      "100%|██████████| 72/72 [01:26<00:00,  1.21s/it]\n",
      "Progress on [site/floor]:  20%|█▉        | 27/137 [52:51<4:09:45, 136.23s/it]"
     ]
    },
    {
     "name": "stdout",
     "output_type": "stream",
     "text": [
      "Start processing for 5cd56c16e2acfd2d33b6bd44/B1\n",
      "Train: n_files=27, n_records=234214\n",
      "Test: n_files=21, n_records=61154\n",
      "The number of train samples: 1947\n",
      "The number of test samples: 508\n"
     ]
    },
    {
     "name": "stderr",
     "output_type": "stream",
     "text": [
      "100%|██████████| 72/72 [00:11<00:00,  6.02it/s]\n",
      "Progress on [site/floor]:  20%|██        | 28/137 [53:06<3:01:18, 99.80s/it] "
     ]
    },
    {
     "name": "stdout",
     "output_type": "stream",
     "text": [
      "Start processing for 5cd56c16e2acfd2d33b6bd44/L1\n",
      "Train: n_files=32, n_records=401845\n",
      "Test: n_files=28, n_records=109147\n",
      "The number of train samples: 2230\n",
      "The number of test samples: 680\n"
     ]
    },
    {
     "name": "stderr",
     "output_type": "stream",
     "text": [
      "100%|██████████| 72/72 [00:42<00:00,  1.70it/s]\n",
      "Progress on [site/floor]:  21%|██        | 29/137 [53:52<2:30:55, 83.85s/it]"
     ]
    },
    {
     "name": "stdout",
     "output_type": "stream",
     "text": [
      "Start processing for 5cd56c16e2acfd2d33b6bd44/L3\n",
      "Train: n_files=27, n_records=311043\n",
      "Test: n_files=25, n_records=92840\n",
      "The number of train samples: 2080\n",
      "The number of test samples: 677\n"
     ]
    },
    {
     "name": "stderr",
     "output_type": "stream",
     "text": [
      "100%|██████████| 72/72 [00:39<00:00,  1.82it/s]\n",
      "Progress on [site/floor]:  22%|██▏       | 30/137 [54:35<2:07:43, 71.62s/it]"
     ]
    },
    {
     "name": "stdout",
     "output_type": "stream",
     "text": [
      "Start processing for 5cd56c18e2acfd2d33b6c321/B1\n",
      "Train: n_files=31, n_records=377905\n",
      "Test: n_files=98, n_records=329580\n",
      "The number of train samples: 3759\n",
      "The number of test samples: 8744\n"
     ]
    },
    {
     "name": "stderr",
     "output_type": "stream",
     "text": [
      "100%|██████████| 72/72 [17:26<00:00, 14.53s/it]\n",
      "Progress on [site/floor]:  23%|██▎       | 31/137 [1:12:15<10:50:01, 367.94s/it]"
     ]
    },
    {
     "name": "stdout",
     "output_type": "stream",
     "text": [
      "Start processing for 5cd56c1be2acfd2d33b6c766/1F\n",
      "Train: n_files=25, n_records=189599\n",
      "Test: n_files=26, n_records=54878\n",
      "The number of train samples: 2386\n",
      "The number of test samples: 773\n"
     ]
    },
    {
     "name": "stderr",
     "output_type": "stream",
     "text": [
      "100%|██████████| 72/72 [00:26<00:00,  2.68it/s]\n",
      "Progress on [site/floor]:  23%|██▎       | 32/137 [1:12:45<7:46:24, 266.52s/it] "
     ]
    },
    {
     "name": "stdout",
     "output_type": "stream",
     "text": [
      "Start processing for 5cd56c1ee2acfd2d33b6ceab/B1\n",
      "Train: n_files=33, n_records=476081\n",
      "Test: n_files=35, n_records=122879\n",
      "The number of train samples: 2815\n",
      "The number of test samples: 988\n"
     ]
    },
    {
     "name": "stderr",
     "output_type": "stream",
     "text": [
      "100%|██████████| 72/72 [01:48<00:00,  1.51s/it]\n",
      "Progress on [site/floor]:  24%|██▍       | 33/137 [1:14:39<6:22:54, 220.90s/it]"
     ]
    },
    {
     "name": "stdout",
     "output_type": "stream",
     "text": [
      "Start processing for 5cd56c1ee2acfd2d33b6ceab/B2\n",
      "Train: n_files=31, n_records=349900\n",
      "Test: n_files=27, n_records=74691\n",
      "The number of train samples: 3515\n",
      "The number of test samples: 909\n"
     ]
    },
    {
     "name": "stderr",
     "output_type": "stream",
     "text": [
      "100%|██████████| 72/72 [01:02<00:00,  1.15it/s]\n",
      "Progress on [site/floor]:  25%|██▍       | 34/137 [1:15:46<4:59:55, 174.72s/it]"
     ]
    },
    {
     "name": "stdout",
     "output_type": "stream",
     "text": [
      "Start processing for 5cd56c1ee2acfd2d33b6ceab/L1\n",
      "Train: n_files=34, n_records=551294\n",
      "Test: n_files=43, n_records=124074\n",
      "The number of train samples: 2248\n",
      "The number of test samples: 615\n"
     ]
    },
    {
     "name": "stderr",
     "output_type": "stream",
     "text": [
      "100%|██████████| 72/72 [01:13<00:00,  1.03s/it]\n",
      "Progress on [site/floor]:  26%|██▌       | 35/137 [1:17:06<4:08:39, 146.27s/it]"
     ]
    },
    {
     "name": "stdout",
     "output_type": "stream",
     "text": [
      "Start processing for 5cd56c1ee2acfd2d33b6ceab/L2\n",
      "Train: n_files=30, n_records=468349\n",
      "Test: n_files=32, n_records=166539\n",
      "The number of train samples: 1764\n",
      "The number of test samples: 677\n"
     ]
    },
    {
     "name": "stderr",
     "output_type": "stream",
     "text": [
      "100%|██████████| 72/72 [00:50<00:00,  1.42it/s]\n",
      "Progress on [site/floor]:  26%|██▋       | 36/137 [1:18:02<3:20:34, 119.15s/it]"
     ]
    },
    {
     "name": "stdout",
     "output_type": "stream",
     "text": [
      "Start processing for 5cd56c29e2acfd2d33b6d915/L1\n",
      "Train: n_files=26, n_records=283622\n",
      "Test: n_files=36, n_records=86477\n",
      "The number of train samples: 2266\n",
      "The number of test samples: 728\n"
     ]
    },
    {
     "name": "stderr",
     "output_type": "stream",
     "text": [
      "100%|██████████| 72/72 [00:47<00:00,  1.50it/s]\n",
      "Progress on [site/floor]:  27%|██▋       | 37/137 [1:18:53<2:44:43, 98.83s/it] "
     ]
    },
    {
     "name": "stdout",
     "output_type": "stream",
     "text": [
      "Start processing for 5cd969ad39e2fc0b4afe67ec/F1\n",
      "Train: n_files=39, n_records=701998\n",
      "Test: n_files=41, n_records=206046\n",
      "The number of train samples: 4293\n",
      "The number of test samples: 1452\n"
     ]
    },
    {
     "name": "stderr",
     "output_type": "stream",
     "text": [
      "100%|██████████| 72/72 [02:42<00:00,  2.26s/it]\n",
      "Progress on [site/floor]:  28%|██▊       | 38/137 [1:21:43<3:18:23, 120.24s/it]"
     ]
    },
    {
     "name": "stdout",
     "output_type": "stream",
     "text": [
      "Start processing for 5cd969ad39e2fc0b4afe67ec/F2\n",
      "Train: n_files=35, n_records=301170\n",
      "Test: n_files=34, n_records=114056\n",
      "The number of train samples: 2167\n",
      "The number of test samples: 867\n"
     ]
    },
    {
     "name": "stderr",
     "output_type": "stream",
     "text": [
      "100%|██████████| 72/72 [00:46<00:00,  1.54it/s]\n",
      "Progress on [site/floor]:  28%|██▊       | 39/137 [1:22:34<2:42:25, 99.45s/it] "
     ]
    },
    {
     "name": "stdout",
     "output_type": "stream",
     "text": [
      "Start processing for 5cd969b539e2fc0b4afe6bf5/B1\n",
      "Train: n_files=24, n_records=133155\n",
      "Test: n_files=26, n_records=45614\n",
      "The number of train samples: 739\n",
      "The number of test samples: 290\n"
     ]
    },
    {
     "name": "stderr",
     "output_type": "stream",
     "text": [
      "100%|██████████| 72/72 [00:09<00:00,  7.66it/s]\n",
      "Progress on [site/floor]:  29%|██▉       | 40/137 [1:22:46<1:58:01, 73.01s/it]"
     ]
    },
    {
     "name": "stdout",
     "output_type": "stream",
     "text": [
      "Start processing for 5cd969b539e2fc0b4afe6bf5/F1\n",
      "Train: n_files=27, n_records=194789\n",
      "Test: n_files=33, n_records=66482\n",
      "The number of train samples: 1219\n",
      "The number of test samples: 400\n"
     ]
    },
    {
     "name": "stderr",
     "output_type": "stream",
     "text": [
      "100%|██████████| 72/72 [00:21<00:00,  3.29it/s]\n",
      "Progress on [site/floor]:  30%|██▉       | 41/137 [1:23:11<1:33:50, 58.65s/it]"
     ]
    },
    {
     "name": "stdout",
     "output_type": "stream",
     "text": [
      "Start processing for 5cd969b539e2fc0b4afe6bf5/F3\n",
      "Train: n_files=28, n_records=128073\n",
      "Test: n_files=32, n_records=47862\n",
      "The number of train samples: 747\n",
      "The number of test samples: 273\n"
     ]
    },
    {
     "name": "stderr",
     "output_type": "stream",
     "text": [
      "100%|██████████| 72/72 [00:12<00:00,  5.73it/s]\n",
      "Progress on [site/floor]:  31%|███       | 42/137 [1:23:26<1:12:01, 45.49s/it]"
     ]
    },
    {
     "name": "stdout",
     "output_type": "stream",
     "text": [
      "Start processing for 5cd969ba39e2fc0b4afe6fae/F1\n",
      "Train: n_files=69, n_records=686982\n",
      "Test: n_files=88, n_records=206916\n",
      "The number of train samples: 2324\n",
      "The number of test samples: 712\n"
     ]
    },
    {
     "name": "stderr",
     "output_type": "stream",
     "text": [
      "100%|██████████| 72/72 [01:40<00:00,  1.40s/it]\n",
      "Progress on [site/floor]:  31%|███▏      | 43/137 [1:25:15<1:41:06, 64.54s/it]"
     ]
    },
    {
     "name": "stdout",
     "output_type": "stream",
     "text": [
      "Start processing for 5cd969ba39e2fc0b4afe6fae/F2\n",
      "Train: n_files=63, n_records=753683\n",
      "Test: n_files=89, n_records=238174\n",
      "The number of train samples: 2985\n",
      "The number of test samples: 956\n"
     ]
    },
    {
     "name": "stderr",
     "output_type": "stream",
     "text": [
      "100%|██████████| 72/72 [02:33<00:00,  2.13s/it]\n",
      "Progress on [site/floor]:  32%|███▏      | 44/137 [1:27:58<2:25:57, 94.17s/it]"
     ]
    },
    {
     "name": "stdout",
     "output_type": "stream",
     "text": [
      "Start processing for 5cd969ba39e2fc0b4afe6fae/F3\n",
      "Train: n_files=34, n_records=619208\n",
      "Test: n_files=47, n_records=164601\n",
      "The number of train samples: 1923\n",
      "The number of test samples: 570\n"
     ]
    },
    {
     "name": "stderr",
     "output_type": "stream",
     "text": [
      "100%|██████████| 72/72 [00:40<00:00,  1.79it/s]\n",
      "Progress on [site/floor]:  33%|███▎      | 45/137 [1:28:44<2:02:19, 79.78s/it]"
     ]
    },
    {
     "name": "stdout",
     "output_type": "stream",
     "text": [
      "Start processing for 5cd969ba39e2fc0b4afe6fae/LG1\n",
      "Train: n_files=56, n_records=1119812\n",
      "Test: n_files=71, n_records=306577\n",
      "The number of train samples: 3240\n",
      "The number of test samples: 1004\n"
     ]
    },
    {
     "name": "stderr",
     "output_type": "stream",
     "text": [
      "100%|██████████| 72/72 [02:23<00:00,  1.99s/it]\n",
      "Progress on [site/floor]:  34%|███▎      | 46/137 [1:31:18<2:34:32, 101.89s/it]"
     ]
    },
    {
     "name": "stdout",
     "output_type": "stream",
     "text": [
      "Start processing for 5cd969bd39e2fc0b4afe727d/B1\n",
      "Train: n_files=33, n_records=141538\n",
      "Test: n_files=29, n_records=52065\n",
      "The number of train samples: 1839\n",
      "The number of test samples: 658\n"
     ]
    },
    {
     "name": "stderr",
     "output_type": "stream",
     "text": [
      "100%|██████████| 72/72 [00:15<00:00,  4.75it/s]\n",
      "Progress on [site/floor]:  34%|███▍      | 47/137 [1:31:35<1:55:00, 76.67s/it] "
     ]
    },
    {
     "name": "stdout",
     "output_type": "stream",
     "text": [
      "Start processing for 5cd969c339e2fc0b4afe7778/F2\n",
      "Train: n_files=29, n_records=210282\n",
      "Test: n_files=27, n_records=56954\n",
      "The number of train samples: 2404\n",
      "The number of test samples: 703\n"
     ]
    },
    {
     "name": "stderr",
     "output_type": "stream",
     "text": [
      "100%|██████████| 72/72 [00:36<00:00,  1.95it/s]\n",
      "Progress on [site/floor]:  35%|███▌      | 48/137 [1:32:15<1:37:27, 65.70s/it]"
     ]
    },
    {
     "name": "stdout",
     "output_type": "stream",
     "text": [
      "Start processing for 5cd969db39e2fc0b4afe9bc2/B1\n",
      "Train: n_files=25, n_records=180610\n",
      "Test: n_files=21, n_records=53707\n",
      "The number of train samples: 1565\n",
      "The number of test samples: 536\n"
     ]
    },
    {
     "name": "stderr",
     "output_type": "stream",
     "text": [
      "100%|██████████| 72/72 [00:19<00:00,  3.69it/s]\n",
      "Progress on [site/floor]:  36%|███▌      | 49/137 [1:32:37<1:17:05, 52.56s/it]"
     ]
    },
    {
     "name": "stdout",
     "output_type": "stream",
     "text": [
      "Start processing for 5cdac61ee403deddaf467f5c/F1\n",
      "Train: n_files=30, n_records=155503\n",
      "Test: n_files=27, n_records=46579\n",
      "The number of train samples: 1832\n",
      "The number of test samples: 659\n"
     ]
    },
    {
     "name": "stderr",
     "output_type": "stream",
     "text": [
      "100%|██████████| 72/72 [00:23<00:00,  3.08it/s]\n",
      "Progress on [site/floor]:  36%|███▋      | 50/137 [1:33:03<1:04:39, 44.59s/it]"
     ]
    },
    {
     "name": "stdout",
     "output_type": "stream",
     "text": [
      "Start processing for 5cdac61ee403deddaf467f5c/F2\n",
      "Train: n_files=28, n_records=194060\n",
      "Test: n_files=27, n_records=47992\n",
      "The number of train samples: 2098\n",
      "The number of test samples: 592\n"
     ]
    },
    {
     "name": "stderr",
     "output_type": "stream",
     "text": [
      "100%|██████████| 72/72 [00:34<00:00,  2.10it/s]\n",
      "Progress on [site/floor]:  37%|███▋      | 51/137 [1:33:40<1:00:41, 42.34s/it]"
     ]
    },
    {
     "name": "stdout",
     "output_type": "stream",
     "text": [
      "Start processing for 5cdac61fe403deddaf467f91/B1\n",
      "Train: n_files=43, n_records=336904\n",
      "Test: n_files=63, n_records=105254\n",
      "The number of train samples: 3928\n",
      "The number of test samples: 1571\n"
     ]
    },
    {
     "name": "stderr",
     "output_type": "stream",
     "text": [
      "100%|██████████| 72/72 [01:28<00:00,  1.23s/it]\n",
      "Progress on [site/floor]:  38%|███▊      | 52/137 [1:35:14<1:21:45, 57.72s/it]"
     ]
    },
    {
     "name": "stdout",
     "output_type": "stream",
     "text": [
      "Start processing for 5cdac620e403deddaf467fc0/8F\n",
      "Train: n_files=63, n_records=758165\n",
      "Test: n_files=74, n_records=261196\n",
      "The number of train samples: 4891\n",
      "The number of test samples: 1586\n"
     ]
    },
    {
     "name": "stderr",
     "output_type": "stream",
     "text": [
      "100%|██████████| 72/72 [05:43<00:00,  4.77s/it]\n",
      "Progress on [site/floor]:  39%|███▊      | 53/137 [1:41:08<3:25:04, 146.48s/it]"
     ]
    },
    {
     "name": "stdout",
     "output_type": "stream",
     "text": [
      "Start processing for 5cdac620e403deddaf467fdb/F1\n",
      "Train: n_files=36, n_records=247366\n",
      "Test: n_files=45, n_records=60083\n",
      "The number of train samples: 4505\n",
      "The number of test samples: 1313\n"
     ]
    },
    {
     "name": "stderr",
     "output_type": "stream",
     "text": [
      "100%|██████████| 72/72 [01:04<00:00,  1.11it/s]\n",
      "Progress on [site/floor]:  39%|███▉      | 54/137 [1:42:17<2:50:45, 123.44s/it]"
     ]
    },
    {
     "name": "stdout",
     "output_type": "stream",
     "text": [
      "Start processing for 5d27075f03f801723c2e360f/B1\n",
      "Train: n_files=119, n_records=323801\n",
      "Test: n_files=111, n_records=133756\n",
      "The number of train samples: 2206\n",
      "The number of test samples: 813\n"
     ]
    },
    {
     "name": "stderr",
     "output_type": "stream",
     "text": [
      "100%|██████████| 72/72 [01:09<00:00,  1.04it/s]\n",
      "Progress on [site/floor]:  40%|████      | 55/137 [1:43:32<2:28:36, 108.74s/it]"
     ]
    },
    {
     "name": "stdout",
     "output_type": "stream",
     "text": [
      "Start processing for 5d27075f03f801723c2e360f/F1\n",
      "Train: n_files=112, n_records=1338094\n",
      "Test: n_files=169, n_records=358924\n",
      "The number of train samples: 4622\n",
      "The number of test samples: 1459\n"
     ]
    },
    {
     "name": "stderr",
     "output_type": "stream",
     "text": [
      "100%|██████████| 72/72 [09:51<00:00,  8.22s/it]\n",
      "Progress on [site/floor]:  41%|████      | 56/137 [1:53:40<5:48:57, 258.49s/it]"
     ]
    },
    {
     "name": "stdout",
     "output_type": "stream",
     "text": [
      "Start processing for 5d27075f03f801723c2e360f/F2\n",
      "Train: n_files=93, n_records=1012035\n",
      "Test: n_files=143, n_records=312309\n",
      "The number of train samples: 3701\n",
      "The number of test samples: 1203\n"
     ]
    },
    {
     "name": "stderr",
     "output_type": "stream",
     "text": [
      "100%|██████████| 72/72 [05:44<00:00,  4.78s/it]\n",
      "Progress on [site/floor]:  42%|████▏     | 57/137 [1:59:36<6:23:45, 287.82s/it]"
     ]
    },
    {
     "name": "stdout",
     "output_type": "stream",
     "text": [
      "Start processing for 5d27075f03f801723c2e360f/F3\n",
      "Train: n_files=79, n_records=882253\n",
      "Test: n_files=132, n_records=313140\n",
      "The number of train samples: 2978\n",
      "The number of test samples: 1093\n"
     ]
    },
    {
     "name": "stderr",
     "output_type": "stream",
     "text": [
      "100%|██████████| 72/72 [03:57<00:00,  3.30s/it]\n",
      "Progress on [site/floor]:  42%|████▏     | 58/137 [2:03:44<6:03:15, 275.90s/it]"
     ]
    },
    {
     "name": "stdout",
     "output_type": "stream",
     "text": [
      "Start processing for 5d27075f03f801723c2e360f/F4\n",
      "Train: n_files=51, n_records=729260\n",
      "Test: n_files=93, n_records=199198\n",
      "The number of train samples: 2387\n",
      "The number of test samples: 853\n"
     ]
    },
    {
     "name": "stderr",
     "output_type": "stream",
     "text": [
      "100%|██████████| 72/72 [02:34<00:00,  2.14s/it]\n",
      "Progress on [site/floor]:  43%|████▎     | 59/137 [2:06:26<5:14:21, 241.81s/it]"
     ]
    },
    {
     "name": "stdout",
     "output_type": "stream",
     "text": [
      "Start processing for 5d27096c03f801723c31e5e0/F1\n",
      "Train: n_files=30, n_records=142602\n",
      "Test: n_files=34, n_records=37857\n",
      "The number of train samples: 1353\n",
      "The number of test samples: 396\n"
     ]
    },
    {
     "name": "stderr",
     "output_type": "stream",
     "text": [
      "100%|██████████| 72/72 [00:07<00:00,  9.13it/s]\n",
      "Progress on [site/floor]:  44%|████▍     | 60/137 [2:06:36<3:41:00, 172.21s/it]"
     ]
    },
    {
     "name": "stdout",
     "output_type": "stream",
     "text": [
      "Start processing for 5d27096c03f801723c31e5e0/F2\n",
      "Train: n_files=28, n_records=128934\n",
      "Test: n_files=45, n_records=36029\n",
      "The number of train samples: 1142\n",
      "The number of test samples: 391\n"
     ]
    },
    {
     "name": "stderr",
     "output_type": "stream",
     "text": [
      "100%|██████████| 72/72 [00:06<00:00, 10.64it/s]\n",
      "Progress on [site/floor]:  45%|████▍     | 61/137 [2:06:45<2:36:00, 123.16s/it]"
     ]
    },
    {
     "name": "stdout",
     "output_type": "stream",
     "text": [
      "Start processing for 5d27096c03f801723c31e5e0/F5\n",
      "Train: n_files=25, n_records=87839\n",
      "Test: n_files=25, n_records=23857\n",
      "The number of train samples: 897\n",
      "The number of test samples: 254\n"
     ]
    },
    {
     "name": "stderr",
     "output_type": "stream",
     "text": [
      "100%|██████████| 72/72 [00:04<00:00, 14.53it/s]\n",
      "Progress on [site/floor]:  45%|████▌     | 62/137 [2:06:51<1:50:11, 88.15s/it] "
     ]
    },
    {
     "name": "stdout",
     "output_type": "stream",
     "text": [
      "Start processing for 5d27097f03f801723c320d97/F2\n",
      "Train: n_files=54, n_records=220039\n",
      "Test: n_files=54, n_records=64587\n",
      "The number of train samples: 1788\n",
      "The number of test samples: 565\n"
     ]
    },
    {
     "name": "stderr",
     "output_type": "stream",
     "text": [
      "100%|██████████| 72/72 [00:20<00:00,  3.45it/s]\n",
      "Progress on [site/floor]:  46%|████▌     | 63/137 [2:07:15<1:24:59, 68.91s/it]"
     ]
    },
    {
     "name": "stdout",
     "output_type": "stream",
     "text": [
      "Start processing for 5d27097f03f801723c320d97/F3\n",
      "Train: n_files=40, n_records=189812\n",
      "Test: n_files=39, n_records=58545\n",
      "The number of train samples: 1653\n",
      "The number of test samples: 534\n"
     ]
    },
    {
     "name": "stderr",
     "output_type": "stream",
     "text": [
      "100%|██████████| 72/72 [00:15<00:00,  4.57it/s]\n",
      "Progress on [site/floor]:  47%|████▋     | 64/137 [2:07:34<1:05:21, 53.72s/it]"
     ]
    },
    {
     "name": "stdout",
     "output_type": "stream",
     "text": [
      "Start processing for 5d27097f03f801723c320d97/F4\n",
      "Train: n_files=40, n_records=136937\n",
      "Test: n_files=41, n_records=37680\n",
      "The number of train samples: 1396\n",
      "The number of test samples: 488\n"
     ]
    },
    {
     "name": "stderr",
     "output_type": "stream",
     "text": [
      "100%|██████████| 72/72 [00:11<00:00,  6.13it/s]\n",
      "Progress on [site/floor]:  47%|████▋     | 65/137 [2:07:48<50:11, 41.83s/it]  "
     ]
    },
    {
     "name": "stdout",
     "output_type": "stream",
     "text": [
      "Start processing for 5d27099303f801723c32364d/1F\n",
      "Train: n_files=39, n_records=291341\n",
      "Test: n_files=43, n_records=87962\n",
      "The number of train samples: 1151\n",
      "The number of test samples: 373\n"
     ]
    },
    {
     "name": "stderr",
     "output_type": "stream",
     "text": [
      "100%|██████████| 72/72 [00:13<00:00,  5.23it/s]\n",
      "Progress on [site/floor]:  48%|████▊     | 66/137 [2:08:05<40:40, 34.37s/it]"
     ]
    },
    {
     "name": "stdout",
     "output_type": "stream",
     "text": [
      "Start processing for 5d27099303f801723c32364d/2F\n",
      "Train: n_files=27, n_records=197500\n",
      "Test: n_files=40, n_records=63464\n",
      "The number of train samples: 866\n",
      "The number of test samples: 296\n"
     ]
    },
    {
     "name": "stderr",
     "output_type": "stream",
     "text": [
      "100%|██████████| 72/72 [00:07<00:00,  9.75it/s]\n",
      "Progress on [site/floor]:  49%|████▉     | 67/137 [2:08:14<31:26, 26.95s/it]"
     ]
    },
    {
     "name": "stdout",
     "output_type": "stream",
     "text": [
      "Start processing for 5d27099303f801723c32364d/4F\n",
      "Train: n_files=40, n_records=167900\n",
      "Test: n_files=51, n_records=63432\n",
      "The number of train samples: 1123\n",
      "The number of test samples: 458\n"
     ]
    },
    {
     "name": "stderr",
     "output_type": "stream",
     "text": [
      "100%|██████████| 72/72 [00:10<00:00,  7.04it/s]\n",
      "Progress on [site/floor]:  50%|████▉     | 68/137 [2:08:27<26:06, 22.71s/it]"
     ]
    },
    {
     "name": "stdout",
     "output_type": "stream",
     "text": [
      "Start processing for 5d27099303f801723c32364d/5F\n",
      "Train: n_files=32, n_records=143548\n",
      "Test: n_files=45, n_records=66684\n",
      "The number of train samples: 971\n",
      "The number of test samples: 438\n"
     ]
    },
    {
     "name": "stderr",
     "output_type": "stream",
     "text": [
      "100%|██████████| 72/72 [00:07<00:00,  9.76it/s]\n",
      "Progress on [site/floor]:  50%|█████     | 69/137 [2:08:37<21:14, 18.74s/it]"
     ]
    },
    {
     "name": "stdout",
     "output_type": "stream",
     "text": [
      "Start processing for 5d27099f03f801723c32511d/F2\n",
      "Train: n_files=30, n_records=232489\n",
      "Test: n_files=32, n_records=58288\n",
      "The number of train samples: 1377\n",
      "The number of test samples: 339\n"
     ]
    },
    {
     "name": "stderr",
     "output_type": "stream",
     "text": [
      "100%|██████████| 72/72 [00:07<00:00, 10.09it/s]\n",
      "Progress on [site/floor]:  51%|█████     | 70/137 [2:08:46<17:49, 15.96s/it]"
     ]
    },
    {
     "name": "stdout",
     "output_type": "stream",
     "text": [
      "Start processing for 5d2709a003f801723c3251bf/1F\n",
      "Train: n_files=61, n_records=124934\n",
      "Test: n_files=61, n_records=43294\n",
      "The number of train samples: 1013\n",
      "The number of test samples: 321\n"
     ]
    },
    {
     "name": "stderr",
     "output_type": "stream",
     "text": [
      "100%|██████████| 72/72 [00:08<00:00,  8.39it/s]\n",
      "Progress on [site/floor]:  52%|█████▏    | 71/137 [2:08:57<15:50, 14.40s/it]"
     ]
    },
    {
     "name": "stdout",
     "output_type": "stream",
     "text": [
      "Start processing for 5d2709a003f801723c3251bf/2F\n",
      "Train: n_files=46, n_records=103355\n",
      "Test: n_files=55, n_records=38876\n",
      "The number of train samples: 863\n",
      "The number of test samples: 365\n"
     ]
    },
    {
     "name": "stderr",
     "output_type": "stream",
     "text": [
      "100%|██████████| 72/72 [00:07<00:00,  9.21it/s]\n",
      "Progress on [site/floor]:  53%|█████▎    | 72/137 [2:09:06<14:02, 12.96s/it]"
     ]
    },
    {
     "name": "stdout",
     "output_type": "stream",
     "text": [
      "Start processing for 5d2709a003f801723c3251bf/4F\n",
      "Train: n_files=26, n_records=65146\n",
      "Test: n_files=34, n_records=16929\n",
      "The number of train samples: 583\n",
      "The number of test samples: 201\n"
     ]
    },
    {
     "name": "stderr",
     "output_type": "stream",
     "text": [
      "100%|██████████| 72/72 [00:02<00:00, 25.75it/s]\n",
      "Progress on [site/floor]:  53%|█████▎    | 73/137 [2:09:10<10:56, 10.26s/it]"
     ]
    },
    {
     "name": "stdout",
     "output_type": "stream",
     "text": [
      "Start processing for 5d2709b303f801723c327472/1F\n",
      "Train: n_files=105, n_records=781560\n",
      "Test: n_files=131, n_records=154558\n",
      "The number of train samples: 4747\n",
      "The number of test samples: 1385\n"
     ]
    },
    {
     "name": "stderr",
     "output_type": "stream",
     "text": [
      "100%|██████████| 72/72 [03:09<00:00,  2.63s/it]\n",
      "Progress on [site/floor]:  54%|█████▍    | 74/137 [2:12:29<1:10:09, 66.82s/it]"
     ]
    },
    {
     "name": "stdout",
     "output_type": "stream",
     "text": [
      "Start processing for 5d2709b303f801723c327472/2F\n",
      "Train: n_files=54, n_records=294748\n",
      "Test: n_files=75, n_records=88609\n",
      "The number of train samples: 1759\n",
      "The number of test samples: 616\n"
     ]
    },
    {
     "name": "stderr",
     "output_type": "stream",
     "text": [
      "100%|██████████| 72/72 [00:23<00:00,  3.05it/s]\n",
      "Progress on [site/floor]:  55%|█████▍    | 75/137 [2:12:56<56:45, 54.93s/it]  "
     ]
    },
    {
     "name": "stdout",
     "output_type": "stream",
     "text": [
      "Start processing for 5d2709b303f801723c327472/3F\n",
      "Train: n_files=43, n_records=239441\n",
      "Test: n_files=60, n_records=70961\n",
      "The number of train samples: 1452\n",
      "The number of test samples: 473\n"
     ]
    },
    {
     "name": "stderr",
     "output_type": "stream",
     "text": [
      "100%|██████████| 72/72 [00:13<00:00,  5.50it/s]\n",
      "Progress on [site/floor]:  55%|█████▌    | 76/137 [2:13:12<43:59, 43.27s/it]"
     ]
    },
    {
     "name": "stdout",
     "output_type": "stream",
     "text": [
      "Start processing for 5d2709b303f801723c327472/4F\n",
      "Train: n_files=53, n_records=231325\n",
      "Test: n_files=63, n_records=67715\n",
      "The number of train samples: 1787\n",
      "The number of test samples: 578\n"
     ]
    },
    {
     "name": "stderr",
     "output_type": "stream",
     "text": [
      "100%|██████████| 72/72 [00:17<00:00,  4.04it/s]\n",
      "Progress on [site/floor]:  56%|█████▌    | 77/137 [2:13:33<36:36, 36.61s/it]"
     ]
    },
    {
     "name": "stdout",
     "output_type": "stream",
     "text": [
      "Start processing for 5d2709bb03f801723c32852c/F1\n",
      "Train: n_files=27, n_records=694473\n",
      "Test: n_files=40, n_records=226472\n",
      "The number of train samples: 4765\n",
      "The number of test samples: 1255\n"
     ]
    },
    {
     "name": "stderr",
     "output_type": "stream",
     "text": [
      "100%|██████████| 72/72 [04:14<00:00,  3.53s/it]\n",
      "Progress on [site/floor]:  57%|█████▋    | 78/137 [2:17:56<1:42:33, 104.30s/it]"
     ]
    },
    {
     "name": "stdout",
     "output_type": "stream",
     "text": [
      "Start processing for 5d2709bb03f801723c32852c/F2\n",
      "Train: n_files=26, n_records=390018\n",
      "Test: n_files=48, n_records=118961\n",
      "The number of train samples: 2947\n",
      "The number of test samples: 779\n"
     ]
    },
    {
     "name": "stderr",
     "output_type": "stream",
     "text": [
      "100%|██████████| 72/72 [01:28<00:00,  1.23s/it]\n",
      "Progress on [site/floor]:  58%|█████▊    | 79/137 [2:19:29<1:37:45, 101.13s/it]"
     ]
    },
    {
     "name": "stdout",
     "output_type": "stream",
     "text": [
      "Start processing for 5d2709c303f801723c3299ee/1F\n",
      "Train: n_files=53, n_records=302569\n",
      "Test: n_files=45, n_records=102367\n",
      "The number of train samples: 1167\n",
      "The number of test samples: 384\n"
     ]
    },
    {
     "name": "stderr",
     "output_type": "stream",
     "text": [
      "100%|██████████| 72/72 [00:27<00:00,  2.60it/s]\n",
      "Progress on [site/floor]:  58%|█████▊    | 80/137 [2:20:02<1:16:31, 80.55s/it] "
     ]
    },
    {
     "name": "stdout",
     "output_type": "stream",
     "text": [
      "Start processing for 5d2709c303f801723c3299ee/2F\n",
      "Train: n_files=50, n_records=257883\n",
      "Test: n_files=48, n_records=86753\n",
      "The number of train samples: 974\n",
      "The number of test samples: 329\n"
     ]
    },
    {
     "name": "stderr",
     "output_type": "stream",
     "text": [
      "100%|██████████| 72/72 [00:26<00:00,  2.74it/s]\n",
      "Progress on [site/floor]:  59%|█████▉    | 81/137 [2:20:32<1:01:06, 65.47s/it]"
     ]
    },
    {
     "name": "stdout",
     "output_type": "stream",
     "text": [
      "Start processing for 5d2709c303f801723c3299ee/3F\n",
      "Train: n_files=47, n_records=288141\n",
      "Test: n_files=51, n_records=85623\n",
      "The number of train samples: 1082\n",
      "The number of test samples: 353\n"
     ]
    },
    {
     "name": "stderr",
     "output_type": "stream",
     "text": [
      "100%|██████████| 72/72 [00:30<00:00,  2.37it/s]\n",
      "Progress on [site/floor]:  60%|█████▉    | 82/137 [2:21:07<51:34, 56.26s/it]  "
     ]
    },
    {
     "name": "stdout",
     "output_type": "stream",
     "text": [
      "Start processing for 5d2709c303f801723c3299ee/4F\n",
      "Train: n_files=49, n_records=291649\n",
      "Test: n_files=56, n_records=96815\n",
      "The number of train samples: 1128\n",
      "The number of test samples: 398\n"
     ]
    },
    {
     "name": "stderr",
     "output_type": "stream",
     "text": [
      "100%|██████████| 72/72 [00:30<00:00,  2.35it/s]\n",
      "Progress on [site/floor]:  61%|██████    | 83/137 [2:21:42<44:54, 49.90s/it]"
     ]
    },
    {
     "name": "stdout",
     "output_type": "stream",
     "text": [
      "Start processing for 5d2709c303f801723c3299ee/5F\n",
      "Train: n_files=39, n_records=218734\n",
      "Test: n_files=40, n_records=65485\n",
      "The number of train samples: 891\n",
      "The number of test samples: 282\n"
     ]
    },
    {
     "name": "stderr",
     "output_type": "stream",
     "text": [
      "100%|██████████| 72/72 [00:16<00:00,  4.49it/s]\n",
      "Progress on [site/floor]:  61%|██████▏   | 84/137 [2:22:01<35:59, 40.75s/it]"
     ]
    },
    {
     "name": "stdout",
     "output_type": "stream",
     "text": [
      "Start processing for 5d2709c303f801723c3299ee/6F\n",
      "Train: n_files=30, n_records=167311\n",
      "Test: n_files=25, n_records=45739\n",
      "The number of train samples: 672\n",
      "The number of test samples: 209\n"
     ]
    },
    {
     "name": "stderr",
     "output_type": "stream",
     "text": [
      "100%|██████████| 72/72 [00:08<00:00,  8.38it/s]\n",
      "Progress on [site/floor]:  62%|██████▏   | 85/137 [2:22:13<27:38, 31.90s/it]"
     ]
    },
    {
     "name": "stdout",
     "output_type": "stream",
     "text": [
      "Start processing for 5d2709d403f801723c32bd39/1F\n",
      "Train: n_files=36, n_records=187890\n",
      "Test: n_files=61, n_records=52104\n",
      "The number of train samples: 1895\n",
      "The number of test samples: 679\n"
     ]
    },
    {
     "name": "stderr",
     "output_type": "stream",
     "text": [
      "100%|██████████| 72/72 [00:45<00:00,  1.58it/s]\n",
      "Progress on [site/floor]:  63%|██████▎   | 86/137 [2:23:02<31:37, 37.21s/it]"
     ]
    },
    {
     "name": "stdout",
     "output_type": "stream",
     "text": [
      "Start processing for 5d2709d403f801723c32bd39/2F\n",
      "Train: n_files=29, n_records=214367\n",
      "Test: n_files=51, n_records=51335\n",
      "The number of train samples: 1771\n",
      "The number of test samples: 471\n"
     ]
    },
    {
     "name": "stderr",
     "output_type": "stream",
     "text": [
      "100%|██████████| 72/72 [00:18<00:00,  3.97it/s]\n",
      "Progress on [site/floor]:  64%|██████▎   | 87/137 [2:23:24<27:09, 32.58s/it]"
     ]
    },
    {
     "name": "stdout",
     "output_type": "stream",
     "text": [
      "Start processing for 5d2709d403f801723c32bd39/B1\n",
      "Train: n_files=58, n_records=273330\n",
      "Test: n_files=75, n_records=63755\n",
      "The number of train samples: 3450\n",
      "The number of test samples: 976\n"
     ]
    },
    {
     "name": "stderr",
     "output_type": "stream",
     "text": [
      "100%|██████████| 72/72 [00:54<00:00,  1.33it/s]\n",
      "Progress on [site/floor]:  64%|██████▍   | 88/137 [2:24:24<33:13, 40.68s/it]"
     ]
    },
    {
     "name": "stdout",
     "output_type": "stream",
     "text": [
      "Start processing for 5d2709dd03f801723c32cfb6/BM\n",
      "Train: n_files=29, n_records=119691\n",
      "Test: n_files=37, n_records=36518\n",
      "The number of train samples: 766\n",
      "The number of test samples: 225\n"
     ]
    },
    {
     "name": "stderr",
     "output_type": "stream",
     "text": [
      "100%|██████████| 72/72 [00:06<00:00, 11.70it/s]\n",
      "Progress on [site/floor]:  65%|██████▍   | 89/137 [2:24:32<24:52, 31.09s/it]"
     ]
    },
    {
     "name": "stdout",
     "output_type": "stream",
     "text": [
      "Start processing for 5d2709dd03f801723c32cfb6/L1\n",
      "Train: n_files=92, n_records=249233\n",
      "Test: n_files=83, n_records=83508\n",
      "The number of train samples: 1231\n",
      "The number of test samples: 433\n"
     ]
    },
    {
     "name": "stderr",
     "output_type": "stream",
     "text": [
      "100%|██████████| 72/72 [00:21<00:00,  3.40it/s]\n",
      "Progress on [site/floor]:  66%|██████▌   | 90/137 [2:24:58<23:07, 29.51s/it]"
     ]
    },
    {
     "name": "stdout",
     "output_type": "stream",
     "text": [
      "Start processing for 5d2709dd03f801723c32cfb6/L2\n",
      "Train: n_files=29, n_records=366255\n",
      "Test: n_files=40, n_records=88484\n",
      "The number of train samples: 2435\n",
      "The number of test samples: 714\n"
     ]
    },
    {
     "name": "stderr",
     "output_type": "stream",
     "text": [
      "100%|██████████| 72/72 [00:56<00:00,  1.28it/s]\n",
      "Progress on [site/floor]:  66%|██████▋   | 91/137 [2:25:59<29:53, 39.00s/it]"
     ]
    },
    {
     "name": "stdout",
     "output_type": "stream",
     "text": [
      "Start processing for 5d2709e003f801723c32d896/F3\n",
      "Train: n_files=38, n_records=159970\n",
      "Test: n_files=39, n_records=37528\n",
      "The number of train samples: 1739\n",
      "The number of test samples: 456\n"
     ]
    },
    {
     "name": "stderr",
     "output_type": "stream",
     "text": [
      "100%|██████████| 72/72 [00:12<00:00,  5.84it/s]\n",
      "Progress on [site/floor]:  67%|██████▋   | 92/137 [2:26:15<23:54, 31.87s/it]"
     ]
    },
    {
     "name": "stdout",
     "output_type": "stream",
     "text": [
      "Start processing for 5da138274db8ce0c98bbd3d2/F1\n",
      "Train: n_files=39, n_records=35297\n",
      "Test: n_files=50, n_records=11335\n",
      "The number of train samples: 677\n",
      "The number of test samples: 267\n"
     ]
    },
    {
     "name": "stderr",
     "output_type": "stream",
     "text": [
      "100%|██████████| 72/72 [00:05<00:00, 12.19it/s]\n",
      "Progress on [site/floor]:  68%|██████▊   | 93/137 [2:26:22<17:58, 24.51s/it]"
     ]
    },
    {
     "name": "stdout",
     "output_type": "stream",
     "text": [
      "Start processing for 5da138274db8ce0c98bbd3d2/F2\n",
      "Train: n_files=28, n_records=33065\n",
      "Test: n_files=47, n_records=13469\n",
      "The number of train samples: 727\n",
      "The number of test samples: 302\n"
     ]
    },
    {
     "name": "stderr",
     "output_type": "stream",
     "text": [
      "100%|██████████| 72/72 [00:03<00:00, 22.09it/s]\n",
      "Progress on [site/floor]:  69%|██████▊   | 94/137 [2:26:26<13:16, 18.51s/it]"
     ]
    },
    {
     "name": "stdout",
     "output_type": "stream",
     "text": [
      "Start processing for 5da1382d4db8ce0c98bbe92e/F1\n",
      "Train: n_files=38, n_records=647123\n",
      "Test: n_files=54, n_records=174683\n",
      "The number of train samples: 1626\n",
      "The number of test samples: 520\n"
     ]
    },
    {
     "name": "stderr",
     "output_type": "stream",
     "text": [
      "100%|██████████| 72/72 [00:42<00:00,  1.68it/s]\n",
      "Progress on [site/floor]:  69%|██████▉   | 95/137 [2:27:17<19:37, 28.04s/it]"
     ]
    },
    {
     "name": "stdout",
     "output_type": "stream",
     "text": [
      "Start processing for 5da138314db8ce0c98bbf3a0/B1\n",
      "Train: n_files=51, n_records=394280\n",
      "Test: n_files=68, n_records=106527\n",
      "The number of train samples: 1625\n",
      "The number of test samples: 544\n"
     ]
    },
    {
     "name": "stderr",
     "output_type": "stream",
     "text": [
      "100%|██████████| 72/72 [00:23<00:00,  3.05it/s]\n",
      "Progress on [site/floor]:  70%|███████   | 96/137 [2:27:46<19:18, 28.26s/it]"
     ]
    },
    {
     "name": "stdout",
     "output_type": "stream",
     "text": [
      "Start processing for 5da138314db8ce0c98bbf3a0/B2\n",
      "Train: n_files=28, n_records=55436\n",
      "Test: n_files=42, n_records=15975\n",
      "The number of train samples: 1199\n",
      "The number of test samples: 380\n"
     ]
    },
    {
     "name": "stderr",
     "output_type": "stream",
     "text": [
      "100%|██████████| 72/72 [00:05<00:00, 12.90it/s]\n",
      "Progress on [site/floor]:  71%|███████   | 97/137 [2:27:53<14:40, 22.01s/it]"
     ]
    },
    {
     "name": "stdout",
     "output_type": "stream",
     "text": [
      "Start processing for 5da138314db8ce0c98bbf3a0/F1\n",
      "Train: n_files=56, n_records=296733\n",
      "Test: n_files=58, n_records=92235\n",
      "The number of train samples: 1216\n",
      "The number of test samples: 405\n"
     ]
    },
    {
     "name": "stderr",
     "output_type": "stream",
     "text": [
      "100%|██████████| 72/72 [00:13<00:00,  5.52it/s]\n",
      "Progress on [site/floor]:  72%|███████▏  | 98/137 [2:28:10<13:20, 20.51s/it]"
     ]
    },
    {
     "name": "stdout",
     "output_type": "stream",
     "text": [
      "Start processing for 5da138314db8ce0c98bbf3a0/F2\n",
      "Train: n_files=28, n_records=142617\n",
      "Test: n_files=34, n_records=30508\n",
      "The number of train samples: 637\n",
      "The number of test samples: 202\n"
     ]
    },
    {
     "name": "stderr",
     "output_type": "stream",
     "text": [
      "100%|██████████| 72/72 [00:04<00:00, 16.33it/s]\n",
      "Progress on [site/floor]:  72%|███████▏  | 99/137 [2:28:16<10:18, 16.28s/it]"
     ]
    },
    {
     "name": "stdout",
     "output_type": "stream",
     "text": [
      "Start processing for 5da138314db8ce0c98bbf3a0/F3\n",
      "Train: n_files=26, n_records=213373\n",
      "Test: n_files=34, n_records=46906\n",
      "The number of train samples: 929\n",
      "The number of test samples: 282\n"
     ]
    },
    {
     "name": "stderr",
     "output_type": "stream",
     "text": [
      "100%|██████████| 72/72 [00:07<00:00,  9.37it/s]\n",
      "Progress on [site/floor]:  73%|███████▎  | 100/137 [2:28:27<08:56, 14.50s/it]"
     ]
    },
    {
     "name": "stdout",
     "output_type": "stream",
     "text": [
      "Start processing for 5da1383b4db8ce0c98bc11ab/F2\n",
      "Train: n_files=48, n_records=388539\n",
      "Test: n_files=48, n_records=105355\n",
      "The number of train samples: 3371\n",
      "The number of test samples: 894\n"
     ]
    },
    {
     "name": "stderr",
     "output_type": "stream",
     "text": [
      "100%|██████████| 72/72 [01:31<00:00,  1.27s/it]\n",
      "Progress on [site/floor]:  74%|███████▎  | 101/137 [2:30:04<23:38, 39.39s/it]"
     ]
    },
    {
     "name": "stdout",
     "output_type": "stream",
     "text": [
      "Start processing for 5da1383b4db8ce0c98bc11ab/F3\n",
      "Train: n_files=42, n_records=288535\n",
      "Test: n_files=52, n_records=61274\n",
      "The number of train samples: 2332\n",
      "The number of test samples: 704\n"
     ]
    },
    {
     "name": "stderr",
     "output_type": "stream",
     "text": [
      "100%|██████████| 72/72 [00:49<00:00,  1.45it/s]\n",
      "Progress on [site/floor]:  74%|███████▍  | 102/137 [2:30:58<25:33, 43.83s/it]"
     ]
    },
    {
     "name": "stdout",
     "output_type": "stream",
     "text": [
      "Start processing for 5da138754db8ce0c98bca82f/F2\n",
      "Train: n_files=28, n_records=91375\n",
      "Test: n_files=25, n_records=24759\n",
      "The number of train samples: 1131\n",
      "The number of test samples: 347\n"
     ]
    },
    {
     "name": "stderr",
     "output_type": "stream",
     "text": [
      "100%|██████████| 72/72 [00:10<00:00,  6.96it/s]\n",
      "Progress on [site/floor]:  75%|███████▌  | 103/137 [2:31:11<19:35, 34.56s/it]"
     ]
    },
    {
     "name": "stdout",
     "output_type": "stream",
     "text": [
      "Start processing for 5da138764db8ce0c98bcaa46/B1\n",
      "Train: n_files=38, n_records=102565\n",
      "Test: n_files=57, n_records=31049\n",
      "The number of train samples: 1326\n",
      "The number of test samples: 455\n"
     ]
    },
    {
     "name": "stderr",
     "output_type": "stream",
     "text": [
      "100%|██████████| 72/72 [00:15<00:00,  4.59it/s]\n",
      "Progress on [site/floor]:  76%|███████▌  | 104/137 [2:31:30<16:24, 29.82s/it]"
     ]
    },
    {
     "name": "stdout",
     "output_type": "stream",
     "text": [
      "Start processing for 5da138764db8ce0c98bcaa46/F1\n",
      "Train: n_files=52, n_records=196788\n",
      "Test: n_files=58, n_records=58007\n",
      "The number of train samples: 1551\n",
      "The number of test samples: 468\n"
     ]
    },
    {
     "name": "stderr",
     "output_type": "stream",
     "text": [
      "100%|██████████| 72/72 [00:23<00:00,  3.01it/s]\n",
      "Progress on [site/floor]:  77%|███████▋  | 105/137 [2:31:57<15:28, 29.02s/it]"
     ]
    },
    {
     "name": "stdout",
     "output_type": "stream",
     "text": [
      "Start processing for 5da138764db8ce0c98bcaa46/F2\n",
      "Train: n_files=62, n_records=147304\n",
      "Test: n_files=73, n_records=44116\n",
      "The number of train samples: 1563\n",
      "The number of test samples: 521\n"
     ]
    },
    {
     "name": "stderr",
     "output_type": "stream",
     "text": [
      "100%|██████████| 72/72 [00:23<00:00,  3.03it/s]\n",
      "Progress on [site/floor]:  77%|███████▋  | 106/137 [2:32:25<14:44, 28.52s/it]"
     ]
    },
    {
     "name": "stdout",
     "output_type": "stream",
     "text": [
      "Start processing for 5da138764db8ce0c98bcaa46/F3\n",
      "Train: n_files=52, n_records=122613\n",
      "Test: n_files=58, n_records=36004\n",
      "The number of train samples: 1345\n",
      "The number of test samples: 447\n"
     ]
    },
    {
     "name": "stderr",
     "output_type": "stream",
     "text": [
      "100%|██████████| 72/72 [00:13<00:00,  5.36it/s]\n",
      "Progress on [site/floor]:  78%|███████▊  | 107/137 [2:32:41<12:23, 24.79s/it]"
     ]
    },
    {
     "name": "stdout",
     "output_type": "stream",
     "text": [
      "Start processing for 5da1389e4db8ce0c98bd0547/B1\n",
      "Train: n_files=37, n_records=44035\n",
      "Test: n_files=56, n_records=15155\n",
      "The number of train samples: 717\n",
      "The number of test samples: 288\n"
     ]
    },
    {
     "name": "stderr",
     "output_type": "stream",
     "text": [
      "100%|██████████| 72/72 [00:04<00:00, 15.10it/s]\n",
      "Progress on [site/floor]:  79%|███████▉  | 108/137 [2:32:47<09:19, 19.30s/it]"
     ]
    },
    {
     "name": "stdout",
     "output_type": "stream",
     "text": [
      "Start processing for 5da1389e4db8ce0c98bd0547/F3\n",
      "Train: n_files=35, n_records=56932\n",
      "Test: n_files=52, n_records=16144\n",
      "The number of train samples: 663\n",
      "The number of test samples: 266\n"
     ]
    },
    {
     "name": "stderr",
     "output_type": "stream",
     "text": [
      "100%|██████████| 72/72 [00:03<00:00, 18.50it/s]\n",
      "Progress on [site/floor]:  80%|███████▉  | 109/137 [2:32:53<07:07, 15.26s/it]"
     ]
    },
    {
     "name": "stdout",
     "output_type": "stream",
     "text": [
      "Start processing for 5da1389e4db8ce0c98bd0547/F4\n",
      "Train: n_files=74, n_records=83842\n",
      "Test: n_files=111, n_records=30593\n",
      "The number of train samples: 1326\n",
      "The number of test samples: 529\n"
     ]
    },
    {
     "name": "stderr",
     "output_type": "stream",
     "text": [
      "100%|██████████| 72/72 [00:13<00:00,  5.50it/s]\n",
      "Progress on [site/floor]:  80%|████████  | 110/137 [2:33:09<07:01, 15.60s/it]"
     ]
    },
    {
     "name": "stdout",
     "output_type": "stream",
     "text": [
      "Start processing for 5da138b74db8ce0c98bd4774/B1\n",
      "Train: n_files=109, n_records=388373\n",
      "Test: n_files=107, n_records=100320\n",
      "The number of train samples: 3455\n",
      "The number of test samples: 1082\n"
     ]
    },
    {
     "name": "stderr",
     "output_type": "stream",
     "text": [
      "100%|██████████| 72/72 [01:56<00:00,  1.62s/it]\n",
      "Progress on [site/floor]:  81%|████████  | 111/137 [2:35:12<20:43, 47.82s/it]"
     ]
    },
    {
     "name": "stdout",
     "output_type": "stream",
     "text": [
      "Start processing for 5da138b74db8ce0c98bd4774/F1\n",
      "Train: n_files=44, n_records=601383\n",
      "Test: n_files=40, n_records=166948\n",
      "The number of train samples: 1690\n",
      "The number of test samples: 473\n"
     ]
    },
    {
     "name": "stderr",
     "output_type": "stream",
     "text": [
      "100%|██████████| 72/72 [00:30<00:00,  2.38it/s]\n",
      "Progress on [site/floor]:  82%|████████▏ | 112/137 [2:35:48<18:25, 44.22s/it]"
     ]
    },
    {
     "name": "stdout",
     "output_type": "stream",
     "text": [
      "Start processing for 5da138b74db8ce0c98bd4774/F2\n",
      "Train: n_files=46, n_records=374943\n",
      "Test: n_files=48, n_records=115503\n",
      "The number of train samples: 1581\n",
      "The number of test samples: 503\n"
     ]
    },
    {
     "name": "stderr",
     "output_type": "stream",
     "text": [
      "100%|██████████| 72/72 [00:26<00:00,  2.71it/s]\n",
      "Progress on [site/floor]:  82%|████████▏ | 113/137 [2:36:19<16:03, 40.15s/it]"
     ]
    },
    {
     "name": "stdout",
     "output_type": "stream",
     "text": [
      "Start processing for 5da138b74db8ce0c98bd4774/F3\n",
      "Train: n_files=46, n_records=412693\n",
      "Test: n_files=46, n_records=89513\n",
      "The number of train samples: 1575\n",
      "The number of test samples: 453\n"
     ]
    },
    {
     "name": "stderr",
     "output_type": "stream",
     "text": [
      "100%|██████████| 72/72 [00:23<00:00,  3.12it/s]\n",
      "Progress on [site/floor]:  83%|████████▎ | 114/137 [2:36:46<13:54, 36.26s/it]"
     ]
    },
    {
     "name": "stdout",
     "output_type": "stream",
     "text": [
      "Start processing for 5da138b74db8ce0c98bd4774/F4\n",
      "Train: n_files=43, n_records=408916\n",
      "Test: n_files=52, n_records=91789\n",
      "The number of train samples: 1559\n",
      "The number of test samples: 496\n"
     ]
    },
    {
     "name": "stderr",
     "output_type": "stream",
     "text": [
      "100%|██████████| 72/72 [00:24<00:00,  2.99it/s]\n",
      "Progress on [site/floor]:  84%|████████▍ | 115/137 [2:37:14<12:24, 33.85s/it]"
     ]
    },
    {
     "name": "stdout",
     "output_type": "stream",
     "text": [
      "Start processing for 5da138b74db8ce0c98bd4774/F5\n",
      "Train: n_files=63, n_records=468330\n",
      "Test: n_files=68, n_records=127717\n",
      "The number of train samples: 2131\n",
      "The number of test samples: 660\n"
     ]
    },
    {
     "name": "stderr",
     "output_type": "stream",
     "text": [
      "100%|██████████| 72/72 [00:44<00:00,  1.63it/s]\n",
      "Progress on [site/floor]:  85%|████████▍ | 116/137 [2:38:04<13:27, 38.47s/it]"
     ]
    },
    {
     "name": "stdout",
     "output_type": "stream",
     "text": [
      "Start processing for 5da958dd46f8266d0737457b/B1\n",
      "Train: n_files=37, n_records=343877\n",
      "Test: n_files=38, n_records=95754\n",
      "The number of train samples: 1683\n",
      "The number of test samples: 498\n"
     ]
    },
    {
     "name": "stderr",
     "output_type": "stream",
     "text": [
      "100%|██████████| 72/72 [00:22<00:00,  3.25it/s]\n",
      "Progress on [site/floor]:  85%|████████▌ | 117/137 [2:38:29<11:34, 34.70s/it]"
     ]
    },
    {
     "name": "stdout",
     "output_type": "stream",
     "text": [
      "Start processing for 5da958dd46f8266d0737457b/F1\n",
      "Train: n_files=66, n_records=528978\n",
      "Test: n_files=65, n_records=144978\n",
      "The number of train samples: 1961\n",
      "The number of test samples: 590\n"
     ]
    },
    {
     "name": "stderr",
     "output_type": "stream",
     "text": [
      "100%|██████████| 72/72 [00:38<00:00,  1.88it/s]\n",
      "Progress on [site/floor]:  86%|████████▌ | 118/137 [2:39:13<11:52, 37.49s/it]"
     ]
    },
    {
     "name": "stdout",
     "output_type": "stream",
     "text": [
      "Start processing for 5da958dd46f8266d0737457b/F2\n",
      "Train: n_files=47, n_records=503985\n",
      "Test: n_files=44, n_records=121705\n",
      "The number of train samples: 1672\n",
      "The number of test samples: 523\n"
     ]
    },
    {
     "name": "stderr",
     "output_type": "stream",
     "text": [
      "100%|██████████| 72/72 [00:29<00:00,  2.47it/s]\n",
      "Progress on [site/floor]:  87%|████████▋ | 119/137 [2:39:47<10:56, 36.46s/it]"
     ]
    },
    {
     "name": "stdout",
     "output_type": "stream",
     "text": [
      "Start processing for 5da958dd46f8266d0737457b/F3\n",
      "Train: n_files=47, n_records=522100\n",
      "Test: n_files=40, n_records=113231\n",
      "The number of train samples: 1744\n",
      "The number of test samples: 522\n"
     ]
    },
    {
     "name": "stderr",
     "output_type": "stream",
     "text": [
      "100%|██████████| 72/72 [00:32<00:00,  2.24it/s]\n",
      "Progress on [site/floor]:  88%|████████▊ | 120/137 [2:40:25<10:23, 36.65s/it]"
     ]
    },
    {
     "name": "stdout",
     "output_type": "stream",
     "text": [
      "Start processing for 5da958dd46f8266d0737457b/F4\n",
      "Train: n_files=26, n_records=340894\n",
      "Test: n_files=32, n_records=49948\n",
      "The number of train samples: 1353\n",
      "The number of test samples: 319\n"
     ]
    },
    {
     "name": "stderr",
     "output_type": "stream",
     "text": [
      "100%|██████████| 72/72 [00:16<00:00,  4.43it/s]\n",
      "Progress on [site/floor]:  88%|████████▊ | 121/137 [2:40:44<08:23, 31.47s/it]"
     ]
    },
    {
     "name": "stdout",
     "output_type": "stream",
     "text": [
      "Start processing for 5da958dd46f8266d0737457b/F5\n",
      "Train: n_files=26, n_records=266471\n",
      "Test: n_files=29, n_records=61580\n",
      "The number of train samples: 1112\n",
      "The number of test samples: 326\n"
     ]
    },
    {
     "name": "stderr",
     "output_type": "stream",
     "text": [
      "100%|██████████| 72/72 [00:13<00:00,  5.45it/s]\n",
      "Progress on [site/floor]:  89%|████████▉ | 122/137 [2:41:00<06:41, 26.79s/it]"
     ]
    },
    {
     "name": "stdout",
     "output_type": "stream",
     "text": [
      "Start processing for 5dbc1d84c1eb61796cf7c010/B1\n",
      "Train: n_files=39, n_records=198164\n",
      "Test: n_files=47, n_records=60119\n",
      "The number of train samples: 1128\n",
      "The number of test samples: 387\n"
     ]
    },
    {
     "name": "stderr",
     "output_type": "stream",
     "text": [
      "100%|██████████| 72/72 [00:12<00:00,  5.82it/s]\n",
      "Progress on [site/floor]:  90%|████████▉ | 123/137 [2:41:15<05:25, 23.22s/it]"
     ]
    },
    {
     "name": "stdout",
     "output_type": "stream",
     "text": [
      "Start processing for 5dbc1d84c1eb61796cf7c010/F2\n",
      "Train: n_files=44, n_records=374907\n",
      "Test: n_files=48, n_records=124736\n",
      "The number of train samples: 1400\n",
      "The number of test samples: 489\n"
     ]
    },
    {
     "name": "stderr",
     "output_type": "stream",
     "text": [
      "100%|██████████| 72/72 [00:37<00:00,  1.93it/s]\n",
      "Progress on [site/floor]:  91%|█████████ | 124/137 [2:41:57<06:14, 28.81s/it]"
     ]
    },
    {
     "name": "stdout",
     "output_type": "stream",
     "text": [
      "Start processing for 5dbc1d84c1eb61796cf7c010/F3\n",
      "Train: n_files=50, n_records=375947\n",
      "Test: n_files=54, n_records=132122\n",
      "The number of train samples: 1195\n",
      "The number of test samples: 467\n"
     ]
    },
    {
     "name": "stderr",
     "output_type": "stream",
     "text": [
      "100%|██████████| 72/72 [00:30<00:00,  2.37it/s]\n",
      "Progress on [site/floor]:  91%|█████████ | 125/137 [2:42:31<06:06, 30.55s/it]"
     ]
    },
    {
     "name": "stdout",
     "output_type": "stream",
     "text": [
      "Start processing for 5dbc1d84c1eb61796cf7c010/F4\n",
      "Train: n_files=57, n_records=475376\n",
      "Test: n_files=54, n_records=167071\n",
      "The number of train samples: 1662\n",
      "The number of test samples: 580\n"
     ]
    },
    {
     "name": "stderr",
     "output_type": "stream",
     "text": [
      "100%|██████████| 72/72 [00:45<00:00,  1.59it/s]\n",
      "Progress on [site/floor]:  92%|█████████▏| 126/137 [2:43:22<06:42, 36.57s/it]"
     ]
    },
    {
     "name": "stdout",
     "output_type": "stream",
     "text": [
      "Start processing for 5dbc1d84c1eb61796cf7c010/F5\n",
      "Train: n_files=52, n_records=463691\n",
      "Test: n_files=50, n_records=126878\n",
      "The number of train samples: 1459\n",
      "The number of test samples: 456\n"
     ]
    },
    {
     "name": "stderr",
     "output_type": "stream",
     "text": [
      "100%|██████████| 72/72 [00:32<00:00,  2.22it/s]\n",
      "Progress on [site/floor]:  93%|█████████▎| 127/137 [2:43:59<06:07, 36.76s/it]"
     ]
    },
    {
     "name": "stdout",
     "output_type": "stream",
     "text": [
      "Start processing for 5dbc1d84c1eb61796cf7c010/F6\n",
      "Train: n_files=55, n_records=397584\n",
      "Test: n_files=48, n_records=120347\n",
      "The number of train samples: 1501\n",
      "The number of test samples: 519\n"
     ]
    },
    {
     "name": "stderr",
     "output_type": "stream",
     "text": [
      "100%|██████████| 72/72 [00:35<00:00,  2.04it/s]\n",
      "Progress on [site/floor]:  93%|█████████▎| 128/137 [2:44:39<05:38, 37.62s/it]"
     ]
    },
    {
     "name": "stdout",
     "output_type": "stream",
     "text": [
      "Start processing for 5dbc1d84c1eb61796cf7c010/F7\n",
      "Train: n_files=48, n_records=418984\n",
      "Test: n_files=42, n_records=145709\n",
      "The number of train samples: 1523\n",
      "The number of test samples: 478\n"
     ]
    },
    {
     "name": "stderr",
     "output_type": "stream",
     "text": [
      "100%|██████████| 72/72 [00:27<00:00,  2.58it/s]\n",
      "Progress on [site/floor]:  94%|█████████▍| 129/137 [2:45:11<04:48, 36.07s/it]"
     ]
    },
    {
     "name": "stdout",
     "output_type": "stream",
     "text": [
      "Start processing for 5dbc1d84c1eb61796cf7c010/F8\n",
      "Train: n_files=43, n_records=294385\n",
      "Test: n_files=45, n_records=94427\n",
      "The number of train samples: 1481\n",
      "The number of test samples: 495\n"
     ]
    },
    {
     "name": "stderr",
     "output_type": "stream",
     "text": [
      "100%|██████████| 72/72 [00:18<00:00,  3.87it/s]\n",
      "Progress on [site/floor]:  95%|█████████▍| 130/137 [2:45:33<03:42, 31.78s/it]"
     ]
    },
    {
     "name": "stdout",
     "output_type": "stream",
     "text": [
      "Start processing for 5dc8cea7659e181adb076a3f/B1\n",
      "Train: n_files=32, n_records=69231\n",
      "Test: n_files=43, n_records=20224\n",
      "The number of train samples: 989\n",
      "The number of test samples: 354\n"
     ]
    },
    {
     "name": "stderr",
     "output_type": "stream",
     "text": [
      "100%|██████████| 72/72 [00:06<00:00, 11.37it/s]\n",
      "Progress on [site/floor]:  96%|█████████▌| 131/137 [2:45:41<02:27, 24.63s/it]"
     ]
    },
    {
     "name": "stdout",
     "output_type": "stream",
     "text": [
      "Start processing for 5dc8cea7659e181adb076a3f/F1\n",
      "Train: n_files=41, n_records=281747\n",
      "Test: n_files=60, n_records=79884\n",
      "The number of train samples: 1505\n",
      "The number of test samples: 548\n"
     ]
    },
    {
     "name": "stderr",
     "output_type": "stream",
     "text": [
      "100%|██████████| 72/72 [00:34<00:00,  2.08it/s]\n",
      "Progress on [site/floor]:  96%|█████████▋| 132/137 [2:46:19<02:23, 28.77s/it]"
     ]
    },
    {
     "name": "stdout",
     "output_type": "stream",
     "text": [
      "Start processing for 5dc8cea7659e181adb076a3f/F2\n",
      "Train: n_files=67, n_records=260999\n",
      "Test: n_files=79, n_records=68785\n",
      "The number of train samples: 1599\n",
      "The number of test samples: 565\n"
     ]
    },
    {
     "name": "stderr",
     "output_type": "stream",
     "text": [
      "100%|██████████| 72/72 [00:45<00:00,  1.57it/s]\n",
      "Progress on [site/floor]:  97%|█████████▋| 133/137 [2:47:09<02:20, 35.01s/it]"
     ]
    },
    {
     "name": "stdout",
     "output_type": "stream",
     "text": [
      "Start processing for 5dc8cea7659e181adb076a3f/F3\n",
      "Train: n_files=54, n_records=150588\n",
      "Test: n_files=54, n_records=69254\n",
      "The number of train samples: 1622\n",
      "The number of test samples: 591\n"
     ]
    },
    {
     "name": "stderr",
     "output_type": "stream",
     "text": [
      "100%|██████████| 72/72 [00:34<00:00,  2.06it/s]\n",
      "Progress on [site/floor]:  98%|█████████▊| 134/137 [2:47:47<01:47, 35.87s/it]"
     ]
    },
    {
     "name": "stdout",
     "output_type": "stream",
     "text": [
      "Start processing for 5dc8cea7659e181adb076a3f/F4\n",
      "Train: n_files=36, n_records=195326\n",
      "Test: n_files=42, n_records=59446\n",
      "The number of train samples: 1305\n",
      "The number of test samples: 448\n"
     ]
    },
    {
     "name": "stderr",
     "output_type": "stream",
     "text": [
      "100%|██████████| 72/72 [00:22<00:00,  3.24it/s]\n",
      "Progress on [site/floor]:  99%|█████████▊| 135/137 [2:48:12<01:05, 32.68s/it]"
     ]
    },
    {
     "name": "stdout",
     "output_type": "stream",
     "text": [
      "Start processing for 5dc8cea7659e181adb076a3f/F5\n",
      "Train: n_files=50, n_records=288694\n",
      "Test: n_files=52, n_records=74692\n",
      "The number of train samples: 1868\n",
      "The number of test samples: 599\n"
     ]
    },
    {
     "name": "stderr",
     "output_type": "stream",
     "text": [
      "100%|██████████| 72/72 [00:31<00:00,  2.31it/s]\n",
      "Progress on [site/floor]:  99%|█████████▉| 136/137 [2:48:47<00:33, 33.34s/it]"
     ]
    },
    {
     "name": "stdout",
     "output_type": "stream",
     "text": [
      "Start processing for 5dc8cea7659e181adb076a3f/F6\n",
      "Train: n_files=41, n_records=138517\n",
      "Test: n_files=38, n_records=43758\n",
      "The number of train samples: 1200\n",
      "The number of test samples: 446\n"
     ]
    },
    {
     "name": "stderr",
     "output_type": "stream",
     "text": [
      "100%|██████████| 72/72 [00:16<00:00,  4.44it/s]\n",
      "Progress on [site/floor]: 100%|██████████| 137/137 [2:49:05<00:00, 74.06s/it]\n"
     ]
    }
   ],
   "source": [
    "failed = []\n",
    "\n",
    "for site_id, floor_id in tqdm(unique_floors, desc=\"Progress on [site/floor]\"):\n",
    "  try:\n",
    "    print(f\"Start processing for {site_id}/{floor_id}\")\n",
    "    train_tracks = supervision_floor_df.loc[\n",
    "        (supervision_floor_df[\"site_id\"] == site_id) &\n",
    "        (supervision_floor_df[\"floor_id\"] == floor_id)]\n",
    "\n",
    "    test_tracks = train_test_assignment.loc[\n",
    "        (train_test_assignment[\"site_id\"] == site_id) &\n",
    "        (train_test_assignment[\"floor_id\"] == floor_id) &\n",
    "        (train_test_assignment[\"dataset\"] == \"test\")]\n",
    "\n",
    "    train_files = get_track_filepaths(train_tracks, BASE_DATA_DIR)\n",
    "    test_files = get_track_filepaths(test_tracks, BASE_DATA_DIR)\n",
    "\n",
    "    train_wifi_location_df_list = read_wifi_location_df_list(train_files)\n",
    "    test_wifi_location_df_list = read_wifi_location_df_list(test_files)\n",
    "\n",
    "    train_wifi_location_df = pd.concat(train_wifi_location_df_list)\n",
    "    test_wifi_location_df = pd.concat(test_wifi_location_df_list)\n",
    "\n",
    "    print(f\"Train: n_files={len(train_files)}, n_records={train_wifi_location_df.shape[0]}\")\n",
    "    print(f\"Test: n_files={len(test_files)}, n_records={test_wifi_location_df.shape[0]}\")\n",
    "\n",
    "    train_fingerprint_df, train_bssid = extract_fingerprint_df(train_wifi_location_df_list)\n",
    "    test_fingerprint_df, test_bssid = extract_fingerprint_df(test_wifi_location_df_list)\n",
    "    X_train, y_train, X_test, y_test, bssid_vector = extract_train_test(\n",
    "      train_fingerprint_df, train_bssid,\n",
    "      test_fingerprint_df, test_bssid\n",
    "    )\n",
    "    assert len(X_train) == len(y_train)\n",
    "    assert len(X_test) == len(y_test)\n",
    "\n",
    "    print(f\"The number of train samples: {X_train.shape[0]}\")\n",
    "    print(f\"The number of test samples: {X_test.shape[0]}\")\n",
    "    options_min_rss = range(-100, -70, 5)\n",
    "    options_metric = [\"l1\", \"l2\", \"cosine\"]\n",
    "    options_n_neighbors = [1, 2, 4, 8]\n",
    "\n",
    "    results = run_knn_regression_experiments(\n",
    "      X_train,\n",
    "      y_train,\n",
    "      X_test,\n",
    "      y_test,\n",
    "      options_metric=options_metric,\n",
    "      options_n_neighbors=options_n_neighbors,\n",
    "      options_min_rss=options_min_rss\n",
    "    )\n",
    "    result_df = pd.DataFrame(results)\n",
    "    result_df.to_csv(os.path.join(output_data_dir, f\"{site_id}_{floor_id}.csv\"), index=False)\n",
    "  \n",
    "  except Exception as e:\n",
    "    print(f\"Failed to run kNN experiment for {site_id}/{floor_id}, caused by {type(e)}: {str(e)}\")\n",
    "    failed.append((site_id, floor_id))\n"
   ]
  },
  {
   "cell_type": "code",
   "execution_count": 24,
   "metadata": {},
   "outputs": [
    {
     "data": {
      "text/plain": [
       "0"
      ]
     },
     "execution_count": 24,
     "metadata": {},
     "output_type": "execute_result"
    }
   ],
   "source": [
    "len(failed)"
   ]
  },
  {
   "cell_type": "code",
   "execution_count": null,
   "metadata": {},
   "outputs": [],
   "source": []
  }
 ],
 "metadata": {
  "kernelspec": {
   "display_name": "venv",
   "language": "python",
   "name": "python3"
  },
  "language_info": {
   "codemirror_mode": {
    "name": "ipython",
    "version": 3
   },
   "file_extension": ".py",
   "mimetype": "text/x-python",
   "name": "python",
   "nbconvert_exporter": "python",
   "pygments_lexer": "ipython3",
   "version": "3.10.12"
  },
  "orig_nbformat": 4
 },
 "nbformat": 4,
 "nbformat_minor": 2
}
