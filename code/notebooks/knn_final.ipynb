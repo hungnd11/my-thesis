{
 "cells": [
  {
   "cell_type": "markdown",
   "metadata": {},
   "source": [
    "# KNN Experiments"
   ]
  },
  {
   "cell_type": "code",
   "execution_count": 1,
   "metadata": {},
   "outputs": [
    {
     "name": "stdout",
     "output_type": "stream",
     "text": [
      "The code directory is located at ./../../code\n"
     ]
    }
   ],
   "source": [
    "import os\n",
    "import sys\n",
    "\n",
    "PROJECT_HOME = \"./../..\"\n",
    "# Add utilities library for Microsoft Indoor Localization 2.0 Dataset\n",
    "CODE_DIR = os.path.join(PROJECT_HOME, \"code\")\n",
    "print(\"The code directory is located at\", CODE_DIR)\n",
    "sys.path.append(CODE_DIR)"
   ]
  },
  {
   "cell_type": "code",
   "execution_count": 2,
   "metadata": {},
   "outputs": [],
   "source": [
    "import pandas as pd\n",
    "import numpy as np\n",
    "import matplotlib.pyplot as plt\n",
    "\n",
    "from py_indoor_loc.floor_map import read_floor_data, extract_floor_map_geometries\n",
    "from py_indoor_loc.extract.wifi_fingerprint import read_wifi_location_df_list, extract_fingerprint_df\n",
    "from py_indoor_loc.plot import plot_n_unique_bssids_by_rssi, plot_floor_map\n",
    "from py_indoor_loc.knn.preprocessing import extract_train_test\n",
    "from py_indoor_loc.knn.experiment import run_knn_regression_experiments\n",
    "from tqdm import tqdm"
   ]
  },
  {
   "cell_type": "code",
   "execution_count": 6,
   "metadata": {},
   "outputs": [],
   "source": [
    "%matplotlib inline"
   ]
  },
  {
   "cell_type": "code",
   "execution_count": 7,
   "metadata": {},
   "outputs": [],
   "source": [
    "np.random.seed(2023)"
   ]
  },
  {
   "cell_type": "code",
   "execution_count": 8,
   "metadata": {},
   "outputs": [],
   "source": [
    "EXEC_FLAG = True"
   ]
  },
  {
   "cell_type": "markdown",
   "metadata": {},
   "source": [
    "## Utilities"
   ]
  },
  {
   "cell_type": "code",
   "execution_count": 9,
   "metadata": {},
   "outputs": [],
   "source": [
    "def get_track_filepaths(assignment_df: pd.DataFrame, base_data_dir: str) -> list[str]:\n",
    "  result = []\n",
    "\n",
    "  for _, row in assignment_df.iterrows():\n",
    "    file_path = f\"{base_data_dir}{row['site_id']}/{row['floor_id']}/{row['track_id']}_wifi_fingerprint.csv\"\n",
    "    if not os.path.exists(file_path):\n",
    "      print(f\"File {file_path} does not exist.\")\n",
    "      continue\n",
    "    result.append(file_path)\n",
    "    \n",
    "  return result"
   ]
  },
  {
   "cell_type": "markdown",
   "metadata": {},
   "source": [
    "## Env Variables"
   ]
  },
  {
   "cell_type": "code",
   "execution_count": 10,
   "metadata": {},
   "outputs": [],
   "source": [
    "BASE_DATA_DIR = \"../../data/wifi_fingerprint_manual/train/\"\n",
    "SUPERVISION_PCT = 0.3"
   ]
  },
  {
   "cell_type": "markdown",
   "metadata": {},
   "source": [
    "## Read Train/Test Assignment"
   ]
  },
  {
   "cell_type": "code",
   "execution_count": 11,
   "metadata": {},
   "outputs": [],
   "source": [
    "supervision_df = pd.read_csv(\"../../data/output/20230903_semi_supervision_setup.csv\", index_col=0)\n",
    "supervision_df[\"site_id\"] = supervision_df[\"site_id\"].astype(\"category\")\n",
    "supervision_df[\"floor_id\"] = supervision_df[\"floor_id\"].astype(\"category\")\n",
    "supervision_df[\"dataset\"] = supervision_df[\"dataset\"].astype(\"category\")\n"
   ]
  },
  {
   "cell_type": "code",
   "execution_count": 12,
   "metadata": {},
   "outputs": [],
   "source": [
    "train_test_assignment = pd.read_csv(\"../../data/output/20230903_train_test_assignment.csv\")\n",
    "train_test_assignment[\"site_id\"] = train_test_assignment[\"site_id\"].astype(\"category\")\n",
    "train_test_assignment[\"floor_id\"] = train_test_assignment[\"floor_id\"].astype(\"category\")\n",
    "train_test_assignment[\"dataset\"] = train_test_assignment[\"dataset\"].astype(\"category\")"
   ]
  },
  {
   "cell_type": "code",
   "execution_count": 13,
   "metadata": {},
   "outputs": [
    {
     "name": "stdout",
     "output_type": "stream",
     "text": [
      "The number of floors: 137\n",
      "The number of tracks: 5618\n"
     ]
    }
   ],
   "source": [
    "supervision_floor_df = supervision_df.loc[\n",
    "    (supervision_df[\"supervision_pct\"] == SUPERVISION_PCT) &\n",
    "    (supervision_df[\"dataset\"] == \"unlabeled\")]\n",
    "\n",
    "unique_floors = supervision_floor_df[[\"site_id\", \"floor_id\"]].drop_duplicates().values\n",
    "\n",
    "print(\"The number of floors:\", unique_floors.shape[0])\n",
    "print(\"The number of tracks:\", supervision_floor_df.shape[0])"
   ]
  },
  {
   "cell_type": "markdown",
   "metadata": {},
   "source": [
    "## Extract WiFi Location Data"
   ]
  },
  {
   "cell_type": "code",
   "execution_count": 14,
   "metadata": {},
   "outputs": [],
   "source": [
    "suffix = str(int(SUPERVISION_PCT * 100)).zfill(2)\n",
    "output_data_dir = f\"../../data/output/knn_ground_truth_{suffix}\"\n",
    "os.makedirs(output_data_dir, exist_ok=True)"
   ]
  },
  {
   "cell_type": "code",
   "execution_count": 15,
   "metadata": {},
   "outputs": [
    {
     "name": "stdout",
     "output_type": "stream",
     "text": [
      "Train: n_files=43, n_records=280622\n",
      "Test: n_files=48, n_records=105355\n"
     ]
    }
   ],
   "source": [
    "site_id, floor_id = unique_floors[100]\n",
    "\n",
    "train_tracks = supervision_floor_df.loc[\n",
    "    (supervision_floor_df[\"site_id\"] == site_id) &\n",
    "    (supervision_floor_df[\"floor_id\"] == floor_id)]\n",
    "\n",
    "test_tracks = train_test_assignment.loc[\n",
    "    (train_test_assignment[\"site_id\"] == site_id) &\n",
    "    (train_test_assignment[\"floor_id\"] == floor_id) &\n",
    "    (train_test_assignment[\"dataset\"] == \"test\")]\n",
    "\n",
    "train_files = get_track_filepaths(train_tracks, BASE_DATA_DIR)\n",
    "test_files = get_track_filepaths(test_tracks, BASE_DATA_DIR)\n",
    "\n",
    "train_wifi_location_df_list = read_wifi_location_df_list(train_files)\n",
    "test_wifi_location_df_list = read_wifi_location_df_list(test_files)\n",
    "\n",
    "train_wifi_location_df = pd.concat(train_wifi_location_df_list)\n",
    "test_wifi_location_df = pd.concat(test_wifi_location_df_list)\n",
    "\n",
    "print(f\"Train: n_files={len(train_files)}, n_records={train_wifi_location_df.shape[0]}\")\n",
    "print(f\"Test: n_files={len(test_files)}, n_records={test_wifi_location_df.shape[0]}\")"
   ]
  },
  {
   "cell_type": "markdown",
   "metadata": {},
   "source": [
    "### Visualization: BSSIDs vs. RSS"
   ]
  },
  {
   "cell_type": "code",
   "execution_count": 16,
   "metadata": {},
   "outputs": [],
   "source": [
    "if not EXEC_FLAG:\n",
    "  fig, ax = plt.subplots(1, 1, figsize=(10, 6))\n",
    "\n",
    "  plot_n_unique_bssids_by_rssi(wifi_location_df=pd.concat([train_wifi_location_df, test_wifi_location_df]),\n",
    "                              ax=ax,\n",
    "                              label=\"num_unique_bssids[train+test]\",\n",
    "                              plot_kwargs={\"color\": \"black\"})\n",
    "\n",
    "  plt.show()"
   ]
  },
  {
   "cell_type": "markdown",
   "metadata": {},
   "source": [
    "### Visualization: Floormap + Train/Test Locations"
   ]
  },
  {
   "cell_type": "code",
   "execution_count": 17,
   "metadata": {},
   "outputs": [],
   "source": [
    "if not EXEC_FLAG:\n",
    "  floor_info, floor_map = read_floor_data(f\"../../data/metadata/{site_id}/{floor_id}\")\n",
    "\n",
    "  transform_func = lambda coords: coords\n",
    "\n",
    "  (\n",
    "    floor_polygons,\n",
    "    store_polygons,\n",
    "    x_min,\n",
    "    y_min,\n",
    "    x_max,\n",
    "    y_max,\n",
    "    width_meter,\n",
    "    height_meter,\n",
    "  ) = extract_floor_map_geometries(floor_map, floor_info, transform=transform_func)"
   ]
  },
  {
   "cell_type": "code",
   "execution_count": 18,
   "metadata": {},
   "outputs": [],
   "source": [
    "if not EXEC_FLAG:\n",
    "  fig, ax = plt.subplots(1, 1, figsize=(10, 6))\n",
    "\n",
    "  plot_floor_map(floor_polygons, store_polygons, ax=ax)\n",
    "\n",
    "  train_fingerprint_location = transform_func(train_wifi_location_df[[\"x\", \"y\"]].values)\n",
    "  test_fingerprint_location = transform_func(test_wifi_location_df[[\"x\", \"y\"]].values)\n",
    "  ax.scatter(train_fingerprint_location[:, 0],\n",
    "            train_fingerprint_location[:, 1],\n",
    "            s=0.5,\n",
    "            marker=\"o\",\n",
    "            color=\"red\",\n",
    "            label=\"train\",\n",
    "            alpha=0.5)\n",
    "  ax.scatter(test_fingerprint_location[:, 0],\n",
    "            test_fingerprint_location[:, 1],\n",
    "            marker=\"^\",\n",
    "            s=0.5,\n",
    "            color=\"blue\",\n",
    "            label=\"test\",\n",
    "            alpha=0.5)\n",
    "  ax.legend()\n",
    "\n",
    "  plt.ticklabel_format(useOffset=False)\n",
    "  plt.show()"
   ]
  },
  {
   "cell_type": "markdown",
   "metadata": {},
   "source": [
    "## KNN Regression"
   ]
  },
  {
   "cell_type": "code",
   "execution_count": 18,
   "metadata": {},
   "outputs": [
    {
     "name": "stderr",
     "output_type": "stream",
     "text": [
      "Progress on [site/floor]:   0%|          | 0/137 [00:00<?, ?it/s]"
     ]
    },
    {
     "name": "stdout",
     "output_type": "stream",
     "text": [
      "Start processing for 5a0546857ecc773753327266/B1\n",
      "Train: n_files=47, n_records=186710\n",
      "Test: n_files=52, n_records=66133\n",
      "The number of train samples: 1067\n",
      "The number of test samples: 444\n"
     ]
    },
    {
     "name": "stderr",
     "output_type": "stream",
     "text": [
      "100%|██████████| 72/72 [00:17<00:00,  4.02it/s]\n",
      "Progress on [site/floor]:   1%|          | 1/137 [00:21<48:31, 21.41s/it]"
     ]
    },
    {
     "name": "stdout",
     "output_type": "stream",
     "text": [
      "Start processing for 5a0546857ecc773753327266/F1\n",
      "Train: n_files=58, n_records=359509\n",
      "Test: n_files=62, n_records=154442\n",
      "The number of train samples: 914\n",
      "The number of test samples: 381\n"
     ]
    },
    {
     "name": "stderr",
     "output_type": "stream",
     "text": []
    }
   ],
   "source": [
    "failed = []\n",
    "\n",
    "for site_id, floor_id in tqdm(unique_floors, desc=\"Progress on [site/floor]\"):\n",
    "  try:\n",
    "    print(f\"Start processing for {site_id}/{floor_id}\")\n",
    "    train_tracks = supervision_floor_df.loc[\n",
    "        (supervision_floor_df[\"site_id\"] == site_id) &\n",
    "        (supervision_floor_df[\"floor_id\"] == floor_id)]\n",
    "\n",
    "    test_tracks = train_test_assignment.loc[\n",
    "        (train_test_assignment[\"site_id\"] == site_id) &\n",
    "        (train_test_assignment[\"floor_id\"] == floor_id) &\n",
    "        (train_test_assignment[\"dataset\"] == \"test\")]\n",
    "\n",
    "    train_files = get_track_filepaths(train_tracks, BASE_DATA_DIR)\n",
    "    test_files = get_track_filepaths(test_tracks, BASE_DATA_DIR)\n",
    "\n",
    "    train_wifi_location_df_list = read_wifi_location_df_list(train_files)\n",
    "    test_wifi_location_df_list = read_wifi_location_df_list(test_files)\n",
    "\n",
    "    train_wifi_location_df = pd.concat(train_wifi_location_df_list)\n",
    "    test_wifi_location_df = pd.concat(test_wifi_location_df_list)\n",
    "\n",
    "    print(f\"Train: n_files={len(train_files)}, n_records={train_wifi_location_df.shape[0]}\")\n",
    "    print(f\"Test: n_files={len(test_files)}, n_records={test_wifi_location_df.shape[0]}\")\n",
    "\n",
    "    train_fingerprint_df, train_bssid = extract_fingerprint_df(train_wifi_location_df_list)\n",
    "    test_fingerprint_df, test_bssid = extract_fingerprint_df(test_wifi_location_df_list)\n",
    "    X_train, y_train, X_test, y_test, bssid_vector = extract_train_test(\n",
    "      train_fingerprint_df, train_bssid,\n",
    "      test_fingerprint_df, test_bssid\n",
    "    )\n",
    "    assert len(X_train) == len(y_train)\n",
    "    assert len(X_test) == len(y_test)\n",
    "\n",
    "    print(f\"The number of train samples: {X_train.shape[0]}\")\n",
    "    print(f\"The number of test samples: {X_test.shape[0]}\")\n",
    "    options_min_rss = range(-100, -70, 5)\n",
    "    options_metric = [\"l1\", \"l2\", \"cosine\"]\n",
    "    options_n_neighbors = [1, 2, 4, 8]\n",
    "\n",
    "    results = run_knn_regression_experiments(\n",
    "      X_train,\n",
    "      y_train,\n",
    "      X_test,\n",
    "      y_test,\n",
    "      options_metric=options_metric,\n",
    "      options_n_neighbors=options_n_neighbors,\n",
    "      options_min_rss=options_min_rss\n",
    "    )\n",
    "    result_df = pd.DataFrame(results)\n",
    "    result_df.to_csv(os.path.join(output_data_dir, f\"{site_id}_{floor_id}.csv\"), index=False)\n",
    "  \n",
    "  except Exception as e:\n",
    "    print(f\"Failed to run kNN experiment for {site_id}/{floor_id}, caused by {type(e)}: {str(e)}\")\n",
    "    failed.append((site_id, floor_id))\n"
   ]
  },
  {
   "cell_type": "code",
   "execution_count": null,
   "metadata": {},
   "outputs": [],
   "source": []
  }
 ],
 "metadata": {
  "kernelspec": {
   "display_name": "venv",
   "language": "python",
   "name": "python3"
  },
  "language_info": {
   "codemirror_mode": {
    "name": "ipython",
    "version": 3
   },
   "file_extension": ".py",
   "mimetype": "text/x-python",
   "name": "python",
   "nbconvert_exporter": "python",
   "pygments_lexer": "ipython3",
   "version": "3.10.12"
  },
  "orig_nbformat": 4
 },
 "nbformat": 4,
 "nbformat_minor": 2
}
